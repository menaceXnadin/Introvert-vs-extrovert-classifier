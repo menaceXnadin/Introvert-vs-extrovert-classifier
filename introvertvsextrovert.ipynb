{
 "cells": [
  {
   "cell_type": "markdown",
   "id": "c83aa0f7522c63ee",
   "metadata": {},
   "source": [
    "# Importing Libraries\n",
    "This cell imports the necessary Python libraries for data analysis and visualization:\n",
    "- `numpy` for numerical operations\n",
    "- `pandas` for data manipulation\n",
    "- `matplotlib.pyplot` and `seaborn` for data visualization"
   ]
  },
  {
   "cell_type": "code",
   "execution_count": 1,
   "id": "ce85fae7",
   "metadata": {
    "ExecuteTime": {
     "end_time": "2025-06-22T23:21:45.070944Z",
     "start_time": "2025-06-22T23:21:45.063457Z"
    }
   },
   "outputs": [],
   "source": [
    "import numpy as np\n",
    "import pandas as pd\n",
    "import matplotlib.pyplot as plt\n",
    "import seaborn as sns"
   ]
  },
  {
   "cell_type": "markdown",
   "id": "91bc489deaaa81c5",
   "metadata": {},
   "source": [
    "# Loading Dataset\n",
    "This cell loads the dataset from a CSV file named `personality_dataset.csv` into a pandas DataFrame and displays the first few rows to give an overview of the data structure."
   ]
  },
  {
   "cell_type": "code",
   "execution_count": 2,
   "id": "0c977f7d",
   "metadata": {
    "ExecuteTime": {
     "end_time": "2025-06-22T23:21:45.167804Z",
     "start_time": "2025-06-22T23:21:45.106820Z"
    }
   },
   "outputs": [
    {
     "data": {
      "text/html": [
       "<div>\n",
       "<style scoped>\n",
       "    .dataframe tbody tr th:only-of-type {\n",
       "        vertical-align: middle;\n",
       "    }\n",
       "\n",
       "    .dataframe tbody tr th {\n",
       "        vertical-align: top;\n",
       "    }\n",
       "\n",
       "    .dataframe thead th {\n",
       "        text-align: right;\n",
       "    }\n",
       "</style>\n",
       "<table border=\"1\" class=\"dataframe\">\n",
       "  <thead>\n",
       "    <tr style=\"text-align: right;\">\n",
       "      <th></th>\n",
       "      <th>Time_spent_Alone</th>\n",
       "      <th>Stage_fear</th>\n",
       "      <th>Social_event_attendance</th>\n",
       "      <th>Going_outside</th>\n",
       "      <th>Drained_after_socializing</th>\n",
       "      <th>Friends_circle_size</th>\n",
       "      <th>Post_frequency</th>\n",
       "      <th>Personality</th>\n",
       "    </tr>\n",
       "  </thead>\n",
       "  <tbody>\n",
       "    <tr>\n",
       "      <th>0</th>\n",
       "      <td>4.0</td>\n",
       "      <td>No</td>\n",
       "      <td>4.0</td>\n",
       "      <td>6.0</td>\n",
       "      <td>No</td>\n",
       "      <td>13.0</td>\n",
       "      <td>5.0</td>\n",
       "      <td>Extrovert</td>\n",
       "    </tr>\n",
       "    <tr>\n",
       "      <th>1</th>\n",
       "      <td>9.0</td>\n",
       "      <td>Yes</td>\n",
       "      <td>0.0</td>\n",
       "      <td>0.0</td>\n",
       "      <td>Yes</td>\n",
       "      <td>0.0</td>\n",
       "      <td>3.0</td>\n",
       "      <td>Introvert</td>\n",
       "    </tr>\n",
       "    <tr>\n",
       "      <th>2</th>\n",
       "      <td>9.0</td>\n",
       "      <td>Yes</td>\n",
       "      <td>1.0</td>\n",
       "      <td>2.0</td>\n",
       "      <td>Yes</td>\n",
       "      <td>5.0</td>\n",
       "      <td>2.0</td>\n",
       "      <td>Introvert</td>\n",
       "    </tr>\n",
       "    <tr>\n",
       "      <th>3</th>\n",
       "      <td>0.0</td>\n",
       "      <td>No</td>\n",
       "      <td>6.0</td>\n",
       "      <td>7.0</td>\n",
       "      <td>No</td>\n",
       "      <td>14.0</td>\n",
       "      <td>8.0</td>\n",
       "      <td>Extrovert</td>\n",
       "    </tr>\n",
       "    <tr>\n",
       "      <th>4</th>\n",
       "      <td>3.0</td>\n",
       "      <td>No</td>\n",
       "      <td>9.0</td>\n",
       "      <td>4.0</td>\n",
       "      <td>No</td>\n",
       "      <td>8.0</td>\n",
       "      <td>5.0</td>\n",
       "      <td>Extrovert</td>\n",
       "    </tr>\n",
       "  </tbody>\n",
       "</table>\n",
       "</div>"
      ],
      "text/plain": [
       "   Time_spent_Alone Stage_fear  Social_event_attendance  Going_outside  \\\n",
       "0               4.0         No                      4.0            6.0   \n",
       "1               9.0        Yes                      0.0            0.0   \n",
       "2               9.0        Yes                      1.0            2.0   \n",
       "3               0.0         No                      6.0            7.0   \n",
       "4               3.0         No                      9.0            4.0   \n",
       "\n",
       "  Drained_after_socializing  Friends_circle_size  Post_frequency Personality  \n",
       "0                        No                 13.0             5.0   Extrovert  \n",
       "1                       Yes                  0.0             3.0   Introvert  \n",
       "2                       Yes                  5.0             2.0   Introvert  \n",
       "3                        No                 14.0             8.0   Extrovert  \n",
       "4                        No                  8.0             5.0   Extrovert  "
      ]
     },
     "execution_count": 2,
     "metadata": {},
     "output_type": "execute_result"
    }
   ],
   "source": [
    "df = pd.read_csv('personality_dataset.csv')\n",
    "df.head()"
   ]
  },
  {
   "cell_type": "markdown",
   "id": "c097a8ac",
   "metadata": {},
   "source": [
    "# Exploratory Data Preprocessing"
   ]
  },
  {
   "cell_type": "code",
   "execution_count": 3,
   "id": "7a001d9f",
   "metadata": {
    "ExecuteTime": {
     "end_time": "2025-06-22T23:21:45.889209Z",
     "start_time": "2025-06-22T23:21:45.873893Z"
    }
   },
   "outputs": [
    {
     "data": {
      "text/plain": [
       "(2900, 8)"
      ]
     },
     "execution_count": 3,
     "metadata": {},
     "output_type": "execute_result"
    }
   ],
   "source": [
    "df.shape"
   ]
  },
  {
   "cell_type": "markdown",
   "id": "e976f9bf07e987f8",
   "metadata": {},
   "source": [
    "# DataFrame Info"
   ]
  },
  {
   "cell_type": "code",
   "execution_count": 4,
   "id": "7352077b",
   "metadata": {
    "ExecuteTime": {
     "end_time": "2025-06-22T23:21:45.976463Z",
     "start_time": "2025-06-22T23:21:45.953992Z"
    }
   },
   "outputs": [
    {
     "name": "stdout",
     "output_type": "stream",
     "text": [
      "<class 'pandas.core.frame.DataFrame'>\n",
      "RangeIndex: 2900 entries, 0 to 2899\n",
      "Data columns (total 8 columns):\n",
      " #   Column                     Non-Null Count  Dtype  \n",
      "---  ------                     --------------  -----  \n",
      " 0   Time_spent_Alone           2837 non-null   float64\n",
      " 1   Stage_fear                 2827 non-null   object \n",
      " 2   Social_event_attendance    2838 non-null   float64\n",
      " 3   Going_outside              2834 non-null   float64\n",
      " 4   Drained_after_socializing  2848 non-null   object \n",
      " 5   Friends_circle_size        2823 non-null   float64\n",
      " 6   Post_frequency             2835 non-null   float64\n",
      " 7   Personality                2900 non-null   object \n",
      "dtypes: float64(5), object(3)\n",
      "memory usage: 181.4+ KB\n"
     ]
    }
   ],
   "source": [
    "df.info()"
   ]
  },
  {
   "cell_type": "markdown",
   "id": "734483f938143d59",
   "metadata": {},
   "source": [
    "## Checking for Duplicates\n",
    "- This cell checks for duplicate rows in the DataFrame, which can skew the analysis and results if present."
   ]
  },
  {
   "cell_type": "code",
   "execution_count": 5,
   "id": "cf190a1c",
   "metadata": {
    "ExecuteTime": {
     "end_time": "2025-06-22T23:21:46.749817Z",
     "start_time": "2025-06-22T23:21:46.734859Z"
    }
   },
   "outputs": [
    {
     "data": {
      "text/plain": [
       "0       False\n",
       "1       False\n",
       "2       False\n",
       "3       False\n",
       "4       False\n",
       "        ...  \n",
       "2895     True\n",
       "2896    False\n",
       "2897    False\n",
       "2898    False\n",
       "2899    False\n",
       "Length: 2900, dtype: bool"
      ]
     },
     "execution_count": 5,
     "metadata": {},
     "output_type": "execute_result"
    }
   ],
   "source": [
    "df.duplicated()"
   ]
  },
  {
   "cell_type": "markdown",
   "id": "aad2d7365c243520",
   "metadata": {},
   "source": [
    "# Checking for Missing Values\n",
    "This cell checks for missing values in each column of the DataFrame, helping to identify columns that may need data cleaning or imputation."
   ]
  },
  {
   "cell_type": "code",
   "execution_count": 6,
   "id": "25a7bc70",
   "metadata": {
    "ExecuteTime": {
     "end_time": "2025-06-22T23:21:46.971873Z",
     "start_time": "2025-06-22T23:21:46.962590Z"
    }
   },
   "outputs": [
    {
     "data": {
      "text/plain": [
       "Time_spent_Alone             63\n",
       "Stage_fear                   73\n",
       "Social_event_attendance      62\n",
       "Going_outside                66\n",
       "Drained_after_socializing    52\n",
       "Friends_circle_size          77\n",
       "Post_frequency               65\n",
       "Personality                   0\n",
       "dtype: int64"
      ]
     },
     "execution_count": 6,
     "metadata": {},
     "output_type": "execute_result"
    }
   ],
   "source": [
    "df.isnull().sum()"
   ]
  },
  {
   "cell_type": "markdown",
   "id": "35497e93d19dd035",
   "metadata": {},
   "source": [
    "# Counting Duplicates\n",
    "This cell counts the total number of duplicate rows in the DataFrame."
   ]
  },
  {
   "cell_type": "code",
   "execution_count": 7,
   "id": "6f3c5650",
   "metadata": {
    "ExecuteTime": {
     "end_time": "2025-06-22T23:21:47.193551Z",
     "start_time": "2025-06-22T23:21:47.187147Z"
    }
   },
   "outputs": [
    {
     "data": {
      "text/plain": [
       "np.int64(388)"
      ]
     },
     "execution_count": 7,
     "metadata": {},
     "output_type": "execute_result"
    }
   ],
   "source": [
    "df.duplicated().sum()"
   ]
  },
  {
   "cell_type": "markdown",
   "id": "53427f2c7f37b466",
   "metadata": {},
   "source": [
    "# Filtering Extroverts\n",
    "This cell filters the DataFrame for rows where the `Personality` column is 'Extrovert', creating a new DataFrame `df_ext` for extroverts."
   ]
  },
  {
   "cell_type": "code",
   "execution_count": 8,
   "id": "c5fc81a4",
   "metadata": {
    "ExecuteTime": {
     "end_time": "2025-06-22T23:21:47.498273Z",
     "start_time": "2025-06-22T23:21:47.475357Z"
    }
   },
   "outputs": [
    {
     "data": {
      "text/html": [
       "<div>\n",
       "<style scoped>\n",
       "    .dataframe tbody tr th:only-of-type {\n",
       "        vertical-align: middle;\n",
       "    }\n",
       "\n",
       "    .dataframe tbody tr th {\n",
       "        vertical-align: top;\n",
       "    }\n",
       "\n",
       "    .dataframe thead th {\n",
       "        text-align: right;\n",
       "    }\n",
       "</style>\n",
       "<table border=\"1\" class=\"dataframe\">\n",
       "  <thead>\n",
       "    <tr style=\"text-align: right;\">\n",
       "      <th></th>\n",
       "      <th>Time_spent_Alone</th>\n",
       "      <th>Stage_fear</th>\n",
       "      <th>Social_event_attendance</th>\n",
       "      <th>Going_outside</th>\n",
       "      <th>Drained_after_socializing</th>\n",
       "      <th>Friends_circle_size</th>\n",
       "      <th>Post_frequency</th>\n",
       "      <th>Personality</th>\n",
       "    </tr>\n",
       "  </thead>\n",
       "  <tbody>\n",
       "    <tr>\n",
       "      <th>0</th>\n",
       "      <td>4.0</td>\n",
       "      <td>No</td>\n",
       "      <td>4.0</td>\n",
       "      <td>6.0</td>\n",
       "      <td>No</td>\n",
       "      <td>13.0</td>\n",
       "      <td>5.0</td>\n",
       "      <td>Extrovert</td>\n",
       "    </tr>\n",
       "    <tr>\n",
       "      <th>3</th>\n",
       "      <td>0.0</td>\n",
       "      <td>No</td>\n",
       "      <td>6.0</td>\n",
       "      <td>7.0</td>\n",
       "      <td>No</td>\n",
       "      <td>14.0</td>\n",
       "      <td>8.0</td>\n",
       "      <td>Extrovert</td>\n",
       "    </tr>\n",
       "    <tr>\n",
       "      <th>4</th>\n",
       "      <td>3.0</td>\n",
       "      <td>No</td>\n",
       "      <td>9.0</td>\n",
       "      <td>4.0</td>\n",
       "      <td>No</td>\n",
       "      <td>8.0</td>\n",
       "      <td>5.0</td>\n",
       "      <td>Extrovert</td>\n",
       "    </tr>\n",
       "    <tr>\n",
       "      <th>5</th>\n",
       "      <td>1.0</td>\n",
       "      <td>No</td>\n",
       "      <td>7.0</td>\n",
       "      <td>5.0</td>\n",
       "      <td>No</td>\n",
       "      <td>6.0</td>\n",
       "      <td>6.0</td>\n",
       "      <td>Extrovert</td>\n",
       "    </tr>\n",
       "    <tr>\n",
       "      <th>6</th>\n",
       "      <td>4.0</td>\n",
       "      <td>No</td>\n",
       "      <td>9.0</td>\n",
       "      <td>NaN</td>\n",
       "      <td>No</td>\n",
       "      <td>7.0</td>\n",
       "      <td>7.0</td>\n",
       "      <td>Extrovert</td>\n",
       "    </tr>\n",
       "    <tr>\n",
       "      <th>...</th>\n",
       "      <td>...</td>\n",
       "      <td>...</td>\n",
       "      <td>...</td>\n",
       "      <td>...</td>\n",
       "      <td>...</td>\n",
       "      <td>...</td>\n",
       "      <td>...</td>\n",
       "      <td>...</td>\n",
       "    </tr>\n",
       "    <tr>\n",
       "      <th>2887</th>\n",
       "      <td>0.0</td>\n",
       "      <td>No</td>\n",
       "      <td>9.0</td>\n",
       "      <td>6.0</td>\n",
       "      <td>No</td>\n",
       "      <td>6.0</td>\n",
       "      <td>3.0</td>\n",
       "      <td>Extrovert</td>\n",
       "    </tr>\n",
       "    <tr>\n",
       "      <th>2894</th>\n",
       "      <td>0.0</td>\n",
       "      <td>No</td>\n",
       "      <td>9.0</td>\n",
       "      <td>3.0</td>\n",
       "      <td>No</td>\n",
       "      <td>12.0</td>\n",
       "      <td>NaN</td>\n",
       "      <td>Extrovert</td>\n",
       "    </tr>\n",
       "    <tr>\n",
       "      <th>2895</th>\n",
       "      <td>3.0</td>\n",
       "      <td>No</td>\n",
       "      <td>7.0</td>\n",
       "      <td>6.0</td>\n",
       "      <td>No</td>\n",
       "      <td>6.0</td>\n",
       "      <td>6.0</td>\n",
       "      <td>Extrovert</td>\n",
       "    </tr>\n",
       "    <tr>\n",
       "      <th>2896</th>\n",
       "      <td>3.0</td>\n",
       "      <td>No</td>\n",
       "      <td>8.0</td>\n",
       "      <td>3.0</td>\n",
       "      <td>No</td>\n",
       "      <td>14.0</td>\n",
       "      <td>9.0</td>\n",
       "      <td>Extrovert</td>\n",
       "    </tr>\n",
       "    <tr>\n",
       "      <th>2899</th>\n",
       "      <td>3.0</td>\n",
       "      <td>No</td>\n",
       "      <td>6.0</td>\n",
       "      <td>6.0</td>\n",
       "      <td>No</td>\n",
       "      <td>6.0</td>\n",
       "      <td>9.0</td>\n",
       "      <td>Extrovert</td>\n",
       "    </tr>\n",
       "  </tbody>\n",
       "</table>\n",
       "<p>1491 rows × 8 columns</p>\n",
       "</div>"
      ],
      "text/plain": [
       "      Time_spent_Alone Stage_fear  Social_event_attendance  Going_outside  \\\n",
       "0                  4.0         No                      4.0            6.0   \n",
       "3                  0.0         No                      6.0            7.0   \n",
       "4                  3.0         No                      9.0            4.0   \n",
       "5                  1.0         No                      7.0            5.0   \n",
       "6                  4.0         No                      9.0            NaN   \n",
       "...                ...        ...                      ...            ...   \n",
       "2887               0.0         No                      9.0            6.0   \n",
       "2894               0.0         No                      9.0            3.0   \n",
       "2895               3.0         No                      7.0            6.0   \n",
       "2896               3.0         No                      8.0            3.0   \n",
       "2899               3.0         No                      6.0            6.0   \n",
       "\n",
       "     Drained_after_socializing  Friends_circle_size  Post_frequency  \\\n",
       "0                           No                 13.0             5.0   \n",
       "3                           No                 14.0             8.0   \n",
       "4                           No                  8.0             5.0   \n",
       "5                           No                  6.0             6.0   \n",
       "6                           No                  7.0             7.0   \n",
       "...                        ...                  ...             ...   \n",
       "2887                        No                  6.0             3.0   \n",
       "2894                        No                 12.0             NaN   \n",
       "2895                        No                  6.0             6.0   \n",
       "2896                        No                 14.0             9.0   \n",
       "2899                        No                  6.0             9.0   \n",
       "\n",
       "     Personality  \n",
       "0      Extrovert  \n",
       "3      Extrovert  \n",
       "4      Extrovert  \n",
       "5      Extrovert  \n",
       "6      Extrovert  \n",
       "...          ...  \n",
       "2887   Extrovert  \n",
       "2894   Extrovert  \n",
       "2895   Extrovert  \n",
       "2896   Extrovert  \n",
       "2899   Extrovert  \n",
       "\n",
       "[1491 rows x 8 columns]"
      ]
     },
     "execution_count": 8,
     "metadata": {},
     "output_type": "execute_result"
    }
   ],
   "source": [
    "df_ext = df[df['Personality']=='Extrovert']\n",
    "df_ext"
   ]
  },
  {
   "cell_type": "markdown",
   "id": "d80f809fe1ec9aed",
   "metadata": {},
   "source": [
    "# Filtering Introverts\n",
    "This cell filters the DataFrame for rows where the `Personality` column is 'Introvert', creating a new DataFrame `df_inv` for introverts."
   ]
  },
  {
   "cell_type": "code",
   "execution_count": 9,
   "id": "0ae907d4",
   "metadata": {
    "ExecuteTime": {
     "end_time": "2025-06-22T23:21:47.645236Z",
     "start_time": "2025-06-22T23:21:47.633343Z"
    }
   },
   "outputs": [
    {
     "data": {
      "text/html": [
       "<div>\n",
       "<style scoped>\n",
       "    .dataframe tbody tr th:only-of-type {\n",
       "        vertical-align: middle;\n",
       "    }\n",
       "\n",
       "    .dataframe tbody tr th {\n",
       "        vertical-align: top;\n",
       "    }\n",
       "\n",
       "    .dataframe thead th {\n",
       "        text-align: right;\n",
       "    }\n",
       "</style>\n",
       "<table border=\"1\" class=\"dataframe\">\n",
       "  <thead>\n",
       "    <tr style=\"text-align: right;\">\n",
       "      <th></th>\n",
       "      <th>Time_spent_Alone</th>\n",
       "      <th>Stage_fear</th>\n",
       "      <th>Social_event_attendance</th>\n",
       "      <th>Going_outside</th>\n",
       "      <th>Drained_after_socializing</th>\n",
       "      <th>Friends_circle_size</th>\n",
       "      <th>Post_frequency</th>\n",
       "      <th>Personality</th>\n",
       "    </tr>\n",
       "  </thead>\n",
       "  <tbody>\n",
       "    <tr>\n",
       "      <th>1</th>\n",
       "      <td>9.0</td>\n",
       "      <td>Yes</td>\n",
       "      <td>0.0</td>\n",
       "      <td>0.0</td>\n",
       "      <td>Yes</td>\n",
       "      <td>0.0</td>\n",
       "      <td>3.0</td>\n",
       "      <td>Introvert</td>\n",
       "    </tr>\n",
       "    <tr>\n",
       "      <th>2</th>\n",
       "      <td>9.0</td>\n",
       "      <td>Yes</td>\n",
       "      <td>1.0</td>\n",
       "      <td>2.0</td>\n",
       "      <td>Yes</td>\n",
       "      <td>5.0</td>\n",
       "      <td>2.0</td>\n",
       "      <td>Introvert</td>\n",
       "    </tr>\n",
       "    <tr>\n",
       "      <th>8</th>\n",
       "      <td>10.0</td>\n",
       "      <td>Yes</td>\n",
       "      <td>1.0</td>\n",
       "      <td>3.0</td>\n",
       "      <td>Yes</td>\n",
       "      <td>0.0</td>\n",
       "      <td>3.0</td>\n",
       "      <td>Introvert</td>\n",
       "    </tr>\n",
       "    <tr>\n",
       "      <th>11</th>\n",
       "      <td>10.0</td>\n",
       "      <td>Yes</td>\n",
       "      <td>3.0</td>\n",
       "      <td>1.0</td>\n",
       "      <td>Yes</td>\n",
       "      <td>4.0</td>\n",
       "      <td>0.0</td>\n",
       "      <td>Introvert</td>\n",
       "    </tr>\n",
       "    <tr>\n",
       "      <th>14</th>\n",
       "      <td>6.0</td>\n",
       "      <td>Yes</td>\n",
       "      <td>3.0</td>\n",
       "      <td>0.0</td>\n",
       "      <td>Yes</td>\n",
       "      <td>1.0</td>\n",
       "      <td>3.0</td>\n",
       "      <td>Introvert</td>\n",
       "    </tr>\n",
       "    <tr>\n",
       "      <th>...</th>\n",
       "      <td>...</td>\n",
       "      <td>...</td>\n",
       "      <td>...</td>\n",
       "      <td>...</td>\n",
       "      <td>...</td>\n",
       "      <td>...</td>\n",
       "      <td>...</td>\n",
       "      <td>...</td>\n",
       "    </tr>\n",
       "    <tr>\n",
       "      <th>2891</th>\n",
       "      <td>6.0</td>\n",
       "      <td>Yes</td>\n",
       "      <td>3.0</td>\n",
       "      <td>1.0</td>\n",
       "      <td>Yes</td>\n",
       "      <td>5.0</td>\n",
       "      <td>1.0</td>\n",
       "      <td>Introvert</td>\n",
       "    </tr>\n",
       "    <tr>\n",
       "      <th>2892</th>\n",
       "      <td>9.0</td>\n",
       "      <td>Yes</td>\n",
       "      <td>2.0</td>\n",
       "      <td>0.0</td>\n",
       "      <td>Yes</td>\n",
       "      <td>1.0</td>\n",
       "      <td>2.0</td>\n",
       "      <td>Introvert</td>\n",
       "    </tr>\n",
       "    <tr>\n",
       "      <th>2893</th>\n",
       "      <td>9.0</td>\n",
       "      <td>NaN</td>\n",
       "      <td>2.0</td>\n",
       "      <td>0.0</td>\n",
       "      <td>Yes</td>\n",
       "      <td>4.0</td>\n",
       "      <td>2.0</td>\n",
       "      <td>Introvert</td>\n",
       "    </tr>\n",
       "    <tr>\n",
       "      <th>2897</th>\n",
       "      <td>4.0</td>\n",
       "      <td>Yes</td>\n",
       "      <td>1.0</td>\n",
       "      <td>1.0</td>\n",
       "      <td>Yes</td>\n",
       "      <td>4.0</td>\n",
       "      <td>0.0</td>\n",
       "      <td>Introvert</td>\n",
       "    </tr>\n",
       "    <tr>\n",
       "      <th>2898</th>\n",
       "      <td>11.0</td>\n",
       "      <td>Yes</td>\n",
       "      <td>1.0</td>\n",
       "      <td>NaN</td>\n",
       "      <td>Yes</td>\n",
       "      <td>2.0</td>\n",
       "      <td>0.0</td>\n",
       "      <td>Introvert</td>\n",
       "    </tr>\n",
       "  </tbody>\n",
       "</table>\n",
       "<p>1409 rows × 8 columns</p>\n",
       "</div>"
      ],
      "text/plain": [
       "      Time_spent_Alone Stage_fear  Social_event_attendance  Going_outside  \\\n",
       "1                  9.0        Yes                      0.0            0.0   \n",
       "2                  9.0        Yes                      1.0            2.0   \n",
       "8                 10.0        Yes                      1.0            3.0   \n",
       "11                10.0        Yes                      3.0            1.0   \n",
       "14                 6.0        Yes                      3.0            0.0   \n",
       "...                ...        ...                      ...            ...   \n",
       "2891               6.0        Yes                      3.0            1.0   \n",
       "2892               9.0        Yes                      2.0            0.0   \n",
       "2893               9.0        NaN                      2.0            0.0   \n",
       "2897               4.0        Yes                      1.0            1.0   \n",
       "2898              11.0        Yes                      1.0            NaN   \n",
       "\n",
       "     Drained_after_socializing  Friends_circle_size  Post_frequency  \\\n",
       "1                          Yes                  0.0             3.0   \n",
       "2                          Yes                  5.0             2.0   \n",
       "8                          Yes                  0.0             3.0   \n",
       "11                         Yes                  4.0             0.0   \n",
       "14                         Yes                  1.0             3.0   \n",
       "...                        ...                  ...             ...   \n",
       "2891                       Yes                  5.0             1.0   \n",
       "2892                       Yes                  1.0             2.0   \n",
       "2893                       Yes                  4.0             2.0   \n",
       "2897                       Yes                  4.0             0.0   \n",
       "2898                       Yes                  2.0             0.0   \n",
       "\n",
       "     Personality  \n",
       "1      Introvert  \n",
       "2      Introvert  \n",
       "8      Introvert  \n",
       "11     Introvert  \n",
       "14     Introvert  \n",
       "...          ...  \n",
       "2891   Introvert  \n",
       "2892   Introvert  \n",
       "2893   Introvert  \n",
       "2897   Introvert  \n",
       "2898   Introvert  \n",
       "\n",
       "[1409 rows x 8 columns]"
      ]
     },
     "execution_count": 9,
     "metadata": {},
     "output_type": "execute_result"
    }
   ],
   "source": [
    "df_inv = df[df['Personality']==\"Introvert\"]\n",
    "df_inv"
   ]
  },
  {
   "cell_type": "markdown",
   "id": "869d028876300f0b",
   "metadata": {},
   "source": [
    "# Descriptive Statistics\n",
    "This cell generates descriptive statistics for the numerical columns in the DataFrame, including count, mean, standard deviation, min, and max values."
   ]
  },
  {
   "cell_type": "code",
   "execution_count": 10,
   "id": "83fbb735187d1dec",
   "metadata": {
    "ExecuteTime": {
     "end_time": "2025-06-22T23:21:47.925916Z",
     "start_time": "2025-06-22T23:21:47.899989Z"
    }
   },
   "outputs": [
    {
     "data": {
      "text/html": [
       "<div>\n",
       "<style scoped>\n",
       "    .dataframe tbody tr th:only-of-type {\n",
       "        vertical-align: middle;\n",
       "    }\n",
       "\n",
       "    .dataframe tbody tr th {\n",
       "        vertical-align: top;\n",
       "    }\n",
       "\n",
       "    .dataframe thead th {\n",
       "        text-align: right;\n",
       "    }\n",
       "</style>\n",
       "<table border=\"1\" class=\"dataframe\">\n",
       "  <thead>\n",
       "    <tr style=\"text-align: right;\">\n",
       "      <th></th>\n",
       "      <th>Time_spent_Alone</th>\n",
       "      <th>Social_event_attendance</th>\n",
       "      <th>Going_outside</th>\n",
       "      <th>Friends_circle_size</th>\n",
       "      <th>Post_frequency</th>\n",
       "    </tr>\n",
       "  </thead>\n",
       "  <tbody>\n",
       "    <tr>\n",
       "      <th>count</th>\n",
       "      <td>2837.000000</td>\n",
       "      <td>2838.000000</td>\n",
       "      <td>2834.000000</td>\n",
       "      <td>2823.000000</td>\n",
       "      <td>2835.000000</td>\n",
       "    </tr>\n",
       "    <tr>\n",
       "      <th>mean</th>\n",
       "      <td>4.505816</td>\n",
       "      <td>3.963354</td>\n",
       "      <td>3.000000</td>\n",
       "      <td>6.268863</td>\n",
       "      <td>3.564727</td>\n",
       "    </tr>\n",
       "    <tr>\n",
       "      <th>std</th>\n",
       "      <td>3.479192</td>\n",
       "      <td>2.903827</td>\n",
       "      <td>2.247327</td>\n",
       "      <td>4.289693</td>\n",
       "      <td>2.926582</td>\n",
       "    </tr>\n",
       "    <tr>\n",
       "      <th>min</th>\n",
       "      <td>0.000000</td>\n",
       "      <td>0.000000</td>\n",
       "      <td>0.000000</td>\n",
       "      <td>0.000000</td>\n",
       "      <td>0.000000</td>\n",
       "    </tr>\n",
       "    <tr>\n",
       "      <th>25%</th>\n",
       "      <td>2.000000</td>\n",
       "      <td>2.000000</td>\n",
       "      <td>1.000000</td>\n",
       "      <td>3.000000</td>\n",
       "      <td>1.000000</td>\n",
       "    </tr>\n",
       "    <tr>\n",
       "      <th>50%</th>\n",
       "      <td>4.000000</td>\n",
       "      <td>3.000000</td>\n",
       "      <td>3.000000</td>\n",
       "      <td>5.000000</td>\n",
       "      <td>3.000000</td>\n",
       "    </tr>\n",
       "    <tr>\n",
       "      <th>75%</th>\n",
       "      <td>8.000000</td>\n",
       "      <td>6.000000</td>\n",
       "      <td>5.000000</td>\n",
       "      <td>10.000000</td>\n",
       "      <td>6.000000</td>\n",
       "    </tr>\n",
       "    <tr>\n",
       "      <th>max</th>\n",
       "      <td>11.000000</td>\n",
       "      <td>10.000000</td>\n",
       "      <td>7.000000</td>\n",
       "      <td>15.000000</td>\n",
       "      <td>10.000000</td>\n",
       "    </tr>\n",
       "  </tbody>\n",
       "</table>\n",
       "</div>"
      ],
      "text/plain": [
       "       Time_spent_Alone  Social_event_attendance  Going_outside  \\\n",
       "count       2837.000000              2838.000000    2834.000000   \n",
       "mean           4.505816                 3.963354       3.000000   \n",
       "std            3.479192                 2.903827       2.247327   \n",
       "min            0.000000                 0.000000       0.000000   \n",
       "25%            2.000000                 2.000000       1.000000   \n",
       "50%            4.000000                 3.000000       3.000000   \n",
       "75%            8.000000                 6.000000       5.000000   \n",
       "max           11.000000                10.000000       7.000000   \n",
       "\n",
       "       Friends_circle_size  Post_frequency  \n",
       "count          2823.000000     2835.000000  \n",
       "mean              6.268863        3.564727  \n",
       "std               4.289693        2.926582  \n",
       "min               0.000000        0.000000  \n",
       "25%               3.000000        1.000000  \n",
       "50%               5.000000        3.000000  \n",
       "75%              10.000000        6.000000  \n",
       "max              15.000000       10.000000  "
      ]
     },
     "execution_count": 10,
     "metadata": {},
     "output_type": "execute_result"
    }
   ],
   "source": [
    "df.describe()"
   ]
  },
  {
   "cell_type": "markdown",
   "id": "bc3374cf7ffc5c38",
   "metadata": {},
   "source": [
    "# Personality Value Counts\n",
    "This cell counts the number of occurrences for each personality type in the `Personality` column."
   ]
  },
  {
   "cell_type": "code",
   "execution_count": 11,
   "id": "fc712ac5",
   "metadata": {
    "ExecuteTime": {
     "end_time": "2025-06-22T23:21:48.140656Z",
     "start_time": "2025-06-22T23:21:48.129303Z"
    }
   },
   "outputs": [
    {
     "data": {
      "text/plain": [
       "Personality\n",
       "Extrovert    1491\n",
       "Introvert    1409\n",
       "Name: count, dtype: int64"
      ]
     },
     "execution_count": 11,
     "metadata": {},
     "output_type": "execute_result"
    }
   ],
   "source": [
    "df['Personality'].value_counts()"
   ]
  },
  {
   "cell_type": "markdown",
   "id": "99852847",
   "metadata": {},
   "source": [
    "# Visualizing Missing Values\n",
    "This cell visualizes the missing values in the DataFrame using a heatmap, where missing values are shown in a different color."
   ]
  },
  {
   "cell_type": "code",
   "execution_count": 12,
   "id": "c8246807",
   "metadata": {
    "ExecuteTime": {
     "end_time": "2025-06-22T23:21:48.794266Z",
     "start_time": "2025-06-22T23:21:48.394910Z"
    }
   },
   "outputs": [
    {
     "data": {
      "text/plain": [
       "<Axes: >"
      ]
     },
     "execution_count": 12,
     "metadata": {},
     "output_type": "execute_result"
    },
    {
     "data": {
      "image/png": "[encoded data removed]",
      "text/plain": [
       "<Figure size 640x480 with 2 Axes>"
      ]
     },
     "metadata": {},
     "output_type": "display_data"
    }
   ],
   "source": [
    "sns.heatmap(df.isnull(),cbar=True)"
   ]
  },
  {
   "cell_type": "markdown",
   "id": "52b358b9fba45b99",
   "metadata": {},
   "source": [
    "# Visualizing Missing Values (Zoomed)\n",
    "This cell visualizes a zoomed-in section of the DataFrame's missing values for a more detailed view."
   ]
  },
  {
   "cell_type": "code",
   "execution_count": 13,
   "id": "93e128ef",
   "metadata": {
    "ExecuteTime": {
     "end_time": "2025-06-22T23:21:49.108427Z",
     "start_time": "2025-06-22T23:21:48.837572Z"
    }
   },
   "outputs": [
    {
     "data": {
      "text/plain": [
       "<Axes: >"
      ]
     },
     "execution_count": 13,
     "metadata": {},
     "output_type": "execute_result"
    },
    {
     "data": {
      "image/png": "[encoded data removed]",
      "text/plain": [
       "<Figure size 640x480 with 2 Axes>"
      ]
     },
     "metadata": {},
     "output_type": "display_data"
    }
   ],
   "source": [
    "zoomed_df = df[112:336]\n",
    "sns.heatmap(zoomed_df.isnull(),cbar=True)"
   ]
  },
  {
   "cell_type": "markdown",
   "id": "5ced28d193672aeb",
   "metadata": {},
   "source": [
    "# Visualizing Missing Values with missingno\n",
    "This cell uses the `missingno` library to visualize the missing values in the DataFrame, providing a different perspective on the completeness of the data."
   ]
  },
  {
   "cell_type": "code",
   "execution_count": 14,
   "id": "4b78bdcdccec39d5",
   "metadata": {
    "ExecuteTime": {
     "end_time": "2025-06-22T23:21:49.511431Z",
     "start_time": "2025-06-22T23:21:49.201446Z"
    }
   },
   "outputs": [
    {
     "data": {
      "image/png": "[encoded data removed]",
      "text/plain": [
       "<Figure size 2500x1000 with 2 Axes>"
      ]
     },
     "metadata": {},
     "output_type": "display_data"
    }
   ],
   "source": [
    "import missingno as msno\n",
    "msno.matrix(df)\n",
    "plt.show()"
   ]
  },
  {
   "cell_type": "markdown",
   "id": "921d68676d403c38",
   "metadata": {},
   "source": [
    "# Univariate Analysis: Personality Distribution\n",
    "This cell performs univariate analysis on the `Personality` column, visualizing the distribution of personality types in the dataset."
   ]
  },
  {
   "cell_type": "code",
   "execution_count": 15,
   "id": "5bf45b9a",
   "metadata": {
    "ExecuteTime": {
     "end_time": "2025-06-22T23:21:49.679943Z",
     "start_time": "2025-06-22T23:21:49.549937Z"
    }
   },
   "outputs": [
    {
     "data": {
      "text/plain": [
       "<Axes: xlabel='Personality'>"
      ]
     },
     "execution_count": 15,
     "metadata": {},
     "output_type": "execute_result"
    },
    {
     "data": {
      "image/png": "[encoded data removed]",
      "text/plain": [
       "<Figure size 640x480 with 1 Axes>"
      ]
     },
     "metadata": {},
     "output_type": "display_data"
    }
   ],
   "source": [
    "#univariate analysis\n",
    "df['Personality'].value_counts().plot(kind='bar')"
   ]
  },
  {
   "cell_type": "code",
   "execution_count": 16,
   "id": "f3d3173f",
   "metadata": {
    "ExecuteTime": {
     "end_time": "2025-06-22T23:21:49.728048Z",
     "start_time": "2025-06-22T23:21:49.722378Z"
    }
   },
   "outputs": [
    {
     "data": {
      "text/plain": [
       "Index(['Time_spent_Alone', 'Stage_fear', 'Social_event_attendance',\n",
       "       'Going_outside', 'Drained_after_socializing', 'Friends_circle_size',\n",
       "       'Post_frequency', 'Personality'],\n",
       "      dtype='object')"
      ]
     },
     "execution_count": 16,
     "metadata": {},
     "output_type": "execute_result"
    }
   ],
   "source": [
    "df.columns"
   ]
  },
  {
   "cell_type": "code",
   "execution_count": 17,
   "id": "1aeb9bc5",
   "metadata": {
    "ExecuteTime": {
     "end_time": "2025-06-22T23:21:49.819652Z",
     "start_time": "2025-06-22T23:21:49.812056Z"
    }
   },
   "outputs": [
    {
     "data": {
      "text/plain": [
       "0        4.0\n",
       "1        9.0\n",
       "2        9.0\n",
       "3        0.0\n",
       "4        3.0\n",
       "        ... \n",
       "2895     3.0\n",
       "2896     3.0\n",
       "2897     4.0\n",
       "2898    11.0\n",
       "2899     3.0\n",
       "Name: Time_spent_Alone, Length: 2900, dtype: float64"
      ]
     },
     "execution_count": 17,
     "metadata": {},
     "output_type": "execute_result"
    }
   ],
   "source": [
    "df['Time_spent_Alone']"
   ]
  },
  {
   "cell_type": "code",
   "execution_count": 18,
   "id": "a13f5843",
   "metadata": {
    "ExecuteTime": {
     "end_time": "2025-06-22T23:21:49.958422Z",
     "start_time": "2025-06-22T23:21:49.943966Z"
    }
   },
   "outputs": [
    {
     "data": {
      "text/plain": [
       "np.int64(190)"
      ]
     },
     "execution_count": 18,
     "metadata": {},
     "output_type": "execute_result"
    }
   ],
   "source": [
    "(df['Time_spent_Alone']==4).sum()"
   ]
  },
  {
   "cell_type": "code",
   "execution_count": 19,
   "id": "a0299090",
   "metadata": {
    "ExecuteTime": {
     "end_time": "2025-06-22T23:21:50.383225Z",
     "start_time": "2025-06-22T23:21:50.120035Z"
    }
   },
   "outputs": [
    {
     "data": {
      "text/plain": [
       "<Axes: xlabel='Time_spent_Alone', ylabel='Count'>"
      ]
     },
     "execution_count": 19,
     "metadata": {},
     "output_type": "execute_result"
    },
    {
     "data": {
      "image/png": "[encoded data removed]",
      "text/plain": [
       "<Figure size 640x480 with 1 Axes>"
      ]
     },
     "metadata": {},
     "output_type": "display_data"
    }
   ],
   "source": [
    "sns.histplot(df['Time_spent_Alone'].dropna(),kde=True,bins=range(0,13))"
   ]
  },
  {
   "cell_type": "code",
   "execution_count": 20,
   "id": "c49113e5",
   "metadata": {
    "ExecuteTime": {
     "end_time": "2025-06-22T23:21:50.628098Z",
     "start_time": "2025-06-22T23:21:50.417951Z"
    }
   },
   "outputs": [
    {
     "data": {
      "text/plain": [
       "<Axes: title={'center': 'extrovert'}, ylabel='Time_spent_Alone'>"
      ]
     },
     "execution_count": 20,
     "metadata": {},
     "output_type": "execute_result"
    },
    {
     "data": {
      "image/png": "[encoded data removed]",
      "text/plain": [
       "<Figure size 640x480 with 2 Axes>"
      ]
     },
     "metadata": {},
     "output_type": "display_data"
    }
   ],
   "source": [
    "plt.Figure(figsize=(12,12))\n",
    "fig,ax=plt.subplots(1,2)\n",
    "ax[0].set_title(\"introvert\")\n",
    "sns.boxplot(df_inv['Time_spent_Alone'],ax=ax[0])\n",
    "ax[1].set_title(\"extrovert\")\n",
    "sns.boxplot(df_ext['Time_spent_Alone'],ax=ax[1])"
   ]
  },
  {
   "cell_type": "code",
   "execution_count": 21,
   "id": "7c4444c7",
   "metadata": {
    "ExecuteTime": {
     "end_time": "2025-06-22T23:21:50.709598Z",
     "start_time": "2025-06-22T23:21:50.691140Z"
    }
   },
   "outputs": [
    {
     "data": {
      "text/html": [
       "<div>\n",
       "<style scoped>\n",
       "    .dataframe tbody tr th:only-of-type {\n",
       "        vertical-align: middle;\n",
       "    }\n",
       "\n",
       "    .dataframe tbody tr th {\n",
       "        vertical-align: top;\n",
       "    }\n",
       "\n",
       "    .dataframe thead th {\n",
       "        text-align: right;\n",
       "    }\n",
       "</style>\n",
       "<table border=\"1\" class=\"dataframe\">\n",
       "  <thead>\n",
       "    <tr style=\"text-align: right;\">\n",
       "      <th></th>\n",
       "      <th>Time_spent_Alone</th>\n",
       "      <th>Stage_fear</th>\n",
       "      <th>Social_event_attendance</th>\n",
       "      <th>Going_outside</th>\n",
       "      <th>Drained_after_socializing</th>\n",
       "      <th>Friends_circle_size</th>\n",
       "      <th>Post_frequency</th>\n",
       "      <th>Personality</th>\n",
       "    </tr>\n",
       "  </thead>\n",
       "  <tbody>\n",
       "    <tr>\n",
       "      <th>0</th>\n",
       "      <td>4.0</td>\n",
       "      <td>No</td>\n",
       "      <td>4.0</td>\n",
       "      <td>6.0</td>\n",
       "      <td>No</td>\n",
       "      <td>13.0</td>\n",
       "      <td>5.0</td>\n",
       "      <td>Extrovert</td>\n",
       "    </tr>\n",
       "    <tr>\n",
       "      <th>1</th>\n",
       "      <td>9.0</td>\n",
       "      <td>Yes</td>\n",
       "      <td>0.0</td>\n",
       "      <td>0.0</td>\n",
       "      <td>Yes</td>\n",
       "      <td>0.0</td>\n",
       "      <td>3.0</td>\n",
       "      <td>Introvert</td>\n",
       "    </tr>\n",
       "    <tr>\n",
       "      <th>2</th>\n",
       "      <td>9.0</td>\n",
       "      <td>Yes</td>\n",
       "      <td>1.0</td>\n",
       "      <td>2.0</td>\n",
       "      <td>Yes</td>\n",
       "      <td>5.0</td>\n",
       "      <td>2.0</td>\n",
       "      <td>Introvert</td>\n",
       "    </tr>\n",
       "    <tr>\n",
       "      <th>3</th>\n",
       "      <td>0.0</td>\n",
       "      <td>No</td>\n",
       "      <td>6.0</td>\n",
       "      <td>7.0</td>\n",
       "      <td>No</td>\n",
       "      <td>14.0</td>\n",
       "      <td>8.0</td>\n",
       "      <td>Extrovert</td>\n",
       "    </tr>\n",
       "    <tr>\n",
       "      <th>4</th>\n",
       "      <td>3.0</td>\n",
       "      <td>No</td>\n",
       "      <td>9.0</td>\n",
       "      <td>4.0</td>\n",
       "      <td>No</td>\n",
       "      <td>8.0</td>\n",
       "      <td>5.0</td>\n",
       "      <td>Extrovert</td>\n",
       "    </tr>\n",
       "  </tbody>\n",
       "</table>\n",
       "</div>"
      ],
      "text/plain": [
       "   Time_spent_Alone Stage_fear  Social_event_attendance  Going_outside  \\\n",
       "0               4.0         No                      4.0            6.0   \n",
       "1               9.0        Yes                      0.0            0.0   \n",
       "2               9.0        Yes                      1.0            2.0   \n",
       "3               0.0         No                      6.0            7.0   \n",
       "4               3.0         No                      9.0            4.0   \n",
       "\n",
       "  Drained_after_socializing  Friends_circle_size  Post_frequency Personality  \n",
       "0                        No                 13.0             5.0   Extrovert  \n",
       "1                       Yes                  0.0             3.0   Introvert  \n",
       "2                       Yes                  5.0             2.0   Introvert  \n",
       "3                        No                 14.0             8.0   Extrovert  \n",
       "4                        No                  8.0             5.0   Extrovert  "
      ]
     },
     "execution_count": 21,
     "metadata": {},
     "output_type": "execute_result"
    }
   ],
   "source": [
    "df.head()"
   ]
  },
  {
   "cell_type": "code",
   "execution_count": 22,
   "id": "8b5001f9",
   "metadata": {
    "ExecuteTime": {
     "end_time": "2025-06-22T23:21:50.784816Z",
     "start_time": "2025-06-22T23:21:50.774744Z"
    }
   },
   "outputs": [
    {
     "data": {
      "text/plain": [
       "Time_spent_Alone             float64\n",
       "Stage_fear                    object\n",
       "Social_event_attendance      float64\n",
       "Going_outside                float64\n",
       "Drained_after_socializing     object\n",
       "Friends_circle_size          float64\n",
       "Post_frequency               float64\n",
       "Personality                   object\n",
       "dtype: object"
      ]
     },
     "execution_count": 22,
     "metadata": {},
     "output_type": "execute_result"
    }
   ],
   "source": [
    "df.dtypes"
   ]
  },
  {
   "cell_type": "code",
   "execution_count": 23,
   "id": "482230fa",
   "metadata": {
    "ExecuteTime": {
     "end_time": "2025-06-22T23:21:50.951577Z",
     "start_time": "2025-06-22T23:21:50.948577Z"
    }
   },
   "outputs": [],
   "source": [
    "numerical_features= ['Time_spent_Alone','Social_event_attendance','Going_outside','Friends_circle_size','Post_frequency']\n",
    "categorical_features =['Stage_fear','Drained_after_socializing']\n",
    "target = 'Personality'"
   ]
  },
  {
   "cell_type": "code",
   "execution_count": 24,
   "id": "ec8c588c",
   "metadata": {
    "ExecuteTime": {
     "end_time": "2025-06-22T23:21:51.182499Z",
     "start_time": "2025-06-22T23:21:51.176490Z"
    }
   },
   "outputs": [
    {
     "name": "stdout",
     "output_type": "stream",
     "text": [
      "Stage_fear\n",
      "No     1417\n",
      "Yes    1410\n",
      "Name: count, dtype: int64\n",
      "Drained_after_socializing\n",
      "No     1441\n",
      "Yes    1407\n",
      "Name: count, dtype: int64\n"
     ]
    }
   ],
   "source": [
    "for col in categorical_features:\n",
    "    print(df[col].value_counts())"
   ]
  },
  {
   "cell_type": "code",
   "execution_count": null,
   "id": "e290fb2d72be4bc",
   "metadata": {},
   "outputs": [],
   "source": [
    "plt.figure(figsize=(15,15))\n",
    "for i ,col in enumerate(numerical_features,1):\n",
    "    plt.subplot(3,3,i)\n",
    "    sns.boxplot(x=target,y=col,hue=target,data=df)\n"
   ]
  },
  {
   "cell_type": "code",
   "execution_count": null,
   "id": "3ad12fb68a945ffa",
   "metadata": {},
   "outputs": [],
   "source": [
    "sns.pairplot(df[numerical_features+[target]],hue=target,diag_kind='kde')"
   ]
  },
  {
   "cell_type": "code",
   "execution_count": null,
   "id": "4fcbe4f274108902",
   "metadata": {},
   "outputs": [],
   "source": [
    "sns.heatmap(df[numerical_features].corr(),annot=True)"
   ]
  },
  {
   "cell_type": "markdown",
   "id": "f9654245183ec3c9",
   "metadata": {},
   "source": [
    "# Data PreProcessing\n",
    "This section handles data preprocessing, including encoding categorical variables, imputing missing values, and scaling numerical features."
   ]
  },
  {
   "cell_type": "code",
   "execution_count": null,
   "id": "76f0158dd1809c67",
   "metadata": {},
   "outputs": [],
   "source": [
    "from sklearn.preprocessing import LabelEncoder"
   ]
  },
  {
   "cell_type": "code",
   "execution_count": null,
   "id": "d4313471ef51b890",
   "metadata": {},
   "outputs": [],
   "source": [
    "df.drop_duplicates(inplace=True)"
   ]
  },
  {
   "cell_type": "code",
   "execution_count": null,
   "id": "46b266b2ca9afe32",
   "metadata": {},
   "outputs": [],
   "source": [
    "df.duplicated().sum()"
   ]
  },
  {
   "cell_type": "code",
   "execution_count": null,
   "id": "fc9bc00b98129f2c",
   "metadata": {},
   "outputs": [],
   "source": [
    "bar_data = df.isnull().sum()\n",
    "bar_data"
   ]
  },
  {
   "cell_type": "code",
   "execution_count": null,
   "id": "634a5d084cdcfa49",
   "metadata": {},
   "outputs": [],
   "source": [
    "sns.barplot(bar_data)\n",
    "plt.xticks(rotation=90)"
   ]
  },
  {
   "cell_type": "code",
   "execution_count": null,
   "id": "cfa569506fb28285",
   "metadata": {},
   "outputs": [],
   "source": [
    "from sklearn.preprocessing import LabelEncoder\n",
    "\n",
    "le = LabelEncoder()\n",
    "df[target]=le.fit_transform(df[target])#transforming into numerical values\n",
    "print(f'Encoded class : {le.classes_} {le.transform(le.classes_)}')\n"
   ]
  },
  {
   "cell_type": "code",
   "execution_count": null,
   "id": "f5e23a4fb37d0b49",
   "metadata": {},
   "outputs": [],
   "source": [
    "print(categorical_features)"
   ]
  },
  {
   "cell_type": "code",
   "execution_count": null,
   "id": "bfbcf1dfcb795676",
   "metadata": {},
   "outputs": [],
   "source": [
    "print(numerical_features)"
   ]
  },
  {
   "cell_type": "code",
   "execution_count": null,
   "id": "3139e018fe37822d",
   "metadata": {},
   "outputs": [],
   "source": [
    "df[categorical_features]"
   ]
  },
  {
   "cell_type": "code",
   "execution_count": null,
   "id": "8866675b17da1718",
   "metadata": {},
   "outputs": [],
   "source": [
    "df"
   ]
  },
  {
   "cell_type": "code",
   "execution_count": null,
   "id": "ad71763b9c5a118",
   "metadata": {},
   "outputs": [],
   "source": [
    "from sklearn.impute import SimpleImputer\n",
    "\n",
    "from sklearn.compose import make_column_transformer\n",
    "\n",
    "\n",
    "#imputing numeric features\n",
    "num_imputer = SimpleImputer(strategy='median')\n",
    "df[numerical_features]=num_imputer.fit_transform(df[numerical_features])\n",
    "cat_imputer = SimpleImputer(strategy='most_frequent')\n",
    "df[categorical_features]=cat_imputer.fit_transform(df[categorical_features])\n",
    "\n",
    "# preprocessor = make_column_transformer(\n",
    "#     (num_imputer,numerical_features),\n",
    "#     (cat_imputer,categorical_features)\n",
    "# )\n",
    "# imputed = preprocessor.fit_transform(df)"
   ]
  },
  {
   "cell_type": "code",
   "execution_count": null,
   "id": "923e023db182bbdf",
   "metadata": {},
   "outputs": [],
   "source": [
    "df = pd.get_dummies(df, columns=categorical_features, drop_first=True)\n"
   ]
  },
  {
   "cell_type": "code",
   "execution_count": null,
   "id": "eda98a4406c61816",
   "metadata": {},
   "outputs": [],
   "source": [
    "df"
   ]
  },
  {
   "cell_type": "code",
   "execution_count": null,
   "id": "465368dc0f967280",
   "metadata": {},
   "outputs": [],
   "source": [
    "encoded_columns = [col for col in df.columns if col != target]"
   ]
  },
  {
   "cell_type": "code",
   "execution_count": null,
   "id": "ebe713873c76cb5f",
   "metadata": {},
   "outputs": [],
   "source": [
    "for col in numerical_features:\n",
    "    Q1 = df[col].quantile(0.25)\n",
    "    Q3 = df[col].quantile(0.75)\n",
    "    IQR = Q3 - Q1\n",
    "    lower_bound = Q1 - 1.5 * IQR\n",
    "    upper_bound = Q3 + 1.5 * IQR\n",
    "    df[col] = df[col].clip(lower=lower_bound, upper=upper_bound)"
   ]
  },
  {
   "cell_type": "code",
   "execution_count": null,
   "id": "a47bd58b21d22143",
   "metadata": {},
   "outputs": [],
   "source": [
    "df.describe()"
   ]
  },
  {
   "cell_type": "code",
   "execution_count": null,
   "id": "30a816370e316d7a",
   "metadata": {},
   "outputs": [],
   "source": [
    "#splitting the data\n",
    "X = df.drop(columns=[target])\n",
    "y = df[target]"
   ]
  },
  {
   "cell_type": "code",
   "execution_count": null,
   "id": "17c9e1b4c7e4240b",
   "metadata": {},
   "outputs": [],
   "source": [
    "X"
   ]
  },
  {
   "cell_type": "code",
   "execution_count": null,
   "id": "a9fe6ce7f60334a",
   "metadata": {},
   "outputs": [],
   "source": [
    "from sklearn.model_selection import train_test_split\n",
    "x_train,x_test,y_train,y_test= train_test_split(X,y,test_size=0.2,random_state=42,stratify=y)"
   ]
  },
  {
   "cell_type": "code",
   "execution_count": null,
   "id": "323ea6216ebecfbb",
   "metadata": {},
   "outputs": [],
   "source": [
    "from imblearn.over_sampling import SMOTE\n",
    "smote = SMOTE(random_state=42)\n",
    "x_train, y_train = smote.fit_resample(x_train, y_train)\n"
   ]
  },
  {
   "cell_type": "code",
   "execution_count": null,
   "id": "6bc2bd359148694f",
   "metadata": {},
   "outputs": [],
   "source": [
    "from sklearn.preprocessing import StandardScaler\n",
    "scaler = StandardScaler()\n",
    "x_train_scaled = scaler.fit_transform(x_train)\n",
    "x_test_scaled = scaler.transform(x_test)"
   ]
  },
  {
   "cell_type": "code",
   "execution_count": null,
   "id": "551f4f0236f93ac7",
   "metadata": {},
   "outputs": [],
   "source": [
    "from sklearn.linear_model import LogisticRegression\n",
    "from sklearn.svm import SVC\n",
    "from sklearn.ensemble import RandomForestClassifier, GradientBoostingClassifier\n",
    "from sklearn.neighbors import KNeighborsClassifier\n",
    "from sklearn.tree import DecisionTreeClassifier\n",
    "\n",
    "from xgboost import XGBClassifier\n",
    "models = {\n",
    "    'logistic': {\n",
    "        'model': LogisticRegression(max_iter=1000),\n",
    "        'use_scaled': True,\n",
    "        'params': {'C': np.logspace(-4, 4, 20), 'solver': ['lbfgs', 'liblinear']}\n",
    "    },\n",
    "    'svm': {\n",
    "        'model': SVC(probability=True),\n",
    "        'use_scaled': True,\n",
    "        'params': {'C': np.logspace(-3, 3, 20), 'kernel': ['rbf', 'linear'], 'gamma': ['scale', 'auto', 0.1, 1]}\n",
    "    },\n",
    "    'rf': {\n",
    "        'model': RandomForestClassifier(random_state=42),\n",
    "        'use_scaled': False,\n",
    "        'params': {'n_estimators': [100, 150], 'max_depth': [None, 10], 'min_samples_split': [2, 5]}\n",
    "    },\n",
    "    'gb': {\n",
    "        'model': GradientBoostingClassifier(random_state=42),\n",
    "        'use_scaled': False,\n",
    "        'params': {'n_estimators': [100, 200, 300], 'learning_rate': [0.01, 0.1, 0.2], 'max_depth': [3, 5, 7]}\n",
    "    },\n",
    "    'knn': {\n",
    "        'model': KNeighborsClassifier(),\n",
    "        'use_scaled': True,\n",
    "        'params': {'n_neighbors': [3, 5, 7, 9], 'weights': ['uniform', 'distance']}\n",
    "    },\n",
    "    'dt': {\n",
    "        'model': DecisionTreeClassifier(random_state=42),\n",
    "        'use_scaled': False,\n",
    "        'params': {'max_depth': [None, 5, 10, 15], 'min_samples_split': [2, 5, 10]}\n",
    "    },\n",
    "    'xgb': {\n",
    "        'model': XGBClassifier(random_state=42, eval_metric='logloss'),\n",
    "        'use_scaled': False,\n",
    "        'params': {'n_estimators': [100, 150], 'learning_rate': [0.05, 0.1], 'max_depth': [3, 5], 'subsample': [0.8]}\n",
    "    }\n",
    "}"
   ]
  },
  {
   "cell_type": "code",
   "execution_count": null,
   "id": "b52ba42ee9c41c3d",
   "metadata": {},
   "outputs": [],
   "source": [
    "from sklearn.model_selection import RandomizedSearchCV\n",
    "results = []\n",
    "best_score = 0\n",
    "best_model_name = \"\"\n",
    "best_model = None\n",
    "for model_name, mp in models.items():\n",
    "    clf = RandomizedSearchCV(mp['model'], mp['params'], n_iter=20, cv=3, scoring='f1_weighted', n_jobs=-1, random_state=42)\n",
    "    x_train_current = x_train_scaled if mp['use_scaled'] else x_train\n",
    "    clf.fit(x_train_current, y_train)\n",
    "    if clf.best_score_ > best_score:\n",
    "        best_score = clf.best_score_\n",
    "        best_model_name = model_name\n",
    "        best_model = clf.best_estimator_\n",
    "    results.append({\n",
    "        'model': model_name,\n",
    "        'best_score': clf.best_score_,\n",
    "        'best_params': clf.best_params_\n",
    "    })"
   ]
  },
  {
   "cell_type": "markdown",
   "id": "efb3af92f16c5ce9",
   "metadata": {},
   "source": [
    "# Saving the Modelb"
   ]
  },
  {
   "cell_type": "code",
   "execution_count": null,
   "id": "16ab2c4d8681825d",
   "metadata": {},
   "outputs": [],
   "source": [
    "print(\"Best score:\", best_score)\n",
    "print(\"Best model:\", best_model_name)\n",
    "print(\"Best Model:\", best_model)"
   ]
  },
  {
   "cell_type": "code",
   "execution_count": null,
   "id": "d7cfbc7cd7153e4e",
   "metadata": {},
   "outputs": [],
   "source": [
    "import  joblib\n",
    "joblib.dump(best_model,\"best_model.pkl\")"
   ]
  },
  {
   "cell_type": "code",
   "execution_count": null,
   "id": "85d446cb5e32b852",
   "metadata": {},
   "outputs": [],
   "source": [
    "df_results = pd.DataFrame(results)\n",
    "print(\"\\nModel Performance (Cross-Validation F1-Weighted Scores):\")\n",
    "print(df_results)"
   ]
  },
  {
   "cell_type": "code",
   "execution_count": null,
   "id": "e34b63a1a5beac07",
   "metadata": {},
   "outputs": [],
   "source": []
  },
  {
   "cell_type": "markdown",
   "id": "5b5317e7f34261aa",
   "metadata": {},
   "source": [
    "# Making Predictions on New Data\n",
    "This section demonstrates how to load the saved model and make predictions on new data.\n"
   ]
  },
  {
   "cell_type": "code",
   "execution_count": null,
   "id": "3a093966c84a024e",
   "metadata": {
    "ExecuteTime": {
     "end_time": "2025-06-22T23:42:39.549021Z",
     "start_time": "2025-06-22T23:42:39.537856Z"
    }
   },
   "outputs": [],
   "source": [
    "import joblib\n",
    "\n",
    "# Load the saved model\n",
    "loaded_model = joblib.load(\"best_model.pkl\")\n",
    "\n",
    "# Function to preprocess new data\n",
    "def preprocess_new_data(data_dict):\n",
    "    \"\"\"\n",
    "    Preprocess new data for prediction.\n",
    "\n",
    "    Parameters:\n",
    "    data_dict (dict): Dictionary containing the features for prediction\n",
    "\n",
    "    Returns:\n",
    "    processed_data: Preprocessed data ready for prediction\n",
    "    \"\"\"\n",
    "    # Create a DataFrame with the new data\n",
    "    new_data = pd.DataFrame([data_dict])\n",
    "\n",
    "    # Define the features\n",
    "    numerical_features = ['Time_spent_Alone', 'Social_event_attendance', 'Going_outside', \n",
    "                        'Friends_circle_size', 'Post_frequency']\n",
    "    categorical_features = ['Stage_fear', 'Drained_after_socializing']\n",
    "\n",
    "    # check if all required features are present\n",
    "    required_features = numerical_features + categorical_features\n",
    "    missing_features = [feat for feat in required_features if feat not in data_dict]\n",
    "    if missing_features:\n",
    "        raise ValueError(f\"Missing required features: {missing_features}\")\n",
    "\n",
    "    # Impute missing values if any\n",
    "    for col in numerical_features:\n",
    "        if pd.isna(new_data[col]).any():\n",
    "            new_data[col] = num_imputer.transform(new_data[[col]])\n",
    "\n",
    "    for col in categorical_features:\n",
    "        if pd.isna(new_data[col]).any():\n",
    "            new_data[col] = cat_imputer.transform(new_data[[col]])\n",
    "\n",
    "    # handle outliers for numerical features\n",
    "    for col in numerical_features:\n",
    "        Q1 = df[col].quantile(0.25)\n",
    "        Q3 = df[col].quantile(0.75)\n",
    "        IQR = Q3 - Q1\n",
    "        lower_bound = Q1 - 1.5 * IQR\n",
    "        upper_bound = Q3 + 1.5 * IQR\n",
    "        new_data[col] = new_data[col].clip(lower=lower_bound, upper=upper_bound)\n",
    "\n",
    "    # 1 hot encode categorical features\n",
    "    new_data = pd.get_dummies(new_data, columns=categorical_features, drop_first=True)\n",
    "\n",
    "    # chekcing if all columns used during training are present\n",
    "    for col in X.columns:\n",
    "        if col not in new_data.columns:\n",
    "            new_data[col] = 0\n",
    "\n",
    "    # keep only the columns used during training\n",
    "    new_data = new_data[X.columns]\n",
    "\n",
    "    # Scale the data if the best model requires scaled data\n",
    "    if best_model_name in ['logistic', 'svm', 'knn']:\n",
    "        new_data_scaled = scaler.transform(new_data)\n",
    "        return new_data_scaled\n",
    "    else:\n",
    "        return new_data\n",
    "\n",
    "# Function to make predictions\n",
    "def predict_personality(data_dict):\n",
    "    \"\"\"\n",
    "    Predict personality type (Introvert or Extrovert) based on input features.\n",
    "\n",
    "    Parameters:\n",
    "    data_dict (dict): Dictionary containing the features for prediction\n",
    "\n",
    "    Returns:\n",
    "    personality_type (str): Predicted personality type\n",
    "    probability (float): Probability of the prediction\n",
    "    \"\"\"\n",
    "    # Preprocess the data\n",
    "    processed_data = preprocess_new_data(data_dict)\n",
    "\n",
    "    # make prediction\n",
    "    prediction = loaded_model.predict(processed_data)\n",
    "    probabilities = loaded_model.predict_proba(processed_data)\n",
    "\n",
    "    # get the predicted class and its probability\n",
    "    predicted_class = prediction[0]\n",
    "    probability = probabilities[0][predicted_class]\n",
    "\n",
    "    # convert numeric prediction back to label\n",
    "    personality_type = le.inverse_transform([predicted_class])[0]\n",
    "\n",
    "    return personality_type, probability\n"
   ]
  },
  {
   "metadata": {},
   "cell_type": "markdown",
   "source": "# Example",
   "id": "530a6e5ae6109a0f"
  },
  {
   "cell_type": "code",
   "execution_count": 58,
   "id": "8110b581b6e64833",
   "metadata": {
    "ExecuteTime": {
     "end_time": "2025-06-22T23:42:57.087980Z",
     "start_time": "2025-06-22T23:42:57.064981Z"
    }
   },
   "outputs": [
    {
     "name": "stdout",
     "output_type": "stream",
     "text": [
      "Predicted personality: Extrovert\n",
      "Confidence: 0.75\n"
     ]
    }
   ],
   "source": [
    "\n",
    "new_sample = {\n",
    "    \"Time_spent_Alone\": 4.0,\n",
    "    \"Social_event_attendance\": 4.0,\n",
    "    \"Going_outside\": 6.0,\n",
    "    \"Friends_circle_size\": 13.0,\n",
    "    \"Post_frequency\": 5.0,\n",
    "    \"Stage_fear\": False,\n",
    "    \"Drained_after_socializing\": False\n",
    "}\n",
    "\n",
    "personality, confidence = predict_personality(new_sample)\n",
    "print(f\"Predicted personality: {personality}\")\n",
    "print(f\"Confidence: {confidence:.2f}\")\n"
   ]
  },
  {
   "cell_type": "code",
   "execution_count": 59,
   "id": "18b83b87684c0ae8",
   "metadata": {
    "ExecuteTime": {
     "end_time": "2025-06-22T23:43:07.562237Z",
     "start_time": "2025-06-22T23:43:07.535239Z"
    }
   },
   "outputs": [
    {
     "name": "stdout",
     "output_type": "stream",
     "text": [
      "Predicted personality: Introvert\n",
      "Confidence: 0.60\n"
     ]
    }
   ],
   "source": [
    "introvert_sample = {\n",
    "    \"Time_spent_Alone\": 10.0,\n",
    "    \"Social_event_attendance\": 1.0,\n",
    "    \"Going_outside\": 2.0,\n",
    "    \"Friends_circle_size\": 3.0,\n",
    "    \"Post_frequency\": 1.0,\n",
    "    \"Stage_fear\": True,\n",
    "    \"Drained_after_socializing\": True\n",
    "}\n",
    "\n",
    "personality, confidence = predict_personality(introvert_sample)\n",
    "print(f\"Predicted personality: {personality}\")\n",
    "print(f\"Confidence: {confidence:.2f}\")"
   ]
  }
 ],
 "metadata": {
  "kernelspec": {
   "display_name": "Python (AIML)",
   "language": "python",
   "name": "aiml"
  },
  "language_info": {
   "codemirror_mode": {
    "name": "ipython",
    "version": 3
   },
   "file_extension": ".py",
   "mimetype": "text/x-python",
   "name": "python",
   "nbconvert_exporter": "python",
   "pygments_lexer": "ipython3",
   "version": "3.12.10"
  }
 },
 "nbformat": 4,
 "nbformat_minor": 5
}
