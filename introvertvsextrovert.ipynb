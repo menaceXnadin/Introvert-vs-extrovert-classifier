{
 "cells": [
  {
   "cell_type": "code",
   "execution_count": 149,
   "id": "32785c9f",
   "metadata": {},
   "outputs": [
    {
     "name": "stdout",
     "output_type": "stream",
     "text": [
      "Path to dataset files: C:\\Users\\MenaceXnadin\\.cache\\kagglehub\\datasets\\rakeshkapilavai\\extrovert-vs-introvert-behavior-data\\versions\\1\n"
     ]
    }
   ],
   "source": [
    "import kagglehub\n",
    "\n",
    "# Download latest version\n",
    "path = kagglehub.dataset_download(\"rakeshkapilavai/extrovert-vs-introvert-behavior-data\")\n",
    "\n",
    "print(\"Path to dataset files:\", path)"
   ]
  },
  {
   "cell_type": "code",
   "execution_count": 215,
   "id": "ce85fae7",
   "metadata": {},
   "outputs": [],
   "source": [
    "import numpy as np\n",
    "import pandas as pd\n",
    "import matplotlib.pyplot as plt\n",
    "import seaborn as sns"
   ]
  },
  {
   "cell_type": "code",
   "execution_count": 216,
   "id": "0c977f7d",
   "metadata": {},
   "outputs": [
    {
     "data": {
      "application/vnd.microsoft.datawrangler.viewer.v0+json": {
       "columns": [
        {
         "name": "index",
         "rawType": "int64",
         "type": "integer"
        },
        {
         "name": "Time_spent_Alone",
         "rawType": "float64",
         "type": "float"
        },
        {
         "name": "Stage_fear",
         "rawType": "object",
         "type": "string"
        },
        {
         "name": "Social_event_attendance",
         "rawType": "float64",
         "type": "float"
        },
        {
         "name": "Going_outside",
         "rawType": "float64",
         "type": "float"
        },
        {
         "name": "Drained_after_socializing",
         "rawType": "object",
         "type": "string"
        },
        {
         "name": "Friends_circle_size",
         "rawType": "float64",
         "type": "float"
        },
        {
         "name": "Post_frequency",
         "rawType": "float64",
         "type": "float"
        },
        {
         "name": "Personality",
         "rawType": "object",
         "type": "string"
        }
       ],
       "ref": "d8ca1372-c56f-4ac6-9d60-76dbc289bd02",
       "rows": [
        [
         "0",
         "4.0",
         "No",
         "4.0",
         "6.0",
         "No",
         "13.0",
         "5.0",
         "Extrovert"
        ],
        [
         "1",
         "9.0",
         "Yes",
         "0.0",
         "0.0",
         "Yes",
         "0.0",
         "3.0",
         "Introvert"
        ],
        [
         "2",
         "9.0",
         "Yes",
         "1.0",
         "2.0",
         "Yes",
         "5.0",
         "2.0",
         "Introvert"
        ],
        [
         "3",
         "0.0",
         "No",
         "6.0",
         "7.0",
         "No",
         "14.0",
         "8.0",
         "Extrovert"
        ],
        [
         "4",
         "3.0",
         "No",
         "9.0",
         "4.0",
         "No",
         "8.0",
         "5.0",
         "Extrovert"
        ]
       ],
       "shape": {
        "columns": 8,
        "rows": 5
       }
      },
      "text/html": [
       "<div>\n",
       "<style scoped>\n",
       "    .dataframe tbody tr th:only-of-type {\n",
       "        vertical-align: middle;\n",
       "    }\n",
       "\n",
       "    .dataframe tbody tr th {\n",
       "        vertical-align: top;\n",
       "    }\n",
       "\n",
       "    .dataframe thead th {\n",
       "        text-align: right;\n",
       "    }\n",
       "</style>\n",
       "<table border=\"1\" class=\"dataframe\">\n",
       "  <thead>\n",
       "    <tr style=\"text-align: right;\">\n",
       "      <th></th>\n",
       "      <th>Time_spent_Alone</th>\n",
       "      <th>Stage_fear</th>\n",
       "      <th>Social_event_attendance</th>\n",
       "      <th>Going_outside</th>\n",
       "      <th>Drained_after_socializing</th>\n",
       "      <th>Friends_circle_size</th>\n",
       "      <th>Post_frequency</th>\n",
       "      <th>Personality</th>\n",
       "    </tr>\n",
       "  </thead>\n",
       "  <tbody>\n",
       "    <tr>\n",
       "      <th>0</th>\n",
       "      <td>4.0</td>\n",
       "      <td>No</td>\n",
       "      <td>4.0</td>\n",
       "      <td>6.0</td>\n",
       "      <td>No</td>\n",
       "      <td>13.0</td>\n",
       "      <td>5.0</td>\n",
       "      <td>Extrovert</td>\n",
       "    </tr>\n",
       "    <tr>\n",
       "      <th>1</th>\n",
       "      <td>9.0</td>\n",
       "      <td>Yes</td>\n",
       "      <td>0.0</td>\n",
       "      <td>0.0</td>\n",
       "      <td>Yes</td>\n",
       "      <td>0.0</td>\n",
       "      <td>3.0</td>\n",
       "      <td>Introvert</td>\n",
       "    </tr>\n",
       "    <tr>\n",
       "      <th>2</th>\n",
       "      <td>9.0</td>\n",
       "      <td>Yes</td>\n",
       "      <td>1.0</td>\n",
       "      <td>2.0</td>\n",
       "      <td>Yes</td>\n",
       "      <td>5.0</td>\n",
       "      <td>2.0</td>\n",
       "      <td>Introvert</td>\n",
       "    </tr>\n",
       "    <tr>\n",
       "      <th>3</th>\n",
       "      <td>0.0</td>\n",
       "      <td>No</td>\n",
       "      <td>6.0</td>\n",
       "      <td>7.0</td>\n",
       "      <td>No</td>\n",
       "      <td>14.0</td>\n",
       "      <td>8.0</td>\n",
       "      <td>Extrovert</td>\n",
       "    </tr>\n",
       "    <tr>\n",
       "      <th>4</th>\n",
       "      <td>3.0</td>\n",
       "      <td>No</td>\n",
       "      <td>9.0</td>\n",
       "      <td>4.0</td>\n",
       "      <td>No</td>\n",
       "      <td>8.0</td>\n",
       "      <td>5.0</td>\n",
       "      <td>Extrovert</td>\n",
       "    </tr>\n",
       "  </tbody>\n",
       "</table>\n",
       "</div>"
      ],
      "text/plain": [
       "   Time_spent_Alone Stage_fear  Social_event_attendance  Going_outside  \\\n",
       "0               4.0         No                      4.0            6.0   \n",
       "1               9.0        Yes                      0.0            0.0   \n",
       "2               9.0        Yes                      1.0            2.0   \n",
       "3               0.0         No                      6.0            7.0   \n",
       "4               3.0         No                      9.0            4.0   \n",
       "\n",
       "  Drained_after_socializing  Friends_circle_size  Post_frequency Personality  \n",
       "0                        No                 13.0             5.0   Extrovert  \n",
       "1                       Yes                  0.0             3.0   Introvert  \n",
       "2                       Yes                  5.0             2.0   Introvert  \n",
       "3                        No                 14.0             8.0   Extrovert  \n",
       "4                        No                  8.0             5.0   Extrovert  "
      ]
     },
     "execution_count": 216,
     "metadata": {},
     "output_type": "execute_result"
    }
   ],
   "source": [
    "df = pd.read_csv('personality_dataset.csv')\n",
    "df.head()"
   ]
  },
  {
   "cell_type": "markdown",
   "id": "c097a8ac",
   "metadata": {},
   "source": [
    "# Exploratory Data Preprocessing"
   ]
  },
  {
   "cell_type": "code",
   "execution_count": 217,
   "id": "7a001d9f",
   "metadata": {},
   "outputs": [
    {
     "data": {
      "text/plain": [
       "(2900, 8)"
      ]
     },
     "execution_count": 217,
     "metadata": {},
     "output_type": "execute_result"
    }
   ],
   "source": [
    "df.shape"
   ]
  },
  {
   "cell_type": "code",
   "execution_count": 218,
   "id": "7352077b",
   "metadata": {},
   "outputs": [
    {
     "name": "stdout",
     "output_type": "stream",
     "text": [
      "<class 'pandas.core.frame.DataFrame'>\n",
      "RangeIndex: 2900 entries, 0 to 2899\n",
      "Data columns (total 8 columns):\n",
      " #   Column                     Non-Null Count  Dtype  \n",
      "---  ------                     --------------  -----  \n",
      " 0   Time_spent_Alone           2837 non-null   float64\n",
      " 1   Stage_fear                 2827 non-null   object \n",
      " 2   Social_event_attendance    2838 non-null   float64\n",
      " 3   Going_outside              2834 non-null   float64\n",
      " 4   Drained_after_socializing  2848 non-null   object \n",
      " 5   Friends_circle_size        2823 non-null   float64\n",
      " 6   Post_frequency             2835 non-null   float64\n",
      " 7   Personality                2900 non-null   object \n",
      "dtypes: float64(5), object(3)\n",
      "memory usage: 181.4+ KB\n"
     ]
    }
   ],
   "source": [
    "df.info()"
   ]
  },
  {
   "cell_type": "code",
   "execution_count": 219,
   "id": "cf190a1c",
   "metadata": {},
   "outputs": [
    {
     "data": {
      "application/vnd.microsoft.datawrangler.viewer.v0+json": {
       "columns": [
        {
         "name": "index",
         "rawType": "int64",
         "type": "integer"
        },
        {
         "name": "0",
         "rawType": "bool",
         "type": "boolean"
        }
       ],
       "ref": "fe45c77b-0485-43ff-8bce-9bbf0a71a633",
       "rows": [
        [
         "0",
         "False"
        ],
        [
         "1",
         "False"
        ],
        [
         "2",
         "False"
        ],
        [
         "3",
         "False"
        ],
        [
         "4",
         "False"
        ],
        [
         "5",
         "False"
        ],
        [
         "6",
         "False"
        ],
        [
         "7",
         "False"
        ],
        [
         "8",
         "False"
        ],
        [
         "9",
         "False"
        ],
        [
         "10",
         "False"
        ],
        [
         "11",
         "False"
        ],
        [
         "12",
         "False"
        ],
        [
         "13",
         "False"
        ],
        [
         "14",
         "False"
        ],
        [
         "15",
         "False"
        ],
        [
         "16",
         "False"
        ],
        [
         "17",
         "False"
        ],
        [
         "18",
         "False"
        ],
        [
         "19",
         "False"
        ],
        [
         "20",
         "False"
        ],
        [
         "21",
         "False"
        ],
        [
         "22",
         "False"
        ],
        [
         "23",
         "False"
        ],
        [
         "24",
         "False"
        ],
        [
         "25",
         "False"
        ],
        [
         "26",
         "False"
        ],
        [
         "27",
         "False"
        ],
        [
         "28",
         "False"
        ],
        [
         "29",
         "False"
        ],
        [
         "30",
         "False"
        ],
        [
         "31",
         "False"
        ],
        [
         "32",
         "False"
        ],
        [
         "33",
         "False"
        ],
        [
         "34",
         "False"
        ],
        [
         "35",
         "False"
        ],
        [
         "36",
         "False"
        ],
        [
         "37",
         "False"
        ],
        [
         "38",
         "False"
        ],
        [
         "39",
         "False"
        ],
        [
         "40",
         "False"
        ],
        [
         "41",
         "False"
        ],
        [
         "42",
         "False"
        ],
        [
         "43",
         "False"
        ],
        [
         "44",
         "False"
        ],
        [
         "45",
         "False"
        ],
        [
         "46",
         "False"
        ],
        [
         "47",
         "True"
        ],
        [
         "48",
         "False"
        ],
        [
         "49",
         "False"
        ]
       ],
       "shape": {
        "columns": 1,
        "rows": 2900
       }
      },
      "text/plain": [
       "0       False\n",
       "1       False\n",
       "2       False\n",
       "3       False\n",
       "4       False\n",
       "        ...  \n",
       "2895     True\n",
       "2896    False\n",
       "2897    False\n",
       "2898    False\n",
       "2899    False\n",
       "Length: 2900, dtype: bool"
      ]
     },
     "execution_count": 219,
     "metadata": {},
     "output_type": "execute_result"
    }
   ],
   "source": [
    "df.duplicated()"
   ]
  },
  {
   "cell_type": "code",
   "execution_count": 220,
   "id": "25a7bc70",
   "metadata": {},
   "outputs": [
    {
     "data": {
      "application/vnd.microsoft.datawrangler.viewer.v0+json": {
       "columns": [
        {
         "name": "index",
         "rawType": "object",
         "type": "string"
        },
        {
         "name": "0",
         "rawType": "int64",
         "type": "integer"
        }
       ],
       "ref": "afe33db4-4d79-4db5-993f-49a55def70e4",
       "rows": [
        [
         "Time_spent_Alone",
         "63"
        ],
        [
         "Stage_fear",
         "73"
        ],
        [
         "Social_event_attendance",
         "62"
        ],
        [
         "Going_outside",
         "66"
        ],
        [
         "Drained_after_socializing",
         "52"
        ],
        [
         "Friends_circle_size",
         "77"
        ],
        [
         "Post_frequency",
         "65"
        ],
        [
         "Personality",
         "0"
        ]
       ],
       "shape": {
        "columns": 1,
        "rows": 8
       }
      },
      "text/plain": [
       "Time_spent_Alone             63\n",
       "Stage_fear                   73\n",
       "Social_event_attendance      62\n",
       "Going_outside                66\n",
       "Drained_after_socializing    52\n",
       "Friends_circle_size          77\n",
       "Post_frequency               65\n",
       "Personality                   0\n",
       "dtype: int64"
      ]
     },
     "execution_count": 220,
     "metadata": {},
     "output_type": "execute_result"
    }
   ],
   "source": [
    "df.isnull().sum()"
   ]
  },
  {
   "cell_type": "code",
   "execution_count": 221,
   "id": "6f3c5650",
   "metadata": {},
   "outputs": [
    {
     "data": {
      "text/plain": [
       "np.int64(388)"
      ]
     },
     "execution_count": 221,
     "metadata": {},
     "output_type": "execute_result"
    }
   ],
   "source": [
    "df.duplicated().sum()"
   ]
  },
  {
   "cell_type": "code",
   "execution_count": 222,
   "id": "c5fc81a4",
   "metadata": {},
   "outputs": [
    {
     "data": {
      "application/vnd.microsoft.datawrangler.viewer.v0+json": {
       "columns": [
        {
         "name": "index",
         "rawType": "int64",
         "type": "integer"
        },
        {
         "name": "Time_spent_Alone",
         "rawType": "float64",
         "type": "float"
        },
        {
         "name": "Stage_fear",
         "rawType": "object",
         "type": "unknown"
        },
        {
         "name": "Social_event_attendance",
         "rawType": "float64",
         "type": "float"
        },
        {
         "name": "Going_outside",
         "rawType": "float64",
         "type": "float"
        },
        {
         "name": "Drained_after_socializing",
         "rawType": "object",
         "type": "unknown"
        },
        {
         "name": "Friends_circle_size",
         "rawType": "float64",
         "type": "float"
        },
        {
         "name": "Post_frequency",
         "rawType": "float64",
         "type": "float"
        },
        {
         "name": "Personality",
         "rawType": "object",
         "type": "string"
        }
       ],
       "ref": "b7f5cc72-d512-48f4-a4c5-196364d2fd25",
       "rows": [
        [
         "0",
         "4.0",
         "No",
         "4.0",
         "6.0",
         "No",
         "13.0",
         "5.0",
         "Extrovert"
        ],
        [
         "3",
         "0.0",
         "No",
         "6.0",
         "7.0",
         "No",
         "14.0",
         "8.0",
         "Extrovert"
        ],
        [
         "4",
         "3.0",
         "No",
         "9.0",
         "4.0",
         "No",
         "8.0",
         "5.0",
         "Extrovert"
        ],
        [
         "5",
         "1.0",
         "No",
         "7.0",
         "5.0",
         "No",
         "6.0",
         "6.0",
         "Extrovert"
        ],
        [
         "6",
         "4.0",
         "No",
         "9.0",
         null,
         "No",
         "7.0",
         "7.0",
         "Extrovert"
        ],
        [
         "7",
         "2.0",
         "No",
         "8.0",
         "4.0",
         "No",
         "7.0",
         "8.0",
         "Extrovert"
        ],
        [
         "9",
         "0.0",
         "No",
         "8.0",
         "6.0",
         "No",
         "13.0",
         "8.0",
         "Extrovert"
        ],
        [
         "10",
         "3.0",
         "No",
         "9.0",
         "6.0",
         "No",
         "15.0",
         "5.0",
         "Extrovert"
        ],
        [
         "12",
         "3.0",
         "No",
         "6.0",
         "7.0",
         "No",
         "14.0",
         "10.0",
         "Extrovert"
        ],
        [
         "13",
         "3.0",
         "No",
         "6.0",
         "4.0",
         "No",
         "10.0",
         "7.0",
         "Extrovert"
        ],
        [
         "15",
         "0.0",
         "No",
         "4.0",
         "4.0",
         "No",
         "8.0",
         "8.0",
         "Extrovert"
        ],
        [
         "17",
         "1.0",
         "No",
         "5.0",
         "6.0",
         "No",
         "10.0",
         "4.0",
         "Extrovert"
        ],
        [
         "19",
         "1.0",
         "No",
         "7.0",
         "5.0",
         "No",
         "12.0",
         "5.0",
         "Extrovert"
        ],
        [
         "21",
         "2.0",
         "No",
         "8.0",
         "4.0",
         "No",
         "13.0",
         "6.0",
         "Extrovert"
        ],
        [
         "22",
         "1.0",
         "No",
         "6.0",
         "7.0",
         "No",
         "14.0",
         "9.0",
         "Extrovert"
        ],
        [
         "24",
         "2.0",
         "No",
         "8.0",
         "7.0",
         "No",
         "15.0",
         "6.0",
         "Extrovert"
        ],
        [
         "25",
         "2.0",
         "No",
         "8.0",
         "4.0",
         "No",
         "11.0",
         "9.0",
         "Extrovert"
        ],
        [
         "26",
         "0.0",
         "No",
         "6.0",
         "4.0",
         "No",
         "14.0",
         "9.0",
         "Extrovert"
        ],
        [
         "27",
         "4.0",
         "No",
         "5.0",
         "7.0",
         "No",
         "6.0",
         "6.0",
         "Extrovert"
        ],
        [
         "28",
         "2.0",
         "No",
         "6.0",
         "4.0",
         "No",
         "12.0",
         "10.0",
         "Extrovert"
        ],
        [
         "29",
         "0.0",
         "No",
         "9.0",
         "4.0",
         "No",
         "14.0",
         "7.0",
         "Extrovert"
        ],
        [
         "30",
         "4.0",
         "No",
         "10.0",
         "4.0",
         "No",
         "9.0",
         "10.0",
         "Extrovert"
        ],
        [
         "31",
         "4.0",
         "No",
         "7.0",
         "7.0",
         "No",
         "7.0",
         "9.0",
         "Extrovert"
        ],
        [
         "35",
         "2.0",
         "No",
         "6.0",
         "5.0",
         "No",
         "14.0",
         "9.0",
         "Extrovert"
        ],
        [
         "36",
         "1.0",
         "No",
         "4.0",
         "4.0",
         "No",
         "15.0",
         "4.0",
         "Extrovert"
        ],
        [
         "37",
         "1.0",
         "No",
         "6.0",
         "4.0",
         "No",
         "10.0",
         "5.0",
         "Extrovert"
        ],
        [
         "40",
         "3.0",
         "No",
         "5.0",
         "5.0",
         "No",
         "13.0",
         "5.0",
         "Extrovert"
        ],
        [
         "41",
         "1.0",
         "No",
         "4.0",
         "5.0",
         "No",
         null,
         "10.0",
         "Extrovert"
        ],
        [
         "45",
         "0.0",
         "No",
         "8.0",
         "6.0",
         "No",
         "6.0",
         "10.0",
         "Extrovert"
        ],
        [
         "46",
         "4.0",
         "No",
         "7.0",
         "4.0",
         "No",
         "13.0",
         "10.0",
         "Extrovert"
        ],
        [
         "49",
         "1.0",
         "No",
         "5.0",
         "6.0",
         "No",
         "8.0",
         "10.0",
         "Extrovert"
        ],
        [
         "51",
         "0.0",
         "No",
         "7.0",
         "4.0",
         "No",
         "10.0",
         "10.0",
         "Extrovert"
        ],
        [
         "55",
         "3.0",
         "No",
         "10.0",
         "4.0",
         "No",
         "10.0",
         "5.0",
         "Extrovert"
        ],
        [
         "57",
         "2.0",
         "No",
         "10.0",
         "6.0",
         "No",
         "10.0",
         "9.0",
         "Extrovert"
        ],
        [
         "58",
         "2.0",
         "No",
         "5.0",
         "7.0",
         "No",
         "10.0",
         "5.0",
         "Extrovert"
        ],
        [
         "59",
         null,
         "No",
         "9.0",
         "4.0",
         "No",
         "7.0",
         "5.0",
         "Extrovert"
        ],
        [
         "60",
         "1.0",
         "No",
         "9.0",
         "5.0",
         "No",
         "9.0",
         "10.0",
         "Extrovert"
        ],
        [
         "63",
         "2.0",
         "No",
         "7.0",
         "5.0",
         "No",
         "7.0",
         "9.0",
         "Extrovert"
        ],
        [
         "64",
         "3.0",
         "No",
         "5.0",
         "6.0",
         "No",
         "6.0",
         "5.0",
         "Extrovert"
        ],
        [
         "66",
         "0.0",
         "No",
         "10.0",
         "6.0",
         "No",
         "6.0",
         "4.0",
         "Extrovert"
        ],
        [
         "68",
         "0.0",
         "No",
         "4.0",
         "6.0",
         "No",
         "6.0",
         "5.0",
         "Extrovert"
        ],
        [
         "71",
         "1.0",
         "No",
         null,
         "5.0",
         "No",
         "11.0",
         "8.0",
         "Extrovert"
        ],
        [
         "72",
         "2.0",
         "No",
         "10.0",
         "5.0",
         "No",
         "12.0",
         "5.0",
         "Extrovert"
        ],
        [
         "77",
         "0.0",
         "No",
         "5.0",
         "4.0",
         "No",
         "9.0",
         "10.0",
         "Extrovert"
        ],
        [
         "79",
         "4.0",
         "No",
         "9.0",
         "6.0",
         "No",
         "11.0",
         "6.0",
         "Extrovert"
        ],
        [
         "81",
         "1.0",
         "No",
         "8.0",
         "4.0",
         "No",
         "11.0",
         "10.0",
         "Extrovert"
        ],
        [
         "82",
         "0.0",
         "No",
         "5.0",
         "6.0",
         "No",
         "9.0",
         "7.0",
         "Extrovert"
        ],
        [
         "84",
         "4.0",
         "No",
         "4.0",
         "7.0",
         "No",
         "6.0",
         "8.0",
         "Extrovert"
        ],
        [
         "85",
         "3.0",
         "No",
         "4.0",
         "4.0",
         "No",
         "12.0",
         "5.0",
         "Extrovert"
        ],
        [
         "86",
         "4.0",
         "No",
         "9.0",
         "4.0",
         "No",
         "8.0",
         "10.0",
         "Extrovert"
        ]
       ],
       "shape": {
        "columns": 8,
        "rows": 1491
       }
      },
      "text/html": [
       "<div>\n",
       "<style scoped>\n",
       "    .dataframe tbody tr th:only-of-type {\n",
       "        vertical-align: middle;\n",
       "    }\n",
       "\n",
       "    .dataframe tbody tr th {\n",
       "        vertical-align: top;\n",
       "    }\n",
       "\n",
       "    .dataframe thead th {\n",
       "        text-align: right;\n",
       "    }\n",
       "</style>\n",
       "<table border=\"1\" class=\"dataframe\">\n",
       "  <thead>\n",
       "    <tr style=\"text-align: right;\">\n",
       "      <th></th>\n",
       "      <th>Time_spent_Alone</th>\n",
       "      <th>Stage_fear</th>\n",
       "      <th>Social_event_attendance</th>\n",
       "      <th>Going_outside</th>\n",
       "      <th>Drained_after_socializing</th>\n",
       "      <th>Friends_circle_size</th>\n",
       "      <th>Post_frequency</th>\n",
       "      <th>Personality</th>\n",
       "    </tr>\n",
       "  </thead>\n",
       "  <tbody>\n",
       "    <tr>\n",
       "      <th>0</th>\n",
       "      <td>4.0</td>\n",
       "      <td>No</td>\n",
       "      <td>4.0</td>\n",
       "      <td>6.0</td>\n",
       "      <td>No</td>\n",
       "      <td>13.0</td>\n",
       "      <td>5.0</td>\n",
       "      <td>Extrovert</td>\n",
       "    </tr>\n",
       "    <tr>\n",
       "      <th>3</th>\n",
       "      <td>0.0</td>\n",
       "      <td>No</td>\n",
       "      <td>6.0</td>\n",
       "      <td>7.0</td>\n",
       "      <td>No</td>\n",
       "      <td>14.0</td>\n",
       "      <td>8.0</td>\n",
       "      <td>Extrovert</td>\n",
       "    </tr>\n",
       "    <tr>\n",
       "      <th>4</th>\n",
       "      <td>3.0</td>\n",
       "      <td>No</td>\n",
       "      <td>9.0</td>\n",
       "      <td>4.0</td>\n",
       "      <td>No</td>\n",
       "      <td>8.0</td>\n",
       "      <td>5.0</td>\n",
       "      <td>Extrovert</td>\n",
       "    </tr>\n",
       "    <tr>\n",
       "      <th>5</th>\n",
       "      <td>1.0</td>\n",
       "      <td>No</td>\n",
       "      <td>7.0</td>\n",
       "      <td>5.0</td>\n",
       "      <td>No</td>\n",
       "      <td>6.0</td>\n",
       "      <td>6.0</td>\n",
       "      <td>Extrovert</td>\n",
       "    </tr>\n",
       "    <tr>\n",
       "      <th>6</th>\n",
       "      <td>4.0</td>\n",
       "      <td>No</td>\n",
       "      <td>9.0</td>\n",
       "      <td>NaN</td>\n",
       "      <td>No</td>\n",
       "      <td>7.0</td>\n",
       "      <td>7.0</td>\n",
       "      <td>Extrovert</td>\n",
       "    </tr>\n",
       "    <tr>\n",
       "      <th>...</th>\n",
       "      <td>...</td>\n",
       "      <td>...</td>\n",
       "      <td>...</td>\n",
       "      <td>...</td>\n",
       "      <td>...</td>\n",
       "      <td>...</td>\n",
       "      <td>...</td>\n",
       "      <td>...</td>\n",
       "    </tr>\n",
       "    <tr>\n",
       "      <th>2887</th>\n",
       "      <td>0.0</td>\n",
       "      <td>No</td>\n",
       "      <td>9.0</td>\n",
       "      <td>6.0</td>\n",
       "      <td>No</td>\n",
       "      <td>6.0</td>\n",
       "      <td>3.0</td>\n",
       "      <td>Extrovert</td>\n",
       "    </tr>\n",
       "    <tr>\n",
       "      <th>2894</th>\n",
       "      <td>0.0</td>\n",
       "      <td>No</td>\n",
       "      <td>9.0</td>\n",
       "      <td>3.0</td>\n",
       "      <td>No</td>\n",
       "      <td>12.0</td>\n",
       "      <td>NaN</td>\n",
       "      <td>Extrovert</td>\n",
       "    </tr>\n",
       "    <tr>\n",
       "      <th>2895</th>\n",
       "      <td>3.0</td>\n",
       "      <td>No</td>\n",
       "      <td>7.0</td>\n",
       "      <td>6.0</td>\n",
       "      <td>No</td>\n",
       "      <td>6.0</td>\n",
       "      <td>6.0</td>\n",
       "      <td>Extrovert</td>\n",
       "    </tr>\n",
       "    <tr>\n",
       "      <th>2896</th>\n",
       "      <td>3.0</td>\n",
       "      <td>No</td>\n",
       "      <td>8.0</td>\n",
       "      <td>3.0</td>\n",
       "      <td>No</td>\n",
       "      <td>14.0</td>\n",
       "      <td>9.0</td>\n",
       "      <td>Extrovert</td>\n",
       "    </tr>\n",
       "    <tr>\n",
       "      <th>2899</th>\n",
       "      <td>3.0</td>\n",
       "      <td>No</td>\n",
       "      <td>6.0</td>\n",
       "      <td>6.0</td>\n",
       "      <td>No</td>\n",
       "      <td>6.0</td>\n",
       "      <td>9.0</td>\n",
       "      <td>Extrovert</td>\n",
       "    </tr>\n",
       "  </tbody>\n",
       "</table>\n",
       "<p>1491 rows × 8 columns</p>\n",
       "</div>"
      ],
      "text/plain": [
       "      Time_spent_Alone Stage_fear  Social_event_attendance  Going_outside  \\\n",
       "0                  4.0         No                      4.0            6.0   \n",
       "3                  0.0         No                      6.0            7.0   \n",
       "4                  3.0         No                      9.0            4.0   \n",
       "5                  1.0         No                      7.0            5.0   \n",
       "6                  4.0         No                      9.0            NaN   \n",
       "...                ...        ...                      ...            ...   \n",
       "2887               0.0         No                      9.0            6.0   \n",
       "2894               0.0         No                      9.0            3.0   \n",
       "2895               3.0         No                      7.0            6.0   \n",
       "2896               3.0         No                      8.0            3.0   \n",
       "2899               3.0         No                      6.0            6.0   \n",
       "\n",
       "     Drained_after_socializing  Friends_circle_size  Post_frequency  \\\n",
       "0                           No                 13.0             5.0   \n",
       "3                           No                 14.0             8.0   \n",
       "4                           No                  8.0             5.0   \n",
       "5                           No                  6.0             6.0   \n",
       "6                           No                  7.0             7.0   \n",
       "...                        ...                  ...             ...   \n",
       "2887                        No                  6.0             3.0   \n",
       "2894                        No                 12.0             NaN   \n",
       "2895                        No                  6.0             6.0   \n",
       "2896                        No                 14.0             9.0   \n",
       "2899                        No                  6.0             9.0   \n",
       "\n",
       "     Personality  \n",
       "0      Extrovert  \n",
       "3      Extrovert  \n",
       "4      Extrovert  \n",
       "5      Extrovert  \n",
       "6      Extrovert  \n",
       "...          ...  \n",
       "2887   Extrovert  \n",
       "2894   Extrovert  \n",
       "2895   Extrovert  \n",
       "2896   Extrovert  \n",
       "2899   Extrovert  \n",
       "\n",
       "[1491 rows x 8 columns]"
      ]
     },
     "execution_count": 222,
     "metadata": {},
     "output_type": "execute_result"
    }
   ],
   "source": [
    "df_ext = df[df['Personality']=='Extrovert']\n",
    "df_ext"
   ]
  },
  {
   "cell_type": "code",
   "execution_count": 223,
   "id": "0ae907d4",
   "metadata": {},
   "outputs": [
    {
     "data": {
      "application/vnd.microsoft.datawrangler.viewer.v0+json": {
       "columns": [
        {
         "name": "index",
         "rawType": "int64",
         "type": "integer"
        },
        {
         "name": "Time_spent_Alone",
         "rawType": "float64",
         "type": "float"
        },
        {
         "name": "Stage_fear",
         "rawType": "object",
         "type": "unknown"
        },
        {
         "name": "Social_event_attendance",
         "rawType": "float64",
         "type": "float"
        },
        {
         "name": "Going_outside",
         "rawType": "float64",
         "type": "float"
        },
        {
         "name": "Drained_after_socializing",
         "rawType": "object",
         "type": "unknown"
        },
        {
         "name": "Friends_circle_size",
         "rawType": "float64",
         "type": "float"
        },
        {
         "name": "Post_frequency",
         "rawType": "float64",
         "type": "float"
        },
        {
         "name": "Personality",
         "rawType": "object",
         "type": "string"
        }
       ],
       "ref": "57b82d6f-9873-414b-9734-8fe632472fcc",
       "rows": [
        [
         "1",
         "9.0",
         "Yes",
         "0.0",
         "0.0",
         "Yes",
         "0.0",
         "3.0",
         "Introvert"
        ],
        [
         "2",
         "9.0",
         "Yes",
         "1.0",
         "2.0",
         "Yes",
         "5.0",
         "2.0",
         "Introvert"
        ],
        [
         "8",
         "10.0",
         "Yes",
         "1.0",
         "3.0",
         "Yes",
         "0.0",
         "3.0",
         "Introvert"
        ],
        [
         "11",
         "10.0",
         "Yes",
         "3.0",
         "1.0",
         "Yes",
         "4.0",
         "0.0",
         "Introvert"
        ],
        [
         "14",
         "6.0",
         "Yes",
         "3.0",
         "0.0",
         "Yes",
         "1.0",
         "3.0",
         "Introvert"
        ],
        [
         "16",
         "9.0",
         "Yes",
         "0.0",
         "0.0",
         "Yes",
         "0.0",
         "0.0",
         "Introvert"
        ],
        [
         "18",
         "5.0",
         "Yes",
         "3.0",
         "0.0",
         "Yes",
         "4.0",
         "2.0",
         "Introvert"
        ],
        [
         "20",
         "10.0",
         "Yes",
         "3.0",
         "1.0",
         "Yes",
         "2.0",
         "1.0",
         "Introvert"
        ],
        [
         "23",
         "9.0",
         "Yes",
         "2.0",
         "2.0",
         "Yes",
         "1.0",
         "0.0",
         "Introvert"
        ],
        [
         "32",
         "5.0",
         "Yes",
         "3.0",
         "3.0",
         "Yes",
         "0.0",
         "1.0",
         "Introvert"
        ],
        [
         "33",
         "8.0",
         "Yes",
         "3.0",
         "3.0",
         null,
         "2.0",
         "0.0",
         "Introvert"
        ],
        [
         "34",
         "10.0",
         "Yes",
         "1.0",
         "1.0",
         "Yes",
         "3.0",
         "2.0",
         "Introvert"
        ],
        [
         "38",
         "10.0",
         "Yes",
         "1.0",
         "2.0",
         "Yes",
         "2.0",
         "0.0",
         "Introvert"
        ],
        [
         "39",
         "5.0",
         "Yes",
         "0.0",
         "1.0",
         "Yes",
         "5.0",
         "0.0",
         "Introvert"
        ],
        [
         "42",
         "9.0",
         "Yes",
         "1.0",
         "3.0",
         "Yes",
         "2.0",
         "2.0",
         "Introvert"
        ],
        [
         "43",
         "6.0",
         "Yes",
         "2.0",
         "2.0",
         "Yes",
         "2.0",
         "1.0",
         "Introvert"
        ],
        [
         "44",
         "8.0",
         "Yes",
         "2.0",
         "1.0",
         "Yes",
         "5.0",
         "3.0",
         "Introvert"
        ],
        [
         "47",
         "10.0",
         "Yes",
         "1.0",
         "2.0",
         "Yes",
         "2.0",
         "0.0",
         "Introvert"
        ],
        [
         "48",
         "5.0",
         "Yes",
         "1.0",
         "3.0",
         "Yes",
         "3.0",
         "3.0",
         "Introvert"
        ],
        [
         "50",
         "6.0",
         "Yes",
         "1.0",
         "0.0",
         "Yes",
         "3.0",
         "1.0",
         "Introvert"
        ],
        [
         "52",
         "9.0",
         "Yes",
         "0.0",
         "2.0",
         "Yes",
         "3.0",
         "2.0",
         "Introvert"
        ],
        [
         "53",
         "8.0",
         "Yes",
         "3.0",
         "1.0",
         "Yes",
         "1.0",
         "2.0",
         "Introvert"
        ],
        [
         "54",
         "6.0",
         "Yes",
         "3.0",
         "3.0",
         "Yes",
         "4.0",
         "3.0",
         "Introvert"
        ],
        [
         "56",
         "9.0",
         "Yes",
         "3.0",
         "2.0",
         "Yes",
         "4.0",
         "3.0",
         "Introvert"
        ],
        [
         "61",
         "9.0",
         "Yes",
         "2.0",
         "3.0",
         "Yes",
         "4.0",
         "2.0",
         "Introvert"
        ],
        [
         "62",
         "7.0",
         "Yes",
         "3.0",
         "1.0",
         "Yes",
         "2.0",
         "3.0",
         "Introvert"
        ],
        [
         "65",
         "10.0",
         "Yes",
         "3.0",
         "1.0",
         "Yes",
         "0.0",
         "2.0",
         "Introvert"
        ],
        [
         "67",
         "5.0",
         "Yes",
         "1.0",
         "3.0",
         "Yes",
         "4.0",
         "3.0",
         "Introvert"
        ],
        [
         "69",
         "7.0",
         "Yes",
         "3.0",
         "2.0",
         "Yes",
         "1.0",
         "2.0",
         "Introvert"
        ],
        [
         "70",
         "8.0",
         "Yes",
         "3.0",
         "3.0",
         "Yes",
         "4.0",
         "0.0",
         "Introvert"
        ],
        [
         "73",
         "8.0",
         "Yes",
         "0.0",
         "1.0",
         "Yes",
         "0.0",
         "2.0",
         "Introvert"
        ],
        [
         "74",
         "10.0",
         "Yes",
         "2.0",
         "0.0",
         "Yes",
         "3.0",
         "1.0",
         "Introvert"
        ],
        [
         "75",
         "7.0",
         "Yes",
         "3.0",
         "3.0",
         "Yes",
         "2.0",
         "0.0",
         "Introvert"
        ],
        [
         "76",
         "6.0",
         "Yes",
         "1.0",
         "2.0",
         "Yes",
         "5.0",
         "0.0",
         "Introvert"
        ],
        [
         "78",
         "8.0",
         "Yes",
         "0.0",
         "1.0",
         "Yes",
         "5.0",
         "0.0",
         "Introvert"
        ],
        [
         "80",
         "5.0",
         "Yes",
         "2.0",
         "0.0",
         "Yes",
         "2.0",
         "0.0",
         "Introvert"
        ],
        [
         "83",
         "7.0",
         "Yes",
         "1.0",
         "0.0",
         null,
         "3.0",
         "1.0",
         "Introvert"
        ],
        [
         "90",
         "5.0",
         "Yes",
         "1.0",
         "3.0",
         "Yes",
         "4.0",
         "0.0",
         "Introvert"
        ],
        [
         "92",
         "9.0",
         "Yes",
         "1.0",
         "1.0",
         "Yes",
         "1.0",
         "3.0",
         "Introvert"
        ],
        [
         "99",
         "8.0",
         "Yes",
         "1.0",
         "0.0",
         "Yes",
         "4.0",
         "2.0",
         "Introvert"
        ],
        [
         "100",
         "5.0",
         "Yes",
         "2.0",
         "2.0",
         "Yes",
         "0.0",
         "3.0",
         "Introvert"
        ],
        [
         "103",
         "5.0",
         "Yes",
         "1.0",
         "3.0",
         "Yes",
         "5.0",
         "2.0",
         "Introvert"
        ],
        [
         "104",
         "7.0",
         "Yes",
         "1.0",
         "2.0",
         "Yes",
         "3.0",
         "3.0",
         "Introvert"
        ],
        [
         "109",
         "9.0",
         "Yes",
         "0.0",
         "3.0",
         "Yes",
         "1.0",
         "0.0",
         "Introvert"
        ],
        [
         "113",
         "7.0",
         "Yes",
         "0.0",
         "3.0",
         "Yes",
         "1.0",
         "0.0",
         "Introvert"
        ],
        [
         "117",
         "5.0",
         "Yes",
         "0.0",
         "2.0",
         "Yes",
         "0.0",
         "2.0",
         "Introvert"
        ],
        [
         "118",
         "10.0",
         "Yes",
         "0.0",
         "3.0",
         "Yes",
         "0.0",
         "1.0",
         "Introvert"
        ],
        [
         "120",
         "6.0",
         "Yes",
         "1.0",
         "2.0",
         "Yes",
         "5.0",
         "1.0",
         "Introvert"
        ],
        [
         "121",
         "10.0",
         "Yes",
         "2.0",
         "3.0",
         "Yes",
         "2.0",
         "2.0",
         "Introvert"
        ],
        [
         "123",
         "7.0",
         "Yes",
         "2.0",
         "3.0",
         "Yes",
         "1.0",
         "2.0",
         "Introvert"
        ]
       ],
       "shape": {
        "columns": 8,
        "rows": 1409
       }
      },
      "text/html": [
       "<div>\n",
       "<style scoped>\n",
       "    .dataframe tbody tr th:only-of-type {\n",
       "        vertical-align: middle;\n",
       "    }\n",
       "\n",
       "    .dataframe tbody tr th {\n",
       "        vertical-align: top;\n",
       "    }\n",
       "\n",
       "    .dataframe thead th {\n",
       "        text-align: right;\n",
       "    }\n",
       "</style>\n",
       "<table border=\"1\" class=\"dataframe\">\n",
       "  <thead>\n",
       "    <tr style=\"text-align: right;\">\n",
       "      <th></th>\n",
       "      <th>Time_spent_Alone</th>\n",
       "      <th>Stage_fear</th>\n",
       "      <th>Social_event_attendance</th>\n",
       "      <th>Going_outside</th>\n",
       "      <th>Drained_after_socializing</th>\n",
       "      <th>Friends_circle_size</th>\n",
       "      <th>Post_frequency</th>\n",
       "      <th>Personality</th>\n",
       "    </tr>\n",
       "  </thead>\n",
       "  <tbody>\n",
       "    <tr>\n",
       "      <th>1</th>\n",
       "      <td>9.0</td>\n",
       "      <td>Yes</td>\n",
       "      <td>0.0</td>\n",
       "      <td>0.0</td>\n",
       "      <td>Yes</td>\n",
       "      <td>0.0</td>\n",
       "      <td>3.0</td>\n",
       "      <td>Introvert</td>\n",
       "    </tr>\n",
       "    <tr>\n",
       "      <th>2</th>\n",
       "      <td>9.0</td>\n",
       "      <td>Yes</td>\n",
       "      <td>1.0</td>\n",
       "      <td>2.0</td>\n",
       "      <td>Yes</td>\n",
       "      <td>5.0</td>\n",
       "      <td>2.0</td>\n",
       "      <td>Introvert</td>\n",
       "    </tr>\n",
       "    <tr>\n",
       "      <th>8</th>\n",
       "      <td>10.0</td>\n",
       "      <td>Yes</td>\n",
       "      <td>1.0</td>\n",
       "      <td>3.0</td>\n",
       "      <td>Yes</td>\n",
       "      <td>0.0</td>\n",
       "      <td>3.0</td>\n",
       "      <td>Introvert</td>\n",
       "    </tr>\n",
       "    <tr>\n",
       "      <th>11</th>\n",
       "      <td>10.0</td>\n",
       "      <td>Yes</td>\n",
       "      <td>3.0</td>\n",
       "      <td>1.0</td>\n",
       "      <td>Yes</td>\n",
       "      <td>4.0</td>\n",
       "      <td>0.0</td>\n",
       "      <td>Introvert</td>\n",
       "    </tr>\n",
       "    <tr>\n",
       "      <th>14</th>\n",
       "      <td>6.0</td>\n",
       "      <td>Yes</td>\n",
       "      <td>3.0</td>\n",
       "      <td>0.0</td>\n",
       "      <td>Yes</td>\n",
       "      <td>1.0</td>\n",
       "      <td>3.0</td>\n",
       "      <td>Introvert</td>\n",
       "    </tr>\n",
       "    <tr>\n",
       "      <th>...</th>\n",
       "      <td>...</td>\n",
       "      <td>...</td>\n",
       "      <td>...</td>\n",
       "      <td>...</td>\n",
       "      <td>...</td>\n",
       "      <td>...</td>\n",
       "      <td>...</td>\n",
       "      <td>...</td>\n",
       "    </tr>\n",
       "    <tr>\n",
       "      <th>2891</th>\n",
       "      <td>6.0</td>\n",
       "      <td>Yes</td>\n",
       "      <td>3.0</td>\n",
       "      <td>1.0</td>\n",
       "      <td>Yes</td>\n",
       "      <td>5.0</td>\n",
       "      <td>1.0</td>\n",
       "      <td>Introvert</td>\n",
       "    </tr>\n",
       "    <tr>\n",
       "      <th>2892</th>\n",
       "      <td>9.0</td>\n",
       "      <td>Yes</td>\n",
       "      <td>2.0</td>\n",
       "      <td>0.0</td>\n",
       "      <td>Yes</td>\n",
       "      <td>1.0</td>\n",
       "      <td>2.0</td>\n",
       "      <td>Introvert</td>\n",
       "    </tr>\n",
       "    <tr>\n",
       "      <th>2893</th>\n",
       "      <td>9.0</td>\n",
       "      <td>NaN</td>\n",
       "      <td>2.0</td>\n",
       "      <td>0.0</td>\n",
       "      <td>Yes</td>\n",
       "      <td>4.0</td>\n",
       "      <td>2.0</td>\n",
       "      <td>Introvert</td>\n",
       "    </tr>\n",
       "    <tr>\n",
       "      <th>2897</th>\n",
       "      <td>4.0</td>\n",
       "      <td>Yes</td>\n",
       "      <td>1.0</td>\n",
       "      <td>1.0</td>\n",
       "      <td>Yes</td>\n",
       "      <td>4.0</td>\n",
       "      <td>0.0</td>\n",
       "      <td>Introvert</td>\n",
       "    </tr>\n",
       "    <tr>\n",
       "      <th>2898</th>\n",
       "      <td>11.0</td>\n",
       "      <td>Yes</td>\n",
       "      <td>1.0</td>\n",
       "      <td>NaN</td>\n",
       "      <td>Yes</td>\n",
       "      <td>2.0</td>\n",
       "      <td>0.0</td>\n",
       "      <td>Introvert</td>\n",
       "    </tr>\n",
       "  </tbody>\n",
       "</table>\n",
       "<p>1409 rows × 8 columns</p>\n",
       "</div>"
      ],
      "text/plain": [
       "      Time_spent_Alone Stage_fear  Social_event_attendance  Going_outside  \\\n",
       "1                  9.0        Yes                      0.0            0.0   \n",
       "2                  9.0        Yes                      1.0            2.0   \n",
       "8                 10.0        Yes                      1.0            3.0   \n",
       "11                10.0        Yes                      3.0            1.0   \n",
       "14                 6.0        Yes                      3.0            0.0   \n",
       "...                ...        ...                      ...            ...   \n",
       "2891               6.0        Yes                      3.0            1.0   \n",
       "2892               9.0        Yes                      2.0            0.0   \n",
       "2893               9.0        NaN                      2.0            0.0   \n",
       "2897               4.0        Yes                      1.0            1.0   \n",
       "2898              11.0        Yes                      1.0            NaN   \n",
       "\n",
       "     Drained_after_socializing  Friends_circle_size  Post_frequency  \\\n",
       "1                          Yes                  0.0             3.0   \n",
       "2                          Yes                  5.0             2.0   \n",
       "8                          Yes                  0.0             3.0   \n",
       "11                         Yes                  4.0             0.0   \n",
       "14                         Yes                  1.0             3.0   \n",
       "...                        ...                  ...             ...   \n",
       "2891                       Yes                  5.0             1.0   \n",
       "2892                       Yes                  1.0             2.0   \n",
       "2893                       Yes                  4.0             2.0   \n",
       "2897                       Yes                  4.0             0.0   \n",
       "2898                       Yes                  2.0             0.0   \n",
       "\n",
       "     Personality  \n",
       "1      Introvert  \n",
       "2      Introvert  \n",
       "8      Introvert  \n",
       "11     Introvert  \n",
       "14     Introvert  \n",
       "...          ...  \n",
       "2891   Introvert  \n",
       "2892   Introvert  \n",
       "2893   Introvert  \n",
       "2897   Introvert  \n",
       "2898   Introvert  \n",
       "\n",
       "[1409 rows x 8 columns]"
      ]
     },
     "execution_count": 223,
     "metadata": {},
     "output_type": "execute_result"
    }
   ],
   "source": [
    "df_inv = df[df['Personality']==\"Introvert\"]\n",
    "df_inv"
   ]
  },
  {
   "cell_type": "code",
   "execution_count": 224,
   "id": "7521db50",
   "metadata": {},
   "outputs": [
    {
     "data": {
      "application/vnd.microsoft.datawrangler.viewer.v0+json": {
       "columns": [
        {
         "name": "index",
         "rawType": "object",
         "type": "string"
        },
        {
         "name": "Time_spent_Alone",
         "rawType": "float64",
         "type": "float"
        },
        {
         "name": "Social_event_attendance",
         "rawType": "float64",
         "type": "float"
        },
        {
         "name": "Going_outside",
         "rawType": "float64",
         "type": "float"
        },
        {
         "name": "Friends_circle_size",
         "rawType": "float64",
         "type": "float"
        },
        {
         "name": "Post_frequency",
         "rawType": "float64",
         "type": "float"
        }
       ],
       "ref": "20a4be8b-0199-475e-8eb5-60625cf0e09f",
       "rows": [
        [
         "count",
         "2837.0",
         "2838.0",
         "2834.0",
         "2823.0",
         "2835.0"
        ],
        [
         "mean",
         "4.505816002819881",
         "3.963354474982382",
         "3.0",
         "6.268862911795962",
         "3.564726631393298"
        ],
        [
         "std",
         "3.479192331454265",
         "2.903827337496429",
         "2.247326528711436",
         "4.289692830709211",
         "2.9265817890397443"
        ],
        [
         "min",
         "0.0",
         "0.0",
         "0.0",
         "0.0",
         "0.0"
        ],
        [
         "25%",
         "2.0",
         "2.0",
         "1.0",
         "3.0",
         "1.0"
        ],
        [
         "50%",
         "4.0",
         "3.0",
         "3.0",
         "5.0",
         "3.0"
        ],
        [
         "75%",
         "8.0",
         "6.0",
         "5.0",
         "10.0",
         "6.0"
        ],
        [
         "max",
         "11.0",
         "10.0",
         "7.0",
         "15.0",
         "10.0"
        ]
       ],
       "shape": {
        "columns": 5,
        "rows": 8
       }
      },
      "text/html": [
       "<div>\n",
       "<style scoped>\n",
       "    .dataframe tbody tr th:only-of-type {\n",
       "        vertical-align: middle;\n",
       "    }\n",
       "\n",
       "    .dataframe tbody tr th {\n",
       "        vertical-align: top;\n",
       "    }\n",
       "\n",
       "    .dataframe thead th {\n",
       "        text-align: right;\n",
       "    }\n",
       "</style>\n",
       "<table border=\"1\" class=\"dataframe\">\n",
       "  <thead>\n",
       "    <tr style=\"text-align: right;\">\n",
       "      <th></th>\n",
       "      <th>Time_spent_Alone</th>\n",
       "      <th>Social_event_attendance</th>\n",
       "      <th>Going_outside</th>\n",
       "      <th>Friends_circle_size</th>\n",
       "      <th>Post_frequency</th>\n",
       "    </tr>\n",
       "  </thead>\n",
       "  <tbody>\n",
       "    <tr>\n",
       "      <th>count</th>\n",
       "      <td>2837.000000</td>\n",
       "      <td>2838.000000</td>\n",
       "      <td>2834.000000</td>\n",
       "      <td>2823.000000</td>\n",
       "      <td>2835.000000</td>\n",
       "    </tr>\n",
       "    <tr>\n",
       "      <th>mean</th>\n",
       "      <td>4.505816</td>\n",
       "      <td>3.963354</td>\n",
       "      <td>3.000000</td>\n",
       "      <td>6.268863</td>\n",
       "      <td>3.564727</td>\n",
       "    </tr>\n",
       "    <tr>\n",
       "      <th>std</th>\n",
       "      <td>3.479192</td>\n",
       "      <td>2.903827</td>\n",
       "      <td>2.247327</td>\n",
       "      <td>4.289693</td>\n",
       "      <td>2.926582</td>\n",
       "    </tr>\n",
       "    <tr>\n",
       "      <th>min</th>\n",
       "      <td>0.000000</td>\n",
       "      <td>0.000000</td>\n",
       "      <td>0.000000</td>\n",
       "      <td>0.000000</td>\n",
       "      <td>0.000000</td>\n",
       "    </tr>\n",
       "    <tr>\n",
       "      <th>25%</th>\n",
       "      <td>2.000000</td>\n",
       "      <td>2.000000</td>\n",
       "      <td>1.000000</td>\n",
       "      <td>3.000000</td>\n",
       "      <td>1.000000</td>\n",
       "    </tr>\n",
       "    <tr>\n",
       "      <th>50%</th>\n",
       "      <td>4.000000</td>\n",
       "      <td>3.000000</td>\n",
       "      <td>3.000000</td>\n",
       "      <td>5.000000</td>\n",
       "      <td>3.000000</td>\n",
       "    </tr>\n",
       "    <tr>\n",
       "      <th>75%</th>\n",
       "      <td>8.000000</td>\n",
       "      <td>6.000000</td>\n",
       "      <td>5.000000</td>\n",
       "      <td>10.000000</td>\n",
       "      <td>6.000000</td>\n",
       "    </tr>\n",
       "    <tr>\n",
       "      <th>max</th>\n",
       "      <td>11.000000</td>\n",
       "      <td>10.000000</td>\n",
       "      <td>7.000000</td>\n",
       "      <td>15.000000</td>\n",
       "      <td>10.000000</td>\n",
       "    </tr>\n",
       "  </tbody>\n",
       "</table>\n",
       "</div>"
      ],
      "text/plain": [
       "       Time_spent_Alone  Social_event_attendance  Going_outside  \\\n",
       "count       2837.000000              2838.000000    2834.000000   \n",
       "mean           4.505816                 3.963354       3.000000   \n",
       "std            3.479192                 2.903827       2.247327   \n",
       "min            0.000000                 0.000000       0.000000   \n",
       "25%            2.000000                 2.000000       1.000000   \n",
       "50%            4.000000                 3.000000       3.000000   \n",
       "75%            8.000000                 6.000000       5.000000   \n",
       "max           11.000000                10.000000       7.000000   \n",
       "\n",
       "       Friends_circle_size  Post_frequency  \n",
       "count          2823.000000     2835.000000  \n",
       "mean              6.268863        3.564727  \n",
       "std               4.289693        2.926582  \n",
       "min               0.000000        0.000000  \n",
       "25%               3.000000        1.000000  \n",
       "50%               5.000000        3.000000  \n",
       "75%              10.000000        6.000000  \n",
       "max              15.000000       10.000000  "
      ]
     },
     "execution_count": 224,
     "metadata": {},
     "output_type": "execute_result"
    }
   ],
   "source": [
    "df.describe()"
   ]
  },
  {
   "cell_type": "code",
   "execution_count": null,
   "id": "518295e6",
   "metadata": {},
   "outputs": [],
   "source": []
  },
  {
   "cell_type": "code",
   "execution_count": 225,
   "id": "fc712ac5",
   "metadata": {},
   "outputs": [
    {
     "data": {
      "application/vnd.microsoft.datawrangler.viewer.v0+json": {
       "columns": [
        {
         "name": "Personality",
         "rawType": "object",
         "type": "string"
        },
        {
         "name": "count",
         "rawType": "int64",
         "type": "integer"
        }
       ],
       "ref": "4d20f6ba-55aa-4097-8866-177226be83b3",
       "rows": [
        [
         "Extrovert",
         "1491"
        ],
        [
         "Introvert",
         "1409"
        ]
       ],
       "shape": {
        "columns": 1,
        "rows": 2
       }
      },
      "text/plain": [
       "Personality\n",
       "Extrovert    1491\n",
       "Introvert    1409\n",
       "Name: count, dtype: int64"
      ]
     },
     "execution_count": 225,
     "metadata": {},
     "output_type": "execute_result"
    }
   ],
   "source": [
    "df['Personality'].value_counts()"
   ]
  },
  {
   "cell_type": "markdown",
   "id": "99852847",
   "metadata": {},
   "source": [
    "# Visualizing Missing Values"
   ]
  },
  {
   "cell_type": "code",
   "execution_count": 226,
   "id": "c8246807",
   "metadata": {},
   "outputs": [
    {
     "data": {
      "text/plain": [
       "<Axes: >"
      ]
     },
     "execution_count": 226,
     "metadata": {},
     "output_type": "execute_result"
    },
    {
     "data": {
      "image/png": "[encoded data removed]",
      "text/plain": [
       "<Figure size 640x480 with 2 Axes>"
      ]
     },
     "metadata": {},
     "output_type": "display_data"
    }
   ],
   "source": [
    "\n",
    "sns.heatmap(df.isnull(),cbar=True)"
   ]
  },
  {
   "cell_type": "code",
   "execution_count": 227,
   "id": "93e128ef",
   "metadata": {},
   "outputs": [
    {
     "data": {
      "text/plain": [
       "<Axes: >"
      ]
     },
     "execution_count": 227,
     "metadata": {},
     "output_type": "execute_result"
    },
    {
     "data": {
      "image/png": "[encoded data removed]",
      "text/plain": [
       "<Figure size 640x480 with 2 Axes>"
      ]
     },
     "metadata": {},
     "output_type": "display_data"
    }
   ],
   "source": [
    "zoomed_df = df[112:336]\n",
    "sns.heatmap(zoomed_df.isnull(),cbar=True)"
   ]
  },
  {
   "cell_type": "code",
   "execution_count": 228,
   "id": "c94d0f78",
   "metadata": {},
   "outputs": [
    {
     "data": {
      "image/png": "[encoded data removed]",
      "text/plain": [
       "<Figure size 2500x1000 with 2 Axes>"
      ]
     },
     "metadata": {},
     "output_type": "display_data"
    }
   ],
   "source": [
    "import missingno as msno\n",
    "msno.matrix(df)\n",
    "plt.show()"
   ]
  },
  {
   "cell_type": "code",
   "execution_count": null,
   "id": "f7b7a9c4",
   "metadata": {},
   "outputs": [],
   "source": []
  },
  {
   "cell_type": "code",
   "execution_count": 229,
   "id": "5bf45b9a",
   "metadata": {},
   "outputs": [
    {
     "data": {
      "text/plain": [
       "<Axes: xlabel='Personality'>"
      ]
     },
     "execution_count": 229,
     "metadata": {},
     "output_type": "execute_result"
    },
    {
     "data": {
      "image/png": "[encoded data removed]",
      "text/plain": [
       "<Figure size 640x480 with 1 Axes>"
      ]
     },
     "metadata": {},
     "output_type": "display_data"
    }
   ],
   "source": [
    "#univariate analysis\n",
    "df['Personality'].value_counts().plot(kind='bar')"
   ]
  },
  {
   "cell_type": "code",
   "execution_count": 230,
   "id": "f3d3173f",
   "metadata": {},
   "outputs": [
    {
     "data": {
      "text/plain": [
       "Index(['Time_spent_Alone', 'Stage_fear', 'Social_event_attendance',\n",
       "       'Going_outside', 'Drained_after_socializing', 'Friends_circle_size',\n",
       "       'Post_frequency', 'Personality'],\n",
       "      dtype='object')"
      ]
     },
     "execution_count": 230,
     "metadata": {},
     "output_type": "execute_result"
    }
   ],
   "source": [
    "df.columns"
   ]
  },
  {
   "cell_type": "code",
   "execution_count": 231,
   "id": "1aeb9bc5",
   "metadata": {},
   "outputs": [
    {
     "data": {
      "application/vnd.microsoft.datawrangler.viewer.v0+json": {
       "columns": [
        {
         "name": "index",
         "rawType": "int64",
         "type": "integer"
        },
        {
         "name": "Time_spent_Alone",
         "rawType": "float64",
         "type": "float"
        }
       ],
       "ref": "8551a94f-e112-4201-9fb7-9cf7fbf83d46",
       "rows": [
        [
         "0",
         "4.0"
        ],
        [
         "1",
         "9.0"
        ],
        [
         "2",
         "9.0"
        ],
        [
         "3",
         "0.0"
        ],
        [
         "4",
         "3.0"
        ],
        [
         "5",
         "1.0"
        ],
        [
         "6",
         "4.0"
        ],
        [
         "7",
         "2.0"
        ],
        [
         "8",
         "10.0"
        ],
        [
         "9",
         "0.0"
        ],
        [
         "10",
         "3.0"
        ],
        [
         "11",
         "10.0"
        ],
        [
         "12",
         "3.0"
        ],
        [
         "13",
         "3.0"
        ],
        [
         "14",
         "6.0"
        ],
        [
         "15",
         "0.0"
        ],
        [
         "16",
         "9.0"
        ],
        [
         "17",
         "1.0"
        ],
        [
         "18",
         "5.0"
        ],
        [
         "19",
         "1.0"
        ],
        [
         "20",
         "10.0"
        ],
        [
         "21",
         "2.0"
        ],
        [
         "22",
         "1.0"
        ],
        [
         "23",
         "9.0"
        ],
        [
         "24",
         "2.0"
        ],
        [
         "25",
         "2.0"
        ],
        [
         "26",
         "0.0"
        ],
        [
         "27",
         "4.0"
        ],
        [
         "28",
         "2.0"
        ],
        [
         "29",
         "0.0"
        ],
        [
         "30",
         "4.0"
        ],
        [
         "31",
         "4.0"
        ],
        [
         "32",
         "5.0"
        ],
        [
         "33",
         "8.0"
        ],
        [
         "34",
         "10.0"
        ],
        [
         "35",
         "2.0"
        ],
        [
         "36",
         "1.0"
        ],
        [
         "37",
         "1.0"
        ],
        [
         "38",
         "10.0"
        ],
        [
         "39",
         "5.0"
        ],
        [
         "40",
         "3.0"
        ],
        [
         "41",
         "1.0"
        ],
        [
         "42",
         "9.0"
        ],
        [
         "43",
         "6.0"
        ],
        [
         "44",
         "8.0"
        ],
        [
         "45",
         "0.0"
        ],
        [
         "46",
         "4.0"
        ],
        [
         "47",
         "10.0"
        ],
        [
         "48",
         "5.0"
        ],
        [
         "49",
         "1.0"
        ]
       ],
       "shape": {
        "columns": 1,
        "rows": 2900
       }
      },
      "text/plain": [
       "0        4.0\n",
       "1        9.0\n",
       "2        9.0\n",
       "3        0.0\n",
       "4        3.0\n",
       "        ... \n",
       "2895     3.0\n",
       "2896     3.0\n",
       "2897     4.0\n",
       "2898    11.0\n",
       "2899     3.0\n",
       "Name: Time_spent_Alone, Length: 2900, dtype: float64"
      ]
     },
     "execution_count": 231,
     "metadata": {},
     "output_type": "execute_result"
    }
   ],
   "source": [
    "df['Time_spent_Alone']"
   ]
  },
  {
   "cell_type": "code",
   "execution_count": 232,
   "id": "a13f5843",
   "metadata": {},
   "outputs": [
    {
     "data": {
      "text/plain": [
       "np.int64(190)"
      ]
     },
     "execution_count": 232,
     "metadata": {},
     "output_type": "execute_result"
    }
   ],
   "source": [
    "(df['Time_spent_Alone']==4).sum()"
   ]
  },
  {
   "cell_type": "code",
   "execution_count": 233,
   "id": "a0299090",
   "metadata": {},
   "outputs": [
    {
     "data": {
      "text/plain": [
       "<Axes: xlabel='Time_spent_Alone', ylabel='Count'>"
      ]
     },
     "execution_count": 233,
     "metadata": {},
     "output_type": "execute_result"
    },
    {
     "data": {
      "image/png": "[encoded data removed]",
      "text/plain": [
       "<Figure size 640x480 with 1 Axes>"
      ]
     },
     "metadata": {},
     "output_type": "display_data"
    }
   ],
   "source": [
    "sns.histplot(df['Time_spent_Alone'].dropna(),kde=True,bins=range(0,13))"
   ]
  },
  {
   "cell_type": "code",
   "execution_count": 234,
   "id": "c49113e5",
   "metadata": {},
   "outputs": [
    {
     "data": {
      "text/plain": [
       "<Axes: title={'center': 'extrovert'}, ylabel='Time_spent_Alone'>"
      ]
     },
     "execution_count": 234,
     "metadata": {},
     "output_type": "execute_result"
    },
    {
     "data": {
      "image/png": "[encoded data removed]",
      "text/plain": [
       "<Figure size 640x480 with 2 Axes>"
      ]
     },
     "metadata": {},
     "output_type": "display_data"
    }
   ],
   "source": [
    "plt.Figure(figsize=(12,12))\n",
    "fig,ax=plt.subplots(1,2)\n",
    "ax[0].set_title(\"introvert\")\n",
    "sns.boxplot(df_inv['Time_spent_Alone'],ax=ax[0])\n",
    "ax[1].set_title(\"extrovert\")\n",
    "sns.boxplot(df_ext['Time_spent_Alone'],ax=ax[1])"
   ]
  },
  {
   "cell_type": "code",
   "execution_count": 235,
   "id": "7c4444c7",
   "metadata": {},
   "outputs": [
    {
     "data": {
      "application/vnd.microsoft.datawrangler.viewer.v0+json": {
       "columns": [
        {
         "name": "index",
         "rawType": "int64",
         "type": "integer"
        },
        {
         "name": "Time_spent_Alone",
         "rawType": "float64",
         "type": "float"
        },
        {
         "name": "Stage_fear",
         "rawType": "object",
         "type": "string"
        },
        {
         "name": "Social_event_attendance",
         "rawType": "float64",
         "type": "float"
        },
        {
         "name": "Going_outside",
         "rawType": "float64",
         "type": "float"
        },
        {
         "name": "Drained_after_socializing",
         "rawType": "object",
         "type": "string"
        },
        {
         "name": "Friends_circle_size",
         "rawType": "float64",
         "type": "float"
        },
        {
         "name": "Post_frequency",
         "rawType": "float64",
         "type": "float"
        },
        {
         "name": "Personality",
         "rawType": "object",
         "type": "string"
        }
       ],
       "ref": "b6fbcf61-5426-4ce0-ba59-20d7085c3b43",
       "rows": [
        [
         "0",
         "4.0",
         "No",
         "4.0",
         "6.0",
         "No",
         "13.0",
         "5.0",
         "Extrovert"
        ],
        [
         "1",
         "9.0",
         "Yes",
         "0.0",
         "0.0",
         "Yes",
         "0.0",
         "3.0",
         "Introvert"
        ],
        [
         "2",
         "9.0",
         "Yes",
         "1.0",
         "2.0",
         "Yes",
         "5.0",
         "2.0",
         "Introvert"
        ],
        [
         "3",
         "0.0",
         "No",
         "6.0",
         "7.0",
         "No",
         "14.0",
         "8.0",
         "Extrovert"
        ],
        [
         "4",
         "3.0",
         "No",
         "9.0",
         "4.0",
         "No",
         "8.0",
         "5.0",
         "Extrovert"
        ]
       ],
       "shape": {
        "columns": 8,
        "rows": 5
       }
      },
      "text/html": [
       "<div>\n",
       "<style scoped>\n",
       "    .dataframe tbody tr th:only-of-type {\n",
       "        vertical-align: middle;\n",
       "    }\n",
       "\n",
       "    .dataframe tbody tr th {\n",
       "        vertical-align: top;\n",
       "    }\n",
       "\n",
       "    .dataframe thead th {\n",
       "        text-align: right;\n",
       "    }\n",
       "</style>\n",
       "<table border=\"1\" class=\"dataframe\">\n",
       "  <thead>\n",
       "    <tr style=\"text-align: right;\">\n",
       "      <th></th>\n",
       "      <th>Time_spent_Alone</th>\n",
       "      <th>Stage_fear</th>\n",
       "      <th>Social_event_attendance</th>\n",
       "      <th>Going_outside</th>\n",
       "      <th>Drained_after_socializing</th>\n",
       "      <th>Friends_circle_size</th>\n",
       "      <th>Post_frequency</th>\n",
       "      <th>Personality</th>\n",
       "    </tr>\n",
       "  </thead>\n",
       "  <tbody>\n",
       "    <tr>\n",
       "      <th>0</th>\n",
       "      <td>4.0</td>\n",
       "      <td>No</td>\n",
       "      <td>4.0</td>\n",
       "      <td>6.0</td>\n",
       "      <td>No</td>\n",
       "      <td>13.0</td>\n",
       "      <td>5.0</td>\n",
       "      <td>Extrovert</td>\n",
       "    </tr>\n",
       "    <tr>\n",
       "      <th>1</th>\n",
       "      <td>9.0</td>\n",
       "      <td>Yes</td>\n",
       "      <td>0.0</td>\n",
       "      <td>0.0</td>\n",
       "      <td>Yes</td>\n",
       "      <td>0.0</td>\n",
       "      <td>3.0</td>\n",
       "      <td>Introvert</td>\n",
       "    </tr>\n",
       "    <tr>\n",
       "      <th>2</th>\n",
       "      <td>9.0</td>\n",
       "      <td>Yes</td>\n",
       "      <td>1.0</td>\n",
       "      <td>2.0</td>\n",
       "      <td>Yes</td>\n",
       "      <td>5.0</td>\n",
       "      <td>2.0</td>\n",
       "      <td>Introvert</td>\n",
       "    </tr>\n",
       "    <tr>\n",
       "      <th>3</th>\n",
       "      <td>0.0</td>\n",
       "      <td>No</td>\n",
       "      <td>6.0</td>\n",
       "      <td>7.0</td>\n",
       "      <td>No</td>\n",
       "      <td>14.0</td>\n",
       "      <td>8.0</td>\n",
       "      <td>Extrovert</td>\n",
       "    </tr>\n",
       "    <tr>\n",
       "      <th>4</th>\n",
       "      <td>3.0</td>\n",
       "      <td>No</td>\n",
       "      <td>9.0</td>\n",
       "      <td>4.0</td>\n",
       "      <td>No</td>\n",
       "      <td>8.0</td>\n",
       "      <td>5.0</td>\n",
       "      <td>Extrovert</td>\n",
       "    </tr>\n",
       "  </tbody>\n",
       "</table>\n",
       "</div>"
      ],
      "text/plain": [
       "   Time_spent_Alone Stage_fear  Social_event_attendance  Going_outside  \\\n",
       "0               4.0         No                      4.0            6.0   \n",
       "1               9.0        Yes                      0.0            0.0   \n",
       "2               9.0        Yes                      1.0            2.0   \n",
       "3               0.0         No                      6.0            7.0   \n",
       "4               3.0         No                      9.0            4.0   \n",
       "\n",
       "  Drained_after_socializing  Friends_circle_size  Post_frequency Personality  \n",
       "0                        No                 13.0             5.0   Extrovert  \n",
       "1                       Yes                  0.0             3.0   Introvert  \n",
       "2                       Yes                  5.0             2.0   Introvert  \n",
       "3                        No                 14.0             8.0   Extrovert  \n",
       "4                        No                  8.0             5.0   Extrovert  "
      ]
     },
     "execution_count": 235,
     "metadata": {},
     "output_type": "execute_result"
    }
   ],
   "source": [
    "df.head()"
   ]
  },
  {
   "cell_type": "code",
   "execution_count": 236,
   "id": "8b5001f9",
   "metadata": {},
   "outputs": [
    {
     "data": {
      "application/vnd.microsoft.datawrangler.viewer.v0+json": {
       "columns": [
        {
         "name": "index",
         "rawType": "object",
         "type": "string"
        },
        {
         "name": "0",
         "rawType": "object",
         "type": "unknown"
        }
       ],
       "ref": "13c1ae91-37c6-472a-8615-936bbdf163f2",
       "rows": [
        [
         "Time_spent_Alone",
         "float64"
        ],
        [
         "Stage_fear",
         "object"
        ],
        [
         "Social_event_attendance",
         "float64"
        ],
        [
         "Going_outside",
         "float64"
        ],
        [
         "Drained_after_socializing",
         "object"
        ],
        [
         "Friends_circle_size",
         "float64"
        ],
        [
         "Post_frequency",
         "float64"
        ],
        [
         "Personality",
         "object"
        ]
       ],
       "shape": {
        "columns": 1,
        "rows": 8
       }
      },
      "text/plain": [
       "Time_spent_Alone             float64\n",
       "Stage_fear                    object\n",
       "Social_event_attendance      float64\n",
       "Going_outside                float64\n",
       "Drained_after_socializing     object\n",
       "Friends_circle_size          float64\n",
       "Post_frequency               float64\n",
       "Personality                   object\n",
       "dtype: object"
      ]
     },
     "execution_count": 236,
     "metadata": {},
     "output_type": "execute_result"
    }
   ],
   "source": [
    "df.dtypes"
   ]
  },
  {
   "cell_type": "code",
   "execution_count": 237,
   "id": "482230fa",
   "metadata": {},
   "outputs": [],
   "source": [
    "numerical_features= ['Time_spent_Alone','Social_event_attendance','Going_outside','Friends_circle_size','Post_frequency']\n",
    "categorical_features =['Stage_fear','Drained_after_socializing']\n",
    "target = 'Personality'"
   ]
  },
  {
   "cell_type": "code",
   "execution_count": 238,
   "id": "ec8c588c",
   "metadata": {},
   "outputs": [
    {
     "name": "stdout",
     "output_type": "stream",
     "text": [
      "Stage_fear\n",
      "No     1417\n",
      "Yes    1410\n",
      "Name: count, dtype: int64\n",
      "Drained_after_socializing\n",
      "No     1441\n",
      "Yes    1407\n",
      "Name: count, dtype: int64\n"
     ]
    }
   ],
   "source": [
    "for col in categorical_features:\n",
    "    print(df[col].value_counts())"
   ]
  },
  {
   "cell_type": "code",
   "execution_count": 239,
   "id": "8400d806",
   "metadata": {},
   "outputs": [
    {
     "data": {
      "image/png": "[encoded data removed]",
      "text/plain": [
       "<Figure size 1500x1500 with 5 Axes>"
      ]
     },
     "metadata": {},
     "output_type": "display_data"
    }
   ],
   "source": [
    "plt.figure(figsize=(15,15))\n",
    "for i ,col in enumerate(numerical_features,1):\n",
    "    plt.subplot(3,3,i)\n",
    "    sns.boxplot(x=target,y=col,hue=target,data=df)\n",
    "    "
   ]
  },
  {
   "cell_type": "code",
   "execution_count": 240,
   "id": "99860eeb",
   "metadata": {},
   "outputs": [
    {
     "data": {
      "text/plain": [
       "<seaborn.axisgrid.PairGrid at 0x27c9431eb70>"
      ]
     },
     "execution_count": 240,
     "metadata": {},
     "output_type": "execute_result"
    },
    {
     "data": {
      "image/png": "[encoded data removed]",
      "text/plain": [
       "<Figure size 1364.5x1250 with 30 Axes>"
      ]
     },
     "metadata": {},
     "output_type": "display_data"
    }
   ],
   "source": [
    "sns.pairplot(df[numerical_features+[target]],hue=target,diag_kind='kde')"
   ]
  },
  {
   "cell_type": "code",
   "execution_count": 241,
   "id": "b7e3e17a",
   "metadata": {},
   "outputs": [
    {
     "data": {
      "text/plain": [
       "<Axes: >"
      ]
     },
     "execution_count": 241,
     "metadata": {},
     "output_type": "execute_result"
    },
    {
     "data": {
      "image/png": "[encoded data removed]",
      "text/plain": [
       "<Figure size 640x480 with 2 Axes>"
      ]
     },
     "metadata": {},
     "output_type": "display_data"
    }
   ],
   "source": [
    "sns.heatmap(df[numerical_features].corr(),annot=True)"
   ]
  },
  {
   "cell_type": "markdown",
   "id": "76c56806",
   "metadata": {},
   "source": [
    "# Data PreProcessing\n",
    "\n"
   ]
  },
  {
   "cell_type": "code",
   "execution_count": 242,
   "id": "d09bb78d",
   "metadata": {},
   "outputs": [],
   "source": [
    "from sklearn.preprocessing import LabelEncoder"
   ]
  },
  {
   "cell_type": "code",
   "execution_count": 243,
   "id": "602ec78c",
   "metadata": {},
   "outputs": [],
   "source": [
    "df.drop_duplicates(inplace=True)"
   ]
  },
  {
   "cell_type": "code",
   "execution_count": 244,
   "id": "47bc2420",
   "metadata": {},
   "outputs": [
    {
     "data": {
      "text/plain": [
       "np.int64(0)"
      ]
     },
     "execution_count": 244,
     "metadata": {},
     "output_type": "execute_result"
    }
   ],
   "source": [
    "df.duplicated().sum()"
   ]
  },
  {
   "cell_type": "code",
   "execution_count": 245,
   "id": "43d896c3",
   "metadata": {},
   "outputs": [
    {
     "data": {
      "application/vnd.microsoft.datawrangler.viewer.v0+json": {
       "columns": [
        {
         "name": "index",
         "rawType": "object",
         "type": "string"
        },
        {
         "name": "0",
         "rawType": "int64",
         "type": "integer"
        }
       ],
       "ref": "0d57fa7a-457e-4912-a479-6ca21552449e",
       "rows": [
        [
         "Time_spent_Alone",
         "61"
        ],
        [
         "Stage_fear",
         "73"
        ],
        [
         "Social_event_attendance",
         "61"
        ],
        [
         "Going_outside",
         "65"
        ],
        [
         "Drained_after_socializing",
         "51"
        ],
        [
         "Friends_circle_size",
         "75"
        ],
        [
         "Post_frequency",
         "63"
        ],
        [
         "Personality",
         "0"
        ]
       ],
       "shape": {
        "columns": 1,
        "rows": 8
       }
      },
      "text/plain": [
       "Time_spent_Alone             61\n",
       "Stage_fear                   73\n",
       "Social_event_attendance      61\n",
       "Going_outside                65\n",
       "Drained_after_socializing    51\n",
       "Friends_circle_size          75\n",
       "Post_frequency               63\n",
       "Personality                   0\n",
       "dtype: int64"
      ]
     },
     "execution_count": 245,
     "metadata": {},
     "output_type": "execute_result"
    }
   ],
   "source": [
    "bar_data = df.isnull().sum()\n",
    "bar_data"
   ]
  },
  {
   "cell_type": "code",
   "execution_count": 246,
   "id": "236b68fa",
   "metadata": {},
   "outputs": [
    {
     "data": {
      "text/plain": [
       "([0, 1, 2, 3, 4, 5, 6, 7],\n",
       " [Text(0, 0, 'Time_spent_Alone'),\n",
       "  Text(1, 0, 'Stage_fear'),\n",
       "  Text(2, 0, 'Social_event_attendance'),\n",
       "  Text(3, 0, 'Going_outside'),\n",
       "  Text(4, 0, 'Drained_after_socializing'),\n",
       "  Text(5, 0, 'Friends_circle_size'),\n",
       "  Text(6, 0, 'Post_frequency'),\n",
       "  Text(7, 0, 'Personality')])"
      ]
     },
     "execution_count": 246,
     "metadata": {},
     "output_type": "execute_result"
    },
    {
     "data": {
      "image/png": "[encoded data removed]",
      "text/plain": [
       "<Figure size 640x480 with 1 Axes>"
      ]
     },
     "metadata": {},
     "output_type": "display_data"
    }
   ],
   "source": [
    "sns.barplot(bar_data)\n",
    "plt.xticks(rotation=90)"
   ]
  },
  {
   "cell_type": "code",
   "execution_count": 247,
   "id": "1838db98",
   "metadata": {},
   "outputs": [
    {
     "name": "stdout",
     "output_type": "stream",
     "text": [
      "Encoded class : ['Extrovert' 'Introvert'] [0 1]\n"
     ]
    }
   ],
   "source": [
    "from sklearn.preprocessing import LabelEncoder\n",
    "\n",
    "le = LabelEncoder()\n",
    "df[target]=le.fit_transform(df[target])#transforming into numerical values\n",
    "print(f'Encoded class : {le.classes_} {le.transform(le.classes_)}')\n"
   ]
  },
  {
   "cell_type": "code",
   "execution_count": 248,
   "id": "34eea164",
   "metadata": {},
   "outputs": [
    {
     "name": "stdout",
     "output_type": "stream",
     "text": [
      "['Stage_fear', 'Drained_after_socializing']\n"
     ]
    }
   ],
   "source": [
    "print(categorical_features)"
   ]
  },
  {
   "cell_type": "code",
   "execution_count": 249,
   "id": "649e9a8f",
   "metadata": {},
   "outputs": [
    {
     "name": "stdout",
     "output_type": "stream",
     "text": [
      "['Time_spent_Alone', 'Social_event_attendance', 'Going_outside', 'Friends_circle_size', 'Post_frequency']\n"
     ]
    }
   ],
   "source": [
    "print(numerical_features)"
   ]
  },
  {
   "cell_type": "code",
   "execution_count": 250,
   "id": "befb58f2",
   "metadata": {},
   "outputs": [
    {
     "data": {
      "application/vnd.microsoft.datawrangler.viewer.v0+json": {
       "columns": [
        {
         "name": "index",
         "rawType": "int64",
         "type": "integer"
        },
        {
         "name": "Stage_fear",
         "rawType": "object",
         "type": "unknown"
        },
        {
         "name": "Drained_after_socializing",
         "rawType": "object",
         "type": "unknown"
        }
       ],
       "ref": "c3cf811a-56f2-4faf-a8cd-14344c2c10a7",
       "rows": [
        [
         "0",
         "No",
         "No"
        ],
        [
         "1",
         "Yes",
         "Yes"
        ],
        [
         "2",
         "Yes",
         "Yes"
        ],
        [
         "3",
         "No",
         "No"
        ],
        [
         "4",
         "No",
         "No"
        ],
        [
         "5",
         "No",
         "No"
        ],
        [
         "6",
         "No",
         "No"
        ],
        [
         "7",
         "No",
         "No"
        ],
        [
         "8",
         "Yes",
         "Yes"
        ],
        [
         "9",
         "No",
         "No"
        ],
        [
         "10",
         "No",
         "No"
        ],
        [
         "11",
         "Yes",
         "Yes"
        ],
        [
         "12",
         "No",
         "No"
        ],
        [
         "13",
         "No",
         "No"
        ],
        [
         "14",
         "Yes",
         "Yes"
        ],
        [
         "15",
         "No",
         "No"
        ],
        [
         "16",
         "Yes",
         "Yes"
        ],
        [
         "17",
         "No",
         "No"
        ],
        [
         "18",
         "Yes",
         "Yes"
        ],
        [
         "19",
         "No",
         "No"
        ],
        [
         "20",
         "Yes",
         "Yes"
        ],
        [
         "21",
         "No",
         "No"
        ],
        [
         "22",
         "No",
         "No"
        ],
        [
         "23",
         "Yes",
         "Yes"
        ],
        [
         "24",
         "No",
         "No"
        ],
        [
         "25",
         "No",
         "No"
        ],
        [
         "26",
         "No",
         "No"
        ],
        [
         "27",
         "No",
         "No"
        ],
        [
         "28",
         "No",
         "No"
        ],
        [
         "29",
         "No",
         "No"
        ],
        [
         "30",
         "No",
         "No"
        ],
        [
         "31",
         "No",
         "No"
        ],
        [
         "32",
         "Yes",
         "Yes"
        ],
        [
         "33",
         "Yes",
         null
        ],
        [
         "34",
         "Yes",
         "Yes"
        ],
        [
         "35",
         "No",
         "No"
        ],
        [
         "36",
         "No",
         "No"
        ],
        [
         "37",
         "No",
         "No"
        ],
        [
         "38",
         "Yes",
         "Yes"
        ],
        [
         "39",
         "Yes",
         "Yes"
        ],
        [
         "40",
         "No",
         "No"
        ],
        [
         "41",
         "No",
         "No"
        ],
        [
         "42",
         "Yes",
         "Yes"
        ],
        [
         "43",
         "Yes",
         "Yes"
        ],
        [
         "44",
         "Yes",
         "Yes"
        ],
        [
         "45",
         "No",
         "No"
        ],
        [
         "46",
         "No",
         "No"
        ],
        [
         "48",
         "Yes",
         "Yes"
        ],
        [
         "49",
         "No",
         "No"
        ],
        [
         "50",
         "Yes",
         "Yes"
        ]
       ],
       "shape": {
        "columns": 2,
        "rows": 2512
       }
      },
      "text/html": [
       "<div>\n",
       "<style scoped>\n",
       "    .dataframe tbody tr th:only-of-type {\n",
       "        vertical-align: middle;\n",
       "    }\n",
       "\n",
       "    .dataframe tbody tr th {\n",
       "        vertical-align: top;\n",
       "    }\n",
       "\n",
       "    .dataframe thead th {\n",
       "        text-align: right;\n",
       "    }\n",
       "</style>\n",
       "<table border=\"1\" class=\"dataframe\">\n",
       "  <thead>\n",
       "    <tr style=\"text-align: right;\">\n",
       "      <th></th>\n",
       "      <th>Stage_fear</th>\n",
       "      <th>Drained_after_socializing</th>\n",
       "    </tr>\n",
       "  </thead>\n",
       "  <tbody>\n",
       "    <tr>\n",
       "      <th>0</th>\n",
       "      <td>No</td>\n",
       "      <td>No</td>\n",
       "    </tr>\n",
       "    <tr>\n",
       "      <th>1</th>\n",
       "      <td>Yes</td>\n",
       "      <td>Yes</td>\n",
       "    </tr>\n",
       "    <tr>\n",
       "      <th>2</th>\n",
       "      <td>Yes</td>\n",
       "      <td>Yes</td>\n",
       "    </tr>\n",
       "    <tr>\n",
       "      <th>3</th>\n",
       "      <td>No</td>\n",
       "      <td>No</td>\n",
       "    </tr>\n",
       "    <tr>\n",
       "      <th>4</th>\n",
       "      <td>No</td>\n",
       "      <td>No</td>\n",
       "    </tr>\n",
       "    <tr>\n",
       "      <th>...</th>\n",
       "      <td>...</td>\n",
       "      <td>...</td>\n",
       "    </tr>\n",
       "    <tr>\n",
       "      <th>2894</th>\n",
       "      <td>No</td>\n",
       "      <td>No</td>\n",
       "    </tr>\n",
       "    <tr>\n",
       "      <th>2896</th>\n",
       "      <td>No</td>\n",
       "      <td>No</td>\n",
       "    </tr>\n",
       "    <tr>\n",
       "      <th>2897</th>\n",
       "      <td>Yes</td>\n",
       "      <td>Yes</td>\n",
       "    </tr>\n",
       "    <tr>\n",
       "      <th>2898</th>\n",
       "      <td>Yes</td>\n",
       "      <td>Yes</td>\n",
       "    </tr>\n",
       "    <tr>\n",
       "      <th>2899</th>\n",
       "      <td>No</td>\n",
       "      <td>No</td>\n",
       "    </tr>\n",
       "  </tbody>\n",
       "</table>\n",
       "<p>2512 rows × 2 columns</p>\n",
       "</div>"
      ],
      "text/plain": [
       "     Stage_fear Drained_after_socializing\n",
       "0            No                        No\n",
       "1           Yes                       Yes\n",
       "2           Yes                       Yes\n",
       "3            No                        No\n",
       "4            No                        No\n",
       "...         ...                       ...\n",
       "2894         No                        No\n",
       "2896         No                        No\n",
       "2897        Yes                       Yes\n",
       "2898        Yes                       Yes\n",
       "2899         No                        No\n",
       "\n",
       "[2512 rows x 2 columns]"
      ]
     },
     "execution_count": 250,
     "metadata": {},
     "output_type": "execute_result"
    }
   ],
   "source": [
    "df[categorical_features]"
   ]
  },
  {
   "cell_type": "code",
   "execution_count": 259,
   "id": "5fa69767",
   "metadata": {},
   "outputs": [
    {
     "data": {
      "application/vnd.microsoft.datawrangler.viewer.v0+json": {
       "columns": [
        {
         "name": "index",
         "rawType": "int64",
         "type": "integer"
        },
        {
         "name": "Time_spent_Alone",
         "rawType": "float64",
         "type": "float"
        },
        {
         "name": "Stage_fear",
         "rawType": "object",
         "type": "unknown"
        },
        {
         "name": "Social_event_attendance",
         "rawType": "float64",
         "type": "float"
        },
        {
         "name": "Going_outside",
         "rawType": "float64",
         "type": "float"
        },
        {
         "name": "Drained_after_socializing",
         "rawType": "object",
         "type": "unknown"
        },
        {
         "name": "Friends_circle_size",
         "rawType": "float64",
         "type": "float"
        },
        {
         "name": "Post_frequency",
         "rawType": "float64",
         "type": "float"
        },
        {
         "name": "Personality",
         "rawType": "int64",
         "type": "integer"
        }
       ],
       "ref": "aaa9d259-6beb-41cd-8ecb-a161bf359b4c",
       "rows": [
        [
         "0",
         "4.0",
         "No",
         "4.0",
         "6.0",
         "No",
         "13.0",
         "5.0",
         "0"
        ],
        [
         "1",
         "9.0",
         "Yes",
         "0.0",
         "0.0",
         "Yes",
         "0.0",
         "3.0",
         "1"
        ],
        [
         "2",
         "9.0",
         "Yes",
         "1.0",
         "2.0",
         "Yes",
         "5.0",
         "2.0",
         "1"
        ],
        [
         "3",
         "0.0",
         "No",
         "6.0",
         "7.0",
         "No",
         "14.0",
         "8.0",
         "0"
        ],
        [
         "4",
         "3.0",
         "No",
         "9.0",
         "4.0",
         "No",
         "8.0",
         "5.0",
         "0"
        ],
        [
         "5",
         "1.0",
         "No",
         "7.0",
         "5.0",
         "No",
         "6.0",
         "6.0",
         "0"
        ],
        [
         "6",
         "4.0",
         "No",
         "9.0",
         null,
         "No",
         "7.0",
         "7.0",
         "0"
        ],
        [
         "7",
         "2.0",
         "No",
         "8.0",
         "4.0",
         "No",
         "7.0",
         "8.0",
         "0"
        ],
        [
         "8",
         "10.0",
         "Yes",
         "1.0",
         "3.0",
         "Yes",
         "0.0",
         "3.0",
         "1"
        ],
        [
         "9",
         "0.0",
         "No",
         "8.0",
         "6.0",
         "No",
         "13.0",
         "8.0",
         "0"
        ],
        [
         "10",
         "3.0",
         "No",
         "9.0",
         "6.0",
         "No",
         "15.0",
         "5.0",
         "0"
        ],
        [
         "11",
         "10.0",
         "Yes",
         "3.0",
         "1.0",
         "Yes",
         "4.0",
         "0.0",
         "1"
        ],
        [
         "12",
         "3.0",
         "No",
         "6.0",
         "7.0",
         "No",
         "14.0",
         "10.0",
         "0"
        ],
        [
         "13",
         "3.0",
         "No",
         "6.0",
         "4.0",
         "No",
         "10.0",
         "7.0",
         "0"
        ],
        [
         "14",
         "6.0",
         "Yes",
         "3.0",
         "0.0",
         "Yes",
         "1.0",
         "3.0",
         "1"
        ],
        [
         "15",
         "0.0",
         "No",
         "4.0",
         "4.0",
         "No",
         "8.0",
         "8.0",
         "0"
        ],
        [
         "16",
         "9.0",
         "Yes",
         "0.0",
         "0.0",
         "Yes",
         "0.0",
         "0.0",
         "1"
        ],
        [
         "17",
         "1.0",
         "No",
         "5.0",
         "6.0",
         "No",
         "10.0",
         "4.0",
         "0"
        ],
        [
         "18",
         "5.0",
         "Yes",
         "3.0",
         "0.0",
         "Yes",
         "4.0",
         "2.0",
         "1"
        ],
        [
         "19",
         "1.0",
         "No",
         "7.0",
         "5.0",
         "No",
         "12.0",
         "5.0",
         "0"
        ],
        [
         "20",
         "10.0",
         "Yes",
         "3.0",
         "1.0",
         "Yes",
         "2.0",
         "1.0",
         "1"
        ],
        [
         "21",
         "2.0",
         "No",
         "8.0",
         "4.0",
         "No",
         "13.0",
         "6.0",
         "0"
        ],
        [
         "22",
         "1.0",
         "No",
         "6.0",
         "7.0",
         "No",
         "14.0",
         "9.0",
         "0"
        ],
        [
         "23",
         "9.0",
         "Yes",
         "2.0",
         "2.0",
         "Yes",
         "1.0",
         "0.0",
         "1"
        ],
        [
         "24",
         "2.0",
         "No",
         "8.0",
         "7.0",
         "No",
         "15.0",
         "6.0",
         "0"
        ],
        [
         "25",
         "2.0",
         "No",
         "8.0",
         "4.0",
         "No",
         "11.0",
         "9.0",
         "0"
        ],
        [
         "26",
         "0.0",
         "No",
         "6.0",
         "4.0",
         "No",
         "14.0",
         "9.0",
         "0"
        ],
        [
         "27",
         "4.0",
         "No",
         "5.0",
         "7.0",
         "No",
         "6.0",
         "6.0",
         "0"
        ],
        [
         "28",
         "2.0",
         "No",
         "6.0",
         "4.0",
         "No",
         "12.0",
         "10.0",
         "0"
        ],
        [
         "29",
         "0.0",
         "No",
         "9.0",
         "4.0",
         "No",
         "14.0",
         "7.0",
         "0"
        ],
        [
         "30",
         "4.0",
         "No",
         "10.0",
         "4.0",
         "No",
         "9.0",
         "10.0",
         "0"
        ],
        [
         "31",
         "4.0",
         "No",
         "7.0",
         "7.0",
         "No",
         "7.0",
         "9.0",
         "0"
        ],
        [
         "32",
         "5.0",
         "Yes",
         "3.0",
         "3.0",
         "Yes",
         "0.0",
         "1.0",
         "1"
        ],
        [
         "33",
         "8.0",
         "Yes",
         "3.0",
         "3.0",
         null,
         "2.0",
         "0.0",
         "1"
        ],
        [
         "34",
         "10.0",
         "Yes",
         "1.0",
         "1.0",
         "Yes",
         "3.0",
         "2.0",
         "1"
        ],
        [
         "35",
         "2.0",
         "No",
         "6.0",
         "5.0",
         "No",
         "14.0",
         "9.0",
         "0"
        ],
        [
         "36",
         "1.0",
         "No",
         "4.0",
         "4.0",
         "No",
         "15.0",
         "4.0",
         "0"
        ],
        [
         "37",
         "1.0",
         "No",
         "6.0",
         "4.0",
         "No",
         "10.0",
         "5.0",
         "0"
        ],
        [
         "38",
         "10.0",
         "Yes",
         "1.0",
         "2.0",
         "Yes",
         "2.0",
         "0.0",
         "1"
        ],
        [
         "39",
         "5.0",
         "Yes",
         "0.0",
         "1.0",
         "Yes",
         "5.0",
         "0.0",
         "1"
        ],
        [
         "40",
         "3.0",
         "No",
         "5.0",
         "5.0",
         "No",
         "13.0",
         "5.0",
         "0"
        ],
        [
         "41",
         "1.0",
         "No",
         "4.0",
         "5.0",
         "No",
         null,
         "10.0",
         "0"
        ],
        [
         "42",
         "9.0",
         "Yes",
         "1.0",
         "3.0",
         "Yes",
         "2.0",
         "2.0",
         "1"
        ],
        [
         "43",
         "6.0",
         "Yes",
         "2.0",
         "2.0",
         "Yes",
         "2.0",
         "1.0",
         "1"
        ],
        [
         "44",
         "8.0",
         "Yes",
         "2.0",
         "1.0",
         "Yes",
         "5.0",
         "3.0",
         "1"
        ],
        [
         "45",
         "0.0",
         "No",
         "8.0",
         "6.0",
         "No",
         "6.0",
         "10.0",
         "0"
        ],
        [
         "46",
         "4.0",
         "No",
         "7.0",
         "4.0",
         "No",
         "13.0",
         "10.0",
         "0"
        ],
        [
         "48",
         "5.0",
         "Yes",
         "1.0",
         "3.0",
         "Yes",
         "3.0",
         "3.0",
         "1"
        ],
        [
         "49",
         "1.0",
         "No",
         "5.0",
         "6.0",
         "No",
         "8.0",
         "10.0",
         "0"
        ],
        [
         "50",
         "6.0",
         "Yes",
         "1.0",
         "0.0",
         "Yes",
         "3.0",
         "1.0",
         "1"
        ]
       ],
       "shape": {
        "columns": 8,
        "rows": 2512
       }
      },
      "text/html": [
       "<div>\n",
       "<style scoped>\n",
       "    .dataframe tbody tr th:only-of-type {\n",
       "        vertical-align: middle;\n",
       "    }\n",
       "\n",
       "    .dataframe tbody tr th {\n",
       "        vertical-align: top;\n",
       "    }\n",
       "\n",
       "    .dataframe thead th {\n",
       "        text-align: right;\n",
       "    }\n",
       "</style>\n",
       "<table border=\"1\" class=\"dataframe\">\n",
       "  <thead>\n",
       "    <tr style=\"text-align: right;\">\n",
       "      <th></th>\n",
       "      <th>Time_spent_Alone</th>\n",
       "      <th>Stage_fear</th>\n",
       "      <th>Social_event_attendance</th>\n",
       "      <th>Going_outside</th>\n",
       "      <th>Drained_after_socializing</th>\n",
       "      <th>Friends_circle_size</th>\n",
       "      <th>Post_frequency</th>\n",
       "      <th>Personality</th>\n",
       "    </tr>\n",
       "  </thead>\n",
       "  <tbody>\n",
       "    <tr>\n",
       "      <th>0</th>\n",
       "      <td>4.0</td>\n",
       "      <td>No</td>\n",
       "      <td>4.0</td>\n",
       "      <td>6.0</td>\n",
       "      <td>No</td>\n",
       "      <td>13.0</td>\n",
       "      <td>5.0</td>\n",
       "      <td>0</td>\n",
       "    </tr>\n",
       "    <tr>\n",
       "      <th>1</th>\n",
       "      <td>9.0</td>\n",
       "      <td>Yes</td>\n",
       "      <td>0.0</td>\n",
       "      <td>0.0</td>\n",
       "      <td>Yes</td>\n",
       "      <td>0.0</td>\n",
       "      <td>3.0</td>\n",
       "      <td>1</td>\n",
       "    </tr>\n",
       "    <tr>\n",
       "      <th>2</th>\n",
       "      <td>9.0</td>\n",
       "      <td>Yes</td>\n",
       "      <td>1.0</td>\n",
       "      <td>2.0</td>\n",
       "      <td>Yes</td>\n",
       "      <td>5.0</td>\n",
       "      <td>2.0</td>\n",
       "      <td>1</td>\n",
       "    </tr>\n",
       "    <tr>\n",
       "      <th>3</th>\n",
       "      <td>0.0</td>\n",
       "      <td>No</td>\n",
       "      <td>6.0</td>\n",
       "      <td>7.0</td>\n",
       "      <td>No</td>\n",
       "      <td>14.0</td>\n",
       "      <td>8.0</td>\n",
       "      <td>0</td>\n",
       "    </tr>\n",
       "    <tr>\n",
       "      <th>4</th>\n",
       "      <td>3.0</td>\n",
       "      <td>No</td>\n",
       "      <td>9.0</td>\n",
       "      <td>4.0</td>\n",
       "      <td>No</td>\n",
       "      <td>8.0</td>\n",
       "      <td>5.0</td>\n",
       "      <td>0</td>\n",
       "    </tr>\n",
       "    <tr>\n",
       "      <th>...</th>\n",
       "      <td>...</td>\n",
       "      <td>...</td>\n",
       "      <td>...</td>\n",
       "      <td>...</td>\n",
       "      <td>...</td>\n",
       "      <td>...</td>\n",
       "      <td>...</td>\n",
       "      <td>...</td>\n",
       "    </tr>\n",
       "    <tr>\n",
       "      <th>2894</th>\n",
       "      <td>0.0</td>\n",
       "      <td>No</td>\n",
       "      <td>9.0</td>\n",
       "      <td>3.0</td>\n",
       "      <td>No</td>\n",
       "      <td>12.0</td>\n",
       "      <td>NaN</td>\n",
       "      <td>0</td>\n",
       "    </tr>\n",
       "    <tr>\n",
       "      <th>2896</th>\n",
       "      <td>3.0</td>\n",
       "      <td>No</td>\n",
       "      <td>8.0</td>\n",
       "      <td>3.0</td>\n",
       "      <td>No</td>\n",
       "      <td>14.0</td>\n",
       "      <td>9.0</td>\n",
       "      <td>0</td>\n",
       "    </tr>\n",
       "    <tr>\n",
       "      <th>2897</th>\n",
       "      <td>4.0</td>\n",
       "      <td>Yes</td>\n",
       "      <td>1.0</td>\n",
       "      <td>1.0</td>\n",
       "      <td>Yes</td>\n",
       "      <td>4.0</td>\n",
       "      <td>0.0</td>\n",
       "      <td>1</td>\n",
       "    </tr>\n",
       "    <tr>\n",
       "      <th>2898</th>\n",
       "      <td>11.0</td>\n",
       "      <td>Yes</td>\n",
       "      <td>1.0</td>\n",
       "      <td>NaN</td>\n",
       "      <td>Yes</td>\n",
       "      <td>2.0</td>\n",
       "      <td>0.0</td>\n",
       "      <td>1</td>\n",
       "    </tr>\n",
       "    <tr>\n",
       "      <th>2899</th>\n",
       "      <td>3.0</td>\n",
       "      <td>No</td>\n",
       "      <td>6.0</td>\n",
       "      <td>6.0</td>\n",
       "      <td>No</td>\n",
       "      <td>6.0</td>\n",
       "      <td>9.0</td>\n",
       "      <td>0</td>\n",
       "    </tr>\n",
       "  </tbody>\n",
       "</table>\n",
       "<p>2512 rows × 8 columns</p>\n",
       "</div>"
      ],
      "text/plain": [
       "      Time_spent_Alone Stage_fear  Social_event_attendance  Going_outside  \\\n",
       "0                  4.0         No                      4.0            6.0   \n",
       "1                  9.0        Yes                      0.0            0.0   \n",
       "2                  9.0        Yes                      1.0            2.0   \n",
       "3                  0.0         No                      6.0            7.0   \n",
       "4                  3.0         No                      9.0            4.0   \n",
       "...                ...        ...                      ...            ...   \n",
       "2894               0.0         No                      9.0            3.0   \n",
       "2896               3.0         No                      8.0            3.0   \n",
       "2897               4.0        Yes                      1.0            1.0   \n",
       "2898              11.0        Yes                      1.0            NaN   \n",
       "2899               3.0         No                      6.0            6.0   \n",
       "\n",
       "     Drained_after_socializing  Friends_circle_size  Post_frequency  \\\n",
       "0                           No                 13.0             5.0   \n",
       "1                          Yes                  0.0             3.0   \n",
       "2                          Yes                  5.0             2.0   \n",
       "3                           No                 14.0             8.0   \n",
       "4                           No                  8.0             5.0   \n",
       "...                        ...                  ...             ...   \n",
       "2894                        No                 12.0             NaN   \n",
       "2896                        No                 14.0             9.0   \n",
       "2897                       Yes                  4.0             0.0   \n",
       "2898                       Yes                  2.0             0.0   \n",
       "2899                        No                  6.0             9.0   \n",
       "\n",
       "      Personality  \n",
       "0               0  \n",
       "1               1  \n",
       "2               1  \n",
       "3               0  \n",
       "4               0  \n",
       "...           ...  \n",
       "2894            0  \n",
       "2896            0  \n",
       "2897            1  \n",
       "2898            1  \n",
       "2899            0  \n",
       "\n",
       "[2512 rows x 8 columns]"
      ]
     },
     "execution_count": 259,
     "metadata": {},
     "output_type": "execute_result"
    }
   ],
   "source": [
    "df"
   ]
  },
  {
   "cell_type": "code",
   "execution_count": 261,
   "id": "0a6d0158",
   "metadata": {},
   "outputs": [],
   "source": [
    "from sklearn.impute import SimpleImputer\n",
    "\n",
    "from sklearn.compose import make_column_transformer\n",
    "\n",
    "\n",
    "#imputing numeric features\n",
    "num_imputer = SimpleImputer(strategy='median')\n",
    "df[numerical_features]=num_imputer.fit_transform(df[numerical_features])\n",
    "cat_imputer = SimpleImputer(strategy='most_frequent')\n",
    "df[categorical_features]=cat_imputer.fit_transform(df[categorical_features])\n",
    "\n",
    "# preprocessor = make_column_transformer(\n",
    "#     (num_imputer,numerical_features),\n",
    "#     (cat_imputer,categorical_features)\n",
    "# )\n",
    "# imputed = preprocessor.fit_transform(df)"
   ]
  },
  {
   "cell_type": "code",
   "execution_count": null,
   "id": "baff5979",
   "metadata": {},
   "outputs": [
    {
     "ename": "KeyError",
     "evalue": "\"None of [Index(['Stage_fear', 'Drained_after_socializing'], dtype='object')] are in the [columns]\"",
     "output_type": "error",
     "traceback": [
      "\u001b[31m---------------------------------------------------------------------------\u001b[39m",
      "\u001b[31mKeyError\u001b[39m                                  Traceback (most recent call last)",
      "\u001b[36mCell\u001b[39m\u001b[36m \u001b[39m\u001b[32mIn[264]\u001b[39m\u001b[32m, line 1\u001b[39m\n\u001b[32m----> \u001b[39m\u001b[32m1\u001b[39m df = \u001b[43mpd\u001b[49m\u001b[43m.\u001b[49m\u001b[43mget_dummies\u001b[49m\u001b[43m(\u001b[49m\u001b[43mdf\u001b[49m\u001b[43m,\u001b[49m\u001b[43m \u001b[49m\u001b[43mcolumns\u001b[49m\u001b[43m=\u001b[49m\u001b[43mcategorical_features\u001b[49m\u001b[43m,\u001b[49m\u001b[43m \u001b[49m\u001b[43mdrop_first\u001b[49m\u001b[43m=\u001b[49m\u001b[38;5;28;43;01mTrue\u001b[39;49;00m\u001b[43m)\u001b[49m\n\u001b[32m      2\u001b[39m df\n",
      "\u001b[36mFile \u001b[39m\u001b[32mc:\\Users\\MenaceXnadin\\Documents\\Machine Learning\\NADIN@JUPYTER(ML)\\aiml\\Lib\\site-packages\\pandas\\core\\reshape\\encoding.py:169\u001b[39m, in \u001b[36mget_dummies\u001b[39m\u001b[34m(data, prefix, prefix_sep, dummy_na, columns, sparse, drop_first, dtype)\u001b[39m\n\u001b[32m    167\u001b[39m     \u001b[38;5;28;01mraise\u001b[39;00m \u001b[38;5;167;01mTypeError\u001b[39;00m(\u001b[33m\"\u001b[39m\u001b[33mInput must be a list-like for parameter `columns`\u001b[39m\u001b[33m\"\u001b[39m)\n\u001b[32m    168\u001b[39m \u001b[38;5;28;01melse\u001b[39;00m:\n\u001b[32m--> \u001b[39m\u001b[32m169\u001b[39m     data_to_encode = \u001b[43mdata\u001b[49m\u001b[43m[\u001b[49m\u001b[43mcolumns\u001b[49m\u001b[43m]\u001b[49m\n\u001b[32m    171\u001b[39m \u001b[38;5;66;03m# validate prefixes and separator to avoid silently dropping cols\u001b[39;00m\n\u001b[32m    172\u001b[39m \u001b[38;5;28;01mdef\u001b[39;00m\u001b[38;5;250m \u001b[39m\u001b[34mcheck_len\u001b[39m(item, name: \u001b[38;5;28mstr\u001b[39m):\n",
      "\u001b[36mFile \u001b[39m\u001b[32mc:\\Users\\MenaceXnadin\\Documents\\Machine Learning\\NADIN@JUPYTER(ML)\\aiml\\Lib\\site-packages\\pandas\\core\\frame.py:4108\u001b[39m, in \u001b[36mDataFrame.__getitem__\u001b[39m\u001b[34m(self, key)\u001b[39m\n\u001b[32m   4106\u001b[39m     \u001b[38;5;28;01mif\u001b[39;00m is_iterator(key):\n\u001b[32m   4107\u001b[39m         key = \u001b[38;5;28mlist\u001b[39m(key)\n\u001b[32m-> \u001b[39m\u001b[32m4108\u001b[39m     indexer = \u001b[38;5;28;43mself\u001b[39;49m\u001b[43m.\u001b[49m\u001b[43mcolumns\u001b[49m\u001b[43m.\u001b[49m\u001b[43m_get_indexer_strict\u001b[49m\u001b[43m(\u001b[49m\u001b[43mkey\u001b[49m\u001b[43m,\u001b[49m\u001b[43m \u001b[49m\u001b[33;43m\"\u001b[39;49m\u001b[33;43mcolumns\u001b[39;49m\u001b[33;43m\"\u001b[39;49m\u001b[43m)\u001b[49m[\u001b[32m1\u001b[39m]\n\u001b[32m   4110\u001b[39m \u001b[38;5;66;03m# take() does not accept boolean indexers\u001b[39;00m\n\u001b[32m   4111\u001b[39m \u001b[38;5;28;01mif\u001b[39;00m \u001b[38;5;28mgetattr\u001b[39m(indexer, \u001b[33m\"\u001b[39m\u001b[33mdtype\u001b[39m\u001b[33m\"\u001b[39m, \u001b[38;5;28;01mNone\u001b[39;00m) == \u001b[38;5;28mbool\u001b[39m:\n",
      "\u001b[36mFile \u001b[39m\u001b[32mc:\\Users\\MenaceXnadin\\Documents\\Machine Learning\\NADIN@JUPYTER(ML)\\aiml\\Lib\\site-packages\\pandas\\core\\indexes\\base.py:6200\u001b[39m, in \u001b[36mIndex._get_indexer_strict\u001b[39m\u001b[34m(self, key, axis_name)\u001b[39m\n\u001b[32m   6197\u001b[39m \u001b[38;5;28;01melse\u001b[39;00m:\n\u001b[32m   6198\u001b[39m     keyarr, indexer, new_indexer = \u001b[38;5;28mself\u001b[39m._reindex_non_unique(keyarr)\n\u001b[32m-> \u001b[39m\u001b[32m6200\u001b[39m \u001b[38;5;28;43mself\u001b[39;49m\u001b[43m.\u001b[49m\u001b[43m_raise_if_missing\u001b[49m\u001b[43m(\u001b[49m\u001b[43mkeyarr\u001b[49m\u001b[43m,\u001b[49m\u001b[43m \u001b[49m\u001b[43mindexer\u001b[49m\u001b[43m,\u001b[49m\u001b[43m \u001b[49m\u001b[43maxis_name\u001b[49m\u001b[43m)\u001b[49m\n\u001b[32m   6202\u001b[39m keyarr = \u001b[38;5;28mself\u001b[39m.take(indexer)\n\u001b[32m   6203\u001b[39m \u001b[38;5;28;01mif\u001b[39;00m \u001b[38;5;28misinstance\u001b[39m(key, Index):\n\u001b[32m   6204\u001b[39m     \u001b[38;5;66;03m# GH 42790 - Preserve name from an Index\u001b[39;00m\n",
      "\u001b[36mFile \u001b[39m\u001b[32mc:\\Users\\MenaceXnadin\\Documents\\Machine Learning\\NADIN@JUPYTER(ML)\\aiml\\Lib\\site-packages\\pandas\\core\\indexes\\base.py:6249\u001b[39m, in \u001b[36mIndex._raise_if_missing\u001b[39m\u001b[34m(self, key, indexer, axis_name)\u001b[39m\n\u001b[32m   6247\u001b[39m \u001b[38;5;28;01mif\u001b[39;00m nmissing:\n\u001b[32m   6248\u001b[39m     \u001b[38;5;28;01mif\u001b[39;00m nmissing == \u001b[38;5;28mlen\u001b[39m(indexer):\n\u001b[32m-> \u001b[39m\u001b[32m6249\u001b[39m         \u001b[38;5;28;01mraise\u001b[39;00m \u001b[38;5;167;01mKeyError\u001b[39;00m(\u001b[33mf\u001b[39m\u001b[33m\"\u001b[39m\u001b[33mNone of [\u001b[39m\u001b[38;5;132;01m{\u001b[39;00mkey\u001b[38;5;132;01m}\u001b[39;00m\u001b[33m] are in the [\u001b[39m\u001b[38;5;132;01m{\u001b[39;00maxis_name\u001b[38;5;132;01m}\u001b[39;00m\u001b[33m]\u001b[39m\u001b[33m\"\u001b[39m)\n\u001b[32m   6251\u001b[39m     not_found = \u001b[38;5;28mlist\u001b[39m(ensure_index(key)[missing_mask.nonzero()[\u001b[32m0\u001b[39m]].unique())\n\u001b[32m   6252\u001b[39m     \u001b[38;5;28;01mraise\u001b[39;00m \u001b[38;5;167;01mKeyError\u001b[39;00m(\u001b[33mf\u001b[39m\u001b[33m\"\u001b[39m\u001b[38;5;132;01m{\u001b[39;00mnot_found\u001b[38;5;132;01m}\u001b[39;00m\u001b[33m not in index\u001b[39m\u001b[33m\"\u001b[39m)\n",
      "\u001b[31mKeyError\u001b[39m: \"None of [Index(['Stage_fear', 'Drained_after_socializing'], dtype='object')] are in the [columns]\""
     ]
    }
   ],
   "source": [
    "df = pd.get_dummies(df, columns=categorical_features, drop_first=True)\n"
   ]
  },
  {
   "cell_type": "code",
   "execution_count": 265,
   "id": "43bb6bd8",
   "metadata": {},
   "outputs": [
    {
     "data": {
      "application/vnd.microsoft.datawrangler.viewer.v0+json": {
       "columns": [
        {
         "name": "index",
         "rawType": "int64",
         "type": "integer"
        },
        {
         "name": "Time_spent_Alone",
         "rawType": "float64",
         "type": "float"
        },
        {
         "name": "Social_event_attendance",
         "rawType": "float64",
         "type": "float"
        },
        {
         "name": "Going_outside",
         "rawType": "float64",
         "type": "float"
        },
        {
         "name": "Friends_circle_size",
         "rawType": "float64",
         "type": "float"
        },
        {
         "name": "Post_frequency",
         "rawType": "float64",
         "type": "float"
        },
        {
         "name": "Personality",
         "rawType": "int64",
         "type": "integer"
        },
        {
         "name": "Stage_fear_Yes",
         "rawType": "bool",
         "type": "boolean"
        },
        {
         "name": "Drained_after_socializing_Yes",
         "rawType": "bool",
         "type": "boolean"
        }
       ],
       "ref": "c643c3fe-7f28-4aaf-b49b-60b860fb7856",
       "rows": [
        [
         "0",
         "4.0",
         "4.0",
         "6.0",
         "13.0",
         "5.0",
         "0",
         "False",
         "False"
        ],
        [
         "1",
         "9.0",
         "0.0",
         "0.0",
         "0.0",
         "3.0",
         "1",
         "True",
         "True"
        ],
        [
         "2",
         "9.0",
         "1.0",
         "2.0",
         "5.0",
         "2.0",
         "1",
         "True",
         "True"
        ],
        [
         "3",
         "0.0",
         "6.0",
         "7.0",
         "14.0",
         "8.0",
         "0",
         "False",
         "False"
        ],
        [
         "4",
         "3.0",
         "9.0",
         "4.0",
         "8.0",
         "5.0",
         "0",
         "False",
         "False"
        ],
        [
         "5",
         "1.0",
         "7.0",
         "5.0",
         "6.0",
         "6.0",
         "0",
         "False",
         "False"
        ],
        [
         "6",
         "4.0",
         "9.0",
         "3.0",
         "7.0",
         "7.0",
         "0",
         "False",
         "False"
        ],
        [
         "7",
         "2.0",
         "8.0",
         "4.0",
         "7.0",
         "8.0",
         "0",
         "False",
         "False"
        ],
        [
         "8",
         "10.0",
         "1.0",
         "3.0",
         "0.0",
         "3.0",
         "1",
         "True",
         "True"
        ],
        [
         "9",
         "0.0",
         "8.0",
         "6.0",
         "13.0",
         "8.0",
         "0",
         "False",
         "False"
        ],
        [
         "10",
         "3.0",
         "9.0",
         "6.0",
         "15.0",
         "5.0",
         "0",
         "False",
         "False"
        ],
        [
         "11",
         "10.0",
         "3.0",
         "1.0",
         "4.0",
         "0.0",
         "1",
         "True",
         "True"
        ],
        [
         "12",
         "3.0",
         "6.0",
         "7.0",
         "14.0",
         "10.0",
         "0",
         "False",
         "False"
        ],
        [
         "13",
         "3.0",
         "6.0",
         "4.0",
         "10.0",
         "7.0",
         "0",
         "False",
         "False"
        ],
        [
         "14",
         "6.0",
         "3.0",
         "0.0",
         "1.0",
         "3.0",
         "1",
         "True",
         "True"
        ],
        [
         "15",
         "0.0",
         "4.0",
         "4.0",
         "8.0",
         "8.0",
         "0",
         "False",
         "False"
        ],
        [
         "16",
         "9.0",
         "0.0",
         "0.0",
         "0.0",
         "0.0",
         "1",
         "True",
         "True"
        ],
        [
         "17",
         "1.0",
         "5.0",
         "6.0",
         "10.0",
         "4.0",
         "0",
         "False",
         "False"
        ],
        [
         "18",
         "5.0",
         "3.0",
         "0.0",
         "4.0",
         "2.0",
         "1",
         "True",
         "True"
        ],
        [
         "19",
         "1.0",
         "7.0",
         "5.0",
         "12.0",
         "5.0",
         "0",
         "False",
         "False"
        ],
        [
         "20",
         "10.0",
         "3.0",
         "1.0",
         "2.0",
         "1.0",
         "1",
         "True",
         "True"
        ],
        [
         "21",
         "2.0",
         "8.0",
         "4.0",
         "13.0",
         "6.0",
         "0",
         "False",
         "False"
        ],
        [
         "22",
         "1.0",
         "6.0",
         "7.0",
         "14.0",
         "9.0",
         "0",
         "False",
         "False"
        ],
        [
         "23",
         "9.0",
         "2.0",
         "2.0",
         "1.0",
         "0.0",
         "1",
         "True",
         "True"
        ],
        [
         "24",
         "2.0",
         "8.0",
         "7.0",
         "15.0",
         "6.0",
         "0",
         "False",
         "False"
        ],
        [
         "25",
         "2.0",
         "8.0",
         "4.0",
         "11.0",
         "9.0",
         "0",
         "False",
         "False"
        ],
        [
         "26",
         "0.0",
         "6.0",
         "4.0",
         "14.0",
         "9.0",
         "0",
         "False",
         "False"
        ],
        [
         "27",
         "4.0",
         "5.0",
         "7.0",
         "6.0",
         "6.0",
         "0",
         "False",
         "False"
        ],
        [
         "28",
         "2.0",
         "6.0",
         "4.0",
         "12.0",
         "10.0",
         "0",
         "False",
         "False"
        ],
        [
         "29",
         "0.0",
         "9.0",
         "4.0",
         "14.0",
         "7.0",
         "0",
         "False",
         "False"
        ],
        [
         "30",
         "4.0",
         "10.0",
         "4.0",
         "9.0",
         "10.0",
         "0",
         "False",
         "False"
        ],
        [
         "31",
         "4.0",
         "7.0",
         "7.0",
         "7.0",
         "9.0",
         "0",
         "False",
         "False"
        ],
        [
         "32",
         "5.0",
         "3.0",
         "3.0",
         "0.0",
         "1.0",
         "1",
         "True",
         "True"
        ],
        [
         "33",
         "8.0",
         "3.0",
         "3.0",
         "2.0",
         "0.0",
         "1",
         "True",
         "False"
        ],
        [
         "34",
         "10.0",
         "1.0",
         "1.0",
         "3.0",
         "2.0",
         "1",
         "True",
         "True"
        ],
        [
         "35",
         "2.0",
         "6.0",
         "5.0",
         "14.0",
         "9.0",
         "0",
         "False",
         "False"
        ],
        [
         "36",
         "1.0",
         "4.0",
         "4.0",
         "15.0",
         "4.0",
         "0",
         "False",
         "False"
        ],
        [
         "37",
         "1.0",
         "6.0",
         "4.0",
         "10.0",
         "5.0",
         "0",
         "False",
         "False"
        ],
        [
         "38",
         "10.0",
         "1.0",
         "2.0",
         "2.0",
         "0.0",
         "1",
         "True",
         "True"
        ],
        [
         "39",
         "5.0",
         "0.0",
         "1.0",
         "5.0",
         "0.0",
         "1",
         "True",
         "True"
        ],
        [
         "40",
         "3.0",
         "5.0",
         "5.0",
         "13.0",
         "5.0",
         "0",
         "False",
         "False"
        ],
        [
         "41",
         "1.0",
         "4.0",
         "5.0",
         "6.0",
         "10.0",
         "0",
         "False",
         "False"
        ],
        [
         "42",
         "9.0",
         "1.0",
         "3.0",
         "2.0",
         "2.0",
         "1",
         "True",
         "True"
        ],
        [
         "43",
         "6.0",
         "2.0",
         "2.0",
         "2.0",
         "1.0",
         "1",
         "True",
         "True"
        ],
        [
         "44",
         "8.0",
         "2.0",
         "1.0",
         "5.0",
         "3.0",
         "1",
         "True",
         "True"
        ],
        [
         "45",
         "0.0",
         "8.0",
         "6.0",
         "6.0",
         "10.0",
         "0",
         "False",
         "False"
        ],
        [
         "46",
         "4.0",
         "7.0",
         "4.0",
         "13.0",
         "10.0",
         "0",
         "False",
         "False"
        ],
        [
         "48",
         "5.0",
         "1.0",
         "3.0",
         "3.0",
         "3.0",
         "1",
         "True",
         "True"
        ],
        [
         "49",
         "1.0",
         "5.0",
         "6.0",
         "8.0",
         "10.0",
         "0",
         "False",
         "False"
        ],
        [
         "50",
         "6.0",
         "1.0",
         "0.0",
         "3.0",
         "1.0",
         "1",
         "True",
         "True"
        ]
       ],
       "shape": {
        "columns": 8,
        "rows": 2512
       }
      },
      "text/html": [
       "<div>\n",
       "<style scoped>\n",
       "    .dataframe tbody tr th:only-of-type {\n",
       "        vertical-align: middle;\n",
       "    }\n",
       "\n",
       "    .dataframe tbody tr th {\n",
       "        vertical-align: top;\n",
       "    }\n",
       "\n",
       "    .dataframe thead th {\n",
       "        text-align: right;\n",
       "    }\n",
       "</style>\n",
       "<table border=\"1\" class=\"dataframe\">\n",
       "  <thead>\n",
       "    <tr style=\"text-align: right;\">\n",
       "      <th></th>\n",
       "      <th>Time_spent_Alone</th>\n",
       "      <th>Social_event_attendance</th>\n",
       "      <th>Going_outside</th>\n",
       "      <th>Friends_circle_size</th>\n",
       "      <th>Post_frequency</th>\n",
       "      <th>Personality</th>\n",
       "      <th>Stage_fear_Yes</th>\n",
       "      <th>Drained_after_socializing_Yes</th>\n",
       "    </tr>\n",
       "  </thead>\n",
       "  <tbody>\n",
       "    <tr>\n",
       "      <th>0</th>\n",
       "      <td>4.0</td>\n",
       "      <td>4.0</td>\n",
       "      <td>6.0</td>\n",
       "      <td>13.0</td>\n",
       "      <td>5.0</td>\n",
       "      <td>0</td>\n",
       "      <td>False</td>\n",
       "      <td>False</td>\n",
       "    </tr>\n",
       "    <tr>\n",
       "      <th>1</th>\n",
       "      <td>9.0</td>\n",
       "      <td>0.0</td>\n",
       "      <td>0.0</td>\n",
       "      <td>0.0</td>\n",
       "      <td>3.0</td>\n",
       "      <td>1</td>\n",
       "      <td>True</td>\n",
       "      <td>True</td>\n",
       "    </tr>\n",
       "    <tr>\n",
       "      <th>2</th>\n",
       "      <td>9.0</td>\n",
       "      <td>1.0</td>\n",
       "      <td>2.0</td>\n",
       "      <td>5.0</td>\n",
       "      <td>2.0</td>\n",
       "      <td>1</td>\n",
       "      <td>True</td>\n",
       "      <td>True</td>\n",
       "    </tr>\n",
       "    <tr>\n",
       "      <th>3</th>\n",
       "      <td>0.0</td>\n",
       "      <td>6.0</td>\n",
       "      <td>7.0</td>\n",
       "      <td>14.0</td>\n",
       "      <td>8.0</td>\n",
       "      <td>0</td>\n",
       "      <td>False</td>\n",
       "      <td>False</td>\n",
       "    </tr>\n",
       "    <tr>\n",
       "      <th>4</th>\n",
       "      <td>3.0</td>\n",
       "      <td>9.0</td>\n",
       "      <td>4.0</td>\n",
       "      <td>8.0</td>\n",
       "      <td>5.0</td>\n",
       "      <td>0</td>\n",
       "      <td>False</td>\n",
       "      <td>False</td>\n",
       "    </tr>\n",
       "    <tr>\n",
       "      <th>...</th>\n",
       "      <td>...</td>\n",
       "      <td>...</td>\n",
       "      <td>...</td>\n",
       "      <td>...</td>\n",
       "      <td>...</td>\n",
       "      <td>...</td>\n",
       "      <td>...</td>\n",
       "      <td>...</td>\n",
       "    </tr>\n",
       "    <tr>\n",
       "      <th>2894</th>\n",
       "      <td>0.0</td>\n",
       "      <td>9.0</td>\n",
       "      <td>3.0</td>\n",
       "      <td>12.0</td>\n",
       "      <td>3.0</td>\n",
       "      <td>0</td>\n",
       "      <td>False</td>\n",
       "      <td>False</td>\n",
       "    </tr>\n",
       "    <tr>\n",
       "      <th>2896</th>\n",
       "      <td>3.0</td>\n",
       "      <td>8.0</td>\n",
       "      <td>3.0</td>\n",
       "      <td>14.0</td>\n",
       "      <td>9.0</td>\n",
       "      <td>0</td>\n",
       "      <td>False</td>\n",
       "      <td>False</td>\n",
       "    </tr>\n",
       "    <tr>\n",
       "      <th>2897</th>\n",
       "      <td>4.0</td>\n",
       "      <td>1.0</td>\n",
       "      <td>1.0</td>\n",
       "      <td>4.0</td>\n",
       "      <td>0.0</td>\n",
       "      <td>1</td>\n",
       "      <td>True</td>\n",
       "      <td>True</td>\n",
       "    </tr>\n",
       "    <tr>\n",
       "      <th>2898</th>\n",
       "      <td>11.0</td>\n",
       "      <td>1.0</td>\n",
       "      <td>3.0</td>\n",
       "      <td>2.0</td>\n",
       "      <td>0.0</td>\n",
       "      <td>1</td>\n",
       "      <td>True</td>\n",
       "      <td>True</td>\n",
       "    </tr>\n",
       "    <tr>\n",
       "      <th>2899</th>\n",
       "      <td>3.0</td>\n",
       "      <td>6.0</td>\n",
       "      <td>6.0</td>\n",
       "      <td>6.0</td>\n",
       "      <td>9.0</td>\n",
       "      <td>0</td>\n",
       "      <td>False</td>\n",
       "      <td>False</td>\n",
       "    </tr>\n",
       "  </tbody>\n",
       "</table>\n",
       "<p>2512 rows × 8 columns</p>\n",
       "</div>"
      ],
      "text/plain": [
       "      Time_spent_Alone  Social_event_attendance  Going_outside  \\\n",
       "0                  4.0                      4.0            6.0   \n",
       "1                  9.0                      0.0            0.0   \n",
       "2                  9.0                      1.0            2.0   \n",
       "3                  0.0                      6.0            7.0   \n",
       "4                  3.0                      9.0            4.0   \n",
       "...                ...                      ...            ...   \n",
       "2894               0.0                      9.0            3.0   \n",
       "2896               3.0                      8.0            3.0   \n",
       "2897               4.0                      1.0            1.0   \n",
       "2898              11.0                      1.0            3.0   \n",
       "2899               3.0                      6.0            6.0   \n",
       "\n",
       "      Friends_circle_size  Post_frequency  Personality  Stage_fear_Yes  \\\n",
       "0                    13.0             5.0            0           False   \n",
       "1                     0.0             3.0            1            True   \n",
       "2                     5.0             2.0            1            True   \n",
       "3                    14.0             8.0            0           False   \n",
       "4                     8.0             5.0            0           False   \n",
       "...                   ...             ...          ...             ...   \n",
       "2894                 12.0             3.0            0           False   \n",
       "2896                 14.0             9.0            0           False   \n",
       "2897                  4.0             0.0            1            True   \n",
       "2898                  2.0             0.0            1            True   \n",
       "2899                  6.0             9.0            0           False   \n",
       "\n",
       "      Drained_after_socializing_Yes  \n",
       "0                             False  \n",
       "1                              True  \n",
       "2                              True  \n",
       "3                             False  \n",
       "4                             False  \n",
       "...                             ...  \n",
       "2894                          False  \n",
       "2896                          False  \n",
       "2897                           True  \n",
       "2898                           True  \n",
       "2899                          False  \n",
       "\n",
       "[2512 rows x 8 columns]"
      ]
     },
     "execution_count": 265,
     "metadata": {},
     "output_type": "execute_result"
    }
   ],
   "source": [
    "df"
   ]
  },
  {
   "cell_type": "code",
   "execution_count": 266,
   "id": "34bdac0a",
   "metadata": {},
   "outputs": [],
   "source": [
    "encoded_columns = [col for col in df.columns if col != target]"
   ]
  },
  {
   "cell_type": "code",
   "execution_count": 267,
   "id": "507ea068",
   "metadata": {},
   "outputs": [],
   "source": [
    "for col in numerical_features:\n",
    "    Q1 = df[col].quantile(0.25)\n",
    "    Q3 = df[col].quantile(0.75)\n",
    "    IQR = Q3 - Q1\n",
    "    lower_bound = Q1 - 1.5 * IQR\n",
    "    upper_bound = Q3 + 1.5 * IQR\n",
    "    df[col] = df[col].clip(lower=lower_bound, upper=upper_bound)"
   ]
  },
  {
   "cell_type": "code",
   "execution_count": 268,
   "id": "5fcd6337",
   "metadata": {},
   "outputs": [
    {
     "data": {
      "application/vnd.microsoft.datawrangler.viewer.v0+json": {
       "columns": [
        {
         "name": "index",
         "rawType": "object",
         "type": "string"
        },
        {
         "name": "Time_spent_Alone",
         "rawType": "float64",
         "type": "float"
        },
        {
         "name": "Social_event_attendance",
         "rawType": "float64",
         "type": "float"
        },
        {
         "name": "Going_outside",
         "rawType": "float64",
         "type": "float"
        },
        {
         "name": "Friends_circle_size",
         "rawType": "float64",
         "type": "float"
        },
        {
         "name": "Post_frequency",
         "rawType": "float64",
         "type": "float"
        },
        {
         "name": "Personality",
         "rawType": "float64",
         "type": "float"
        }
       ],
       "ref": "e99d8629-33e6-4eaf-b592-fe1e63128458",
       "rows": [
        [
         "count",
         "2512.0",
         "2512.0",
         "2512.0",
         "2512.0",
         "2512.0",
         "2512.0"
        ],
        [
         "mean",
         "4.179936305732484",
         "4.213773885350318",
         "3.198646496815287",
         "6.589171974522293",
         "3.8105095541401273",
         "0.4359076433121019"
        ],
        [
         "std",
         "3.4092121545685874",
         "2.8736989280540017",
         "2.2166485117149093",
         "4.260626393748638",
         "2.9153600109654927",
         "0.49597388621553984"
        ],
        [
         "min",
         "0.0",
         "0.0",
         "0.0",
         "0.0",
         "0.0",
         "0.0"
        ],
        [
         "25%",
         "1.0",
         "2.0",
         "1.0",
         "3.0",
         "1.0",
         "0.0"
        ],
        [
         "50%",
         "3.0",
         "4.0",
         "3.0",
         "6.0",
         "3.0",
         "0.0"
        ],
        [
         "75%",
         "7.0",
         "7.0",
         "5.0",
         "10.0",
         "6.0",
         "1.0"
        ],
        [
         "max",
         "11.0",
         "10.0",
         "7.0",
         "15.0",
         "10.0",
         "1.0"
        ]
       ],
       "shape": {
        "columns": 6,
        "rows": 8
       }
      },
      "text/html": [
       "<div>\n",
       "<style scoped>\n",
       "    .dataframe tbody tr th:only-of-type {\n",
       "        vertical-align: middle;\n",
       "    }\n",
       "\n",
       "    .dataframe tbody tr th {\n",
       "        vertical-align: top;\n",
       "    }\n",
       "\n",
       "    .dataframe thead th {\n",
       "        text-align: right;\n",
       "    }\n",
       "</style>\n",
       "<table border=\"1\" class=\"dataframe\">\n",
       "  <thead>\n",
       "    <tr style=\"text-align: right;\">\n",
       "      <th></th>\n",
       "      <th>Time_spent_Alone</th>\n",
       "      <th>Social_event_attendance</th>\n",
       "      <th>Going_outside</th>\n",
       "      <th>Friends_circle_size</th>\n",
       "      <th>Post_frequency</th>\n",
       "      <th>Personality</th>\n",
       "    </tr>\n",
       "  </thead>\n",
       "  <tbody>\n",
       "    <tr>\n",
       "      <th>count</th>\n",
       "      <td>2512.000000</td>\n",
       "      <td>2512.000000</td>\n",
       "      <td>2512.000000</td>\n",
       "      <td>2512.000000</td>\n",
       "      <td>2512.00000</td>\n",
       "      <td>2512.000000</td>\n",
       "    </tr>\n",
       "    <tr>\n",
       "      <th>mean</th>\n",
       "      <td>4.179936</td>\n",
       "      <td>4.213774</td>\n",
       "      <td>3.198646</td>\n",
       "      <td>6.589172</td>\n",
       "      <td>3.81051</td>\n",
       "      <td>0.435908</td>\n",
       "    </tr>\n",
       "    <tr>\n",
       "      <th>std</th>\n",
       "      <td>3.409212</td>\n",
       "      <td>2.873699</td>\n",
       "      <td>2.216649</td>\n",
       "      <td>4.260626</td>\n",
       "      <td>2.91536</td>\n",
       "      <td>0.495974</td>\n",
       "    </tr>\n",
       "    <tr>\n",
       "      <th>min</th>\n",
       "      <td>0.000000</td>\n",
       "      <td>0.000000</td>\n",
       "      <td>0.000000</td>\n",
       "      <td>0.000000</td>\n",
       "      <td>0.00000</td>\n",
       "      <td>0.000000</td>\n",
       "    </tr>\n",
       "    <tr>\n",
       "      <th>25%</th>\n",
       "      <td>1.000000</td>\n",
       "      <td>2.000000</td>\n",
       "      <td>1.000000</td>\n",
       "      <td>3.000000</td>\n",
       "      <td>1.00000</td>\n",
       "      <td>0.000000</td>\n",
       "    </tr>\n",
       "    <tr>\n",
       "      <th>50%</th>\n",
       "      <td>3.000000</td>\n",
       "      <td>4.000000</td>\n",
       "      <td>3.000000</td>\n",
       "      <td>6.000000</td>\n",
       "      <td>3.00000</td>\n",
       "      <td>0.000000</td>\n",
       "    </tr>\n",
       "    <tr>\n",
       "      <th>75%</th>\n",
       "      <td>7.000000</td>\n",
       "      <td>7.000000</td>\n",
       "      <td>5.000000</td>\n",
       "      <td>10.000000</td>\n",
       "      <td>6.00000</td>\n",
       "      <td>1.000000</td>\n",
       "    </tr>\n",
       "    <tr>\n",
       "      <th>max</th>\n",
       "      <td>11.000000</td>\n",
       "      <td>10.000000</td>\n",
       "      <td>7.000000</td>\n",
       "      <td>15.000000</td>\n",
       "      <td>10.00000</td>\n",
       "      <td>1.000000</td>\n",
       "    </tr>\n",
       "  </tbody>\n",
       "</table>\n",
       "</div>"
      ],
      "text/plain": [
       "       Time_spent_Alone  Social_event_attendance  Going_outside  \\\n",
       "count       2512.000000              2512.000000    2512.000000   \n",
       "mean           4.179936                 4.213774       3.198646   \n",
       "std            3.409212                 2.873699       2.216649   \n",
       "min            0.000000                 0.000000       0.000000   \n",
       "25%            1.000000                 2.000000       1.000000   \n",
       "50%            3.000000                 4.000000       3.000000   \n",
       "75%            7.000000                 7.000000       5.000000   \n",
       "max           11.000000                10.000000       7.000000   \n",
       "\n",
       "       Friends_circle_size  Post_frequency  Personality  \n",
       "count          2512.000000      2512.00000  2512.000000  \n",
       "mean              6.589172         3.81051     0.435908  \n",
       "std               4.260626         2.91536     0.495974  \n",
       "min               0.000000         0.00000     0.000000  \n",
       "25%               3.000000         1.00000     0.000000  \n",
       "50%               6.000000         3.00000     0.000000  \n",
       "75%              10.000000         6.00000     1.000000  \n",
       "max              15.000000        10.00000     1.000000  "
      ]
     },
     "execution_count": 268,
     "metadata": {},
     "output_type": "execute_result"
    }
   ],
   "source": [
    "df.describe()"
   ]
  },
  {
   "cell_type": "code",
   "execution_count": 270,
   "id": "d79beeef",
   "metadata": {},
   "outputs": [],
   "source": [
    "#splitting the data\n",
    "X = df.drop(columns=[target])\n",
    "y = df[target]"
   ]
  },
  {
   "cell_type": "code",
   "execution_count": 271,
   "id": "034d655b",
   "metadata": {},
   "outputs": [],
   "source": [
    "from sklearn.model_selection import train_test_split\n",
    "x_train,x_test,y_train,y_test= train_test_split(X,y,test_size=0.2,random_state=42,stratify=y)"
   ]
  },
  {
   "cell_type": "code",
   "execution_count": 272,
   "id": "4cc3f3dd",
   "metadata": {},
   "outputs": [],
   "source": [
    "from imblearn.over_sampling import SMOTE\n",
    "smote = SMOTE(random_state=42)\n",
    "x_train, y_train = smote.fit_resample(x_train, y_train)\n"
   ]
  },
  {
   "cell_type": "code",
   "execution_count": 273,
   "id": "7c672377",
   "metadata": {},
   "outputs": [],
   "source": [
    "from sklearn.preprocessing import StandardScaler\n",
    "scaler = StandardScaler()\n",
    "x_train_scaled = scaler.fit_transform(x_train)\n",
    "x_test_scaled = scaler.transform(x_test)"
   ]
  },
  {
   "cell_type": "code",
   "execution_count": 274,
   "id": "b463ee91",
   "metadata": {},
   "outputs": [],
   "source": [
    "from sklearn.linear_model import LogisticRegression\n",
    "from sklearn.svm import SVC\n",
    "from sklearn.ensemble import RandomForestClassifier, GradientBoostingClassifier\n",
    "from sklearn.neighbors import KNeighborsClassifier\n",
    "from sklearn.tree import DecisionTreeClassifier\n",
    "\n",
    "from xgboost import XGBClassifier\n",
    "models = {\n",
    "    'logistic': {\n",
    "        'model': LogisticRegression(max_iter=1000),\n",
    "        'use_scaled': True,\n",
    "        'params': {'C': np.logspace(-4, 4, 20), 'solver': ['lbfgs', 'liblinear']}\n",
    "    },\n",
    "    'svm': {\n",
    "        'model': SVC(probability=True),\n",
    "        'use_scaled': True,\n",
    "        'params': {'C': np.logspace(-3, 3, 20), 'kernel': ['rbf', 'linear'], 'gamma': ['scale', 'auto', 0.1, 1]}\n",
    "    },\n",
    "    'rf': {\n",
    "        'model': RandomForestClassifier(random_state=42),\n",
    "        'use_scaled': False,\n",
    "        'params': {'n_estimators': [100, 150], 'max_depth': [None, 10], 'min_samples_split': [2, 5]}\n",
    "    },\n",
    "    'gb': {\n",
    "        'model': GradientBoostingClassifier(random_state=42),\n",
    "        'use_scaled': False,\n",
    "        'params': {'n_estimators': [100, 200, 300], 'learning_rate': [0.01, 0.1, 0.2], 'max_depth': [3, 5, 7]}\n",
    "    },\n",
    "    'knn': {\n",
    "        'model': KNeighborsClassifier(),\n",
    "        'use_scaled': True,\n",
    "        'params': {'n_neighbors': [3, 5, 7, 9], 'weights': ['uniform', 'distance']}\n",
    "    },\n",
    "    'dt': {\n",
    "        'model': DecisionTreeClassifier(random_state=42),\n",
    "        'use_scaled': False,\n",
    "        'params': {'max_depth': [None, 5, 10, 15], 'min_samples_split': [2, 5, 10]}\n",
    "    },\n",
    "    'xgb': {\n",
    "        'model': XGBClassifier(random_state=42, eval_metric='logloss'),\n",
    "        'use_scaled': False,\n",
    "        'params': {'n_estimators': [100, 150], 'learning_rate': [0.05, 0.1], 'max_depth': [3, 5], 'subsample': [0.8]}\n",
    "    }\n",
    "}"
   ]
  },
  {
   "cell_type": "code",
   "execution_count": null,
   "id": "e5812f5a",
   "metadata": {},
   "outputs": [],
   "source": [
    "from sklearn.model_selection import RandomizedSearchCV\n",
    "results = []\n",
    "for model_name, mp in models.items():\n",
    "    clf = RandomizedSearchCV(mp['model'], mp['params'], n_iter=20, cv=3, scoring='f1_weighted', n_jobs=-1, random_state=42)\n",
    "    x_train_current = x_train_scaled if mp['use_scaled'] else x_train\n",
    "    clf.fit(x_train_current, y_train)\n",
    "    results.append({\n",
    "        'model': model_name,\n",
    "        'best_score': clf.best_score_,\n",
    "        'best_params': clf.best_params_\n",
    "    })"
   ]
  },
  {
   "cell_type": "code",
   "execution_count": null,
   "id": "26e87cad",
   "metadata": {},
   "outputs": [],
   "source": [
    "df_results = pd.DataFrame(results)\n",
    "print(\"\\nModel Performance (Cross-Validation F1-Weighted Scores):\")\n",
    "print(df_results)"
   ]
  }
 ],
 "metadata": {
  "kernelspec": {
   "display_name": "aiml",
   "language": "python",
   "name": "python3"
  },
  "language_info": {
   "codemirror_mode": {
    "name": "ipython",
    "version": 3
   },
   "file_extension": ".py",
   "mimetype": "text/x-python",
   "name": "python",
   "nbconvert_exporter": "python",
   "pygments_lexer": "ipython3",
   "version": "3.12.10"
  }
 },
 "nbformat": 4,
 "nbformat_minor": 5
}
